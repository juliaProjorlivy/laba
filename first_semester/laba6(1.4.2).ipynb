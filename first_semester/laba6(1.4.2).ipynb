{
 "cells": [
  {
   "cell_type": "code",
   "execution_count": 18,
   "id": "8cf3dccb-4fae-410f-b83c-6c4dbdead15c",
   "metadata": {},
   "outputs": [],
   "source": [
    "import pandas as pd\n",
    "import numpy as np\n",
    "import matplotlib.pyplot as plt\n",
    "\n",
    "plt.style.use('fivethirtyeight')\n",
    "pi = np.pi\n",
    "g = 10"
   ]
  },
  {
   "cell_type": "markdown",
   "id": "2f6656d0-6e2d-4a76-8b47-97139288730b",
   "metadata": {},
   "source": [
    "# data"
   ]
  },
  {
   "cell_type": "code",
   "execution_count": 19,
   "id": "74824040-1428-43bf-8d8c-2f78f377bfae",
   "metadata": {},
   "outputs": [],
   "source": [
    "m_st = 868.2 * 10 **(-3)\n",
    "m_p1 = 78.3 * 10**(-3)\n",
    "m_p2 = 79.6 * 10**(-3)\n",
    "m1 = 1483.8 * 10**(-3)\n",
    "m2 = 1508 * 10 **(-3)\n",
    "l_st = 1\n",
    "L = 1 - 48 * 10**(-2)\n",
    "l2 = 13 * 10**(-2)\n",
    "l1 = 39 * 10**(-2)\n",
    "M = m_st + m_p1 + m_p2 + m1 + m2\n"
   ]
  },
  {
   "cell_type": "code",
   "execution_count": 20,
   "id": "4cc96565-4f11-44ca-ae9b-f275feda5919",
   "metadata": {},
   "outputs": [
    {
     "data": {
      "text/plain": [
       "4.0179"
      ]
     },
     "execution_count": 20,
     "metadata": {},
     "output_type": "execute_result"
    }
   ],
   "source": [
    "M"
   ]
  },
  {
   "cell_type": "code",
   "execution_count": 21,
   "id": "116b849c-5295-405e-8ba2-e83adee007a2",
   "metadata": {},
   "outputs": [],
   "source": [
    "I_st = m_st*(((l_st)**2 / 12) + (L/2)**2) + m_p2 * L**2"
   ]
  },
  {
   "cell_type": "code",
   "execution_count": 22,
   "id": "fc43cef8-d426-47f2-8b47-6bea7c051f21",
   "metadata": {},
   "outputs": [],
   "source": [
    "def b1(b2):\n",
    "    return (M*(L - l2) - m_st*(L/2) - m_p2 * (L) - m2 * (b2 + L)) / m1"
   ]
  },
  {
   "cell_type": "code",
   "execution_count": 23,
   "id": "a9a98a31-a274-4730-89e4-f15615b48a1c",
   "metadata": {},
   "outputs": [],
   "source": [
    "def I_gr(b2):\n",
    "    return m1*(L - b1(b2))**2 + m2 * b2**2"
   ]
  },
  {
   "cell_type": "code",
   "execution_count": null,
   "id": "e69c1768-df5e-4aca-8fbf-cfaf5197f90e",
   "metadata": {},
   "outputs": [],
   "source": []
  },
  {
   "cell_type": "code",
   "execution_count": 24,
   "id": "12ce54b9-5e26-4d95-b567-1218b3064e07",
   "metadata": {},
   "outputs": [],
   "source": [
    "I_p = M * L * l2"
   ]
  },
  {
   "cell_type": "code",
   "execution_count": 25,
   "id": "9f826417-00e1-424d-8802-0dacbc168577",
   "metadata": {},
   "outputs": [
    {
     "data": {
      "text/plain": [
       "0.27161004"
      ]
     },
     "execution_count": 25,
     "metadata": {},
     "output_type": "execute_result"
    }
   ],
   "source": [
    "I_p"
   ]
  },
  {
   "cell_type": "code",
   "execution_count": 26,
   "id": "d5e4a8de-842a-4675-ac55-bb76be82a4c6",
   "metadata": {},
   "outputs": [
    {
     "data": {
      "text/plain": [
       "0.15256416"
      ]
     },
     "execution_count": 26,
     "metadata": {},
     "output_type": "execute_result"
    }
   ],
   "source": [
    "I_st"
   ]
  },
  {
   "cell_type": "code",
   "execution_count": 27,
   "id": "94a26c93-3044-4862-b675-f0b3331843e4",
   "metadata": {},
   "outputs": [
    {
     "data": {
      "text/plain": [
       "0.11904587999999999"
      ]
     },
     "execution_count": 27,
     "metadata": {},
     "output_type": "execute_result"
    }
   ],
   "source": [
    "I_p - I_st\n"
   ]
  },
  {
   "cell_type": "code",
   "execution_count": 28,
   "id": "8ce187de-6dbb-4810-a768-4bafdc794b68",
   "metadata": {},
   "outputs": [
    {
     "name": "stdout",
     "output_type": "stream",
     "text": [
      "[0, 5, 10, 15, 20, 25]\n",
      "[0.044125935194096334, 0.07773264714988556, 0.12654233255223088, 0.19055499140113247, 0.2697706236965901, 0.36418922943860377]\n",
      "0.2697706236965901\n"
     ]
    },
    {
     "data": {
      "image/png": "[encoded data removed]",
      "text/plain": [
       "<Figure size 640x480 with 1 Axes>"
      ]
     },
     "metadata": {},
     "output_type": "display_data"
    }
   ],
   "source": [
    "\n",
    "\n",
    "b_2 = [x for x in range(0, round((L / 2) * 100), 5)]\n",
    "print(b_2)\n",
    "# b_1 = [I_gr(b_2[i]) for i in range(len(b_2))]\n",
    "i_gr = [I_gr((b_2[i] / 100)) for i in range(len(b_2))]\n",
    "print(i_gr)\n",
    "print(I_gr(0.2))\n",
    "y = I_p - I_st\n",
    "y = [y] * len(b_2)\n",
    "\n",
    "# plt.errorbar(x3, y3, xerr=time_fault_clnd, yerr = i_fault_clnd, fmt='-', ecolor='red', capsize = 8)\n",
    "\n",
    "plt.plot(b_2, i_gr, color = 'green', markersize = 5)\n",
    "plt.plot(b_2, y, color = 'green', markersize = 5)\n",
    "plt.scatter(b_2, i_gr)\n",
    "\n",
    "# plt.plot(x2, y, ':', color = 'black', markersize = 1)\n",
    "\n",
    "plt.show()"
   ]
  },
  {
   "cell_type": "code",
   "execution_count": 29,
   "id": "28b8f779-3f5a-48a0-8837-cef204b93c69",
   "metadata": {},
   "outputs": [
    {
     "data": {
      "text/plain": [
       "0.25608370400323477"
      ]
     },
     "execution_count": 29,
     "metadata": {},
     "output_type": "execute_result"
    }
   ],
   "source": [
    "b1(0.09)"
   ]
  },
  {
   "cell_type": "code",
   "execution_count": null,
   "id": "a0cebb57-3de3-4c6b-aa53-40583cc5c3ac",
   "metadata": {},
   "outputs": [],
   "source": []
  },
  {
   "cell_type": "markdown",
   "id": "4fc4b227-a030-440a-8f0a-9f8b50e7bc6d",
   "metadata": {},
   "source": [
    "# data Time"
   ]
  },
  {
   "cell_type": "code",
   "execution_count": 30,
   "id": "d64477d6-1e29-4aef-bbd6-3193fa6e07e1",
   "metadata": {},
   "outputs": [],
   "source": [
    "T_1 = [29.01, 29.01, 29.01, 29.01]\n",
    "T_2 = [29.04, 29.03, 29.03, 29.03]"
   ]
  },
  {
   "cell_type": "code",
   "execution_count": 31,
   "id": "0875b5b3-3c20-446b-84bd-201c31981235",
   "metadata": {},
   "outputs": [
    {
     "data": {
      "text/plain": [
       "1.4505000000000001"
      ]
     },
     "execution_count": 31,
     "metadata": {},
     "output_type": "execute_result"
    }
   ],
   "source": [
    "T1= T_1[0]/20\n",
    "T1"
   ]
  },
  {
   "cell_type": "code",
   "execution_count": 32,
   "id": "d4f3ba0b-894b-44ee-84b9-d42444bd493a",
   "metadata": {},
   "outputs": [
    {
     "data": {
      "text/plain": [
       "1.4515"
      ]
     },
     "execution_count": 32,
     "metadata": {},
     "output_type": "execute_result"
    }
   ],
   "source": [
    "T2 = T_2[1]/20\n",
    "T2"
   ]
  },
  {
   "cell_type": "code",
   "execution_count": 33,
   "id": "ec6a510a-3495-43dc-8b2e-9b7f6aa91c00",
   "metadata": {},
   "outputs": [
    {
     "data": {
      "text/plain": [
       "0.0006894174422612132"
      ]
     },
     "execution_count": 33,
     "metadata": {},
     "output_type": "execute_result"
    }
   ],
   "source": [
    "DT = (T2 - T1)/T1\n",
    "DT"
   ]
  },
  {
   "cell_type": "code",
   "execution_count": 34,
   "id": "b4bdd330-cb1a-4bb9-8f76-8f426445e3d6",
   "metadata": {},
   "outputs": [
    {
     "data": {
      "text/plain": [
       "0.0009999999999998899"
      ]
     },
     "execution_count": 34,
     "metadata": {},
     "output_type": "execute_result"
    }
   ],
   "source": [
    "T2-T1"
   ]
  },
  {
   "cell_type": "code",
   "execution_count": 61,
   "id": "843f9ddd-1c1f-4f6e-ae9b-6b0389cc2e2b",
   "metadata": {},
   "outputs": [
    {
     "data": {
      "text/plain": [
       "0.009762550891061208"
      ]
     },
     "execution_count": 61,
     "metadata": {},
     "output_type": "execute_result"
    }
   ],
   "source": [
    "((0.5/52)**2 + 4*(0.001/1.4505)**2 + 8*((0.5 * 0.001)/(1.4505))**2 + 8*((0.5*0.001*0.01)/(1.4505 * 26))**2 )**0.5"
   ]
  },
  {
   "cell_type": "code",
   "execution_count": 62,
   "id": "cd762cfe-7853-4d26-acd1-52633d5917c8",
   "metadata": {},
   "outputs": [
    {
     "data": {
      "text/plain": [
       "9.763987860764212"
      ]
     },
     "execution_count": 62,
     "metadata": {},
     "output_type": "execute_result"
    }
   ],
   "source": [
    "((2*pi)**2)*(l1**2 - l2**2)/(l1*T1**2 - l2 * T2**2)"
   ]
  },
  {
   "cell_type": "code",
   "execution_count": 63,
   "id": "8529eefa-96e8-4cae-8318-58b9ac64a2d9",
   "metadata": {},
   "outputs": [
    {
     "data": {
      "text/plain": [
       "0.0249888764902194"
      ]
     },
     "execution_count": 63,
     "metadata": {},
     "output_type": "execute_result"
    }
   ],
   "source": [
    "0.00255929 * 9.76398786"
   ]
  },
  {
   "cell_type": "code",
   "execution_count": 65,
   "id": "aaed6422-50b7-4588-8482-7585b625ae7b",
   "metadata": {},
   "outputs": [
    {
     "data": {
      "text/plain": [
       "0.09471068224200001"
      ]
     },
     "execution_count": 65,
     "metadata": {},
     "output_type": "execute_result"
    }
   ],
   "source": [
    "\n",
    "0.0097* 9.76398786"
   ]
  },
  {
   "cell_type": "code",
   "execution_count": null,
   "id": "5bcdf69e-4991-429e-82bb-5abbf062cf45",
   "metadata": {},
   "outputs": [],
   "source": []
  }
 ],
 "metadata": {
  "kernelspec": {
   "display_name": "Python 3 (ipykernel)",
   "language": "python",
   "name": "python3"
  },
  "language_info": {
   "codemirror_mode": {
    "name": "ipython",
    "version": 3
   },
   "file_extension": ".py",
   "mimetype": "text/x-python",
   "name": "python",
   "nbconvert_exporter": "python",
   "pygments_lexer": "ipython3",
   "version": "3.10.12"
  }
 },
 "nbformat": 4,
 "nbformat_minor": 5
}
