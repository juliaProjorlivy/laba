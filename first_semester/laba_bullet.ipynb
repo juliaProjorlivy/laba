{
 "cells": [
  {
   "cell_type": "code",
   "execution_count": 19,
   "id": "b40f25e1-ec38-485b-b788-3f8146cdda0a",
   "metadata": {},
   "outputs": [],
   "source": [
    "import pandas as pd\n",
    "import numpy as np\n",
    "import matplotlib.pyplot as plt\n",
    "\n",
    "plt.style.use('fivethirtyeight')\n",
    "pi = np.pi\n",
    "g = 10"
   ]
  },
  {
   "cell_type": "code",
   "execution_count": 20,
   "id": "815bebd4-ef41-4e4e-8532-90ad9ab4a3c4",
   "metadata": {},
   "outputs": [],
   "source": [
    "def average_value(arr):\n",
    "    return sum(arr) / len(arr)\n",
    "def average_fault(arr):\n",
    "    len_arr = len(arr)\n",
    "    average_value = sum(arr)/len_arr\n",
    "    res = 0\n",
    "    for i in range(len(arr)):\n",
    "        res+=(arr[i] - average_value)**2\n",
    "    res = (res/(len_arr * (len_arr - 1)))**0.5\n",
    "    return res"
   ]
  },
  {
   "cell_type": "markdown",
   "id": "0ebf0ee4-c005-4989-9c75-48f80df61c86",
   "metadata": {},
   "source": [
    "# Data 1"
   ]
  },
  {
   "cell_type": "code",
   "execution_count": 21,
   "id": "189f6aa5-71ae-4851-ad9f-b682289a5420",
   "metadata": {},
   "outputs": [],
   "source": [
    "m_1 = [0.506, 0.49, 0.505, 0.496, 0.511] ## in grams\n",
    "m_1 = [x * 10**(-3) for x in m_1]\n",
    "dm = 0.002 * 10**(-3)\n",
    "\n",
    "# x_1 = [46, 45, 47, 46, 49] ## in milimtrs\n",
    "x_1 = [11.5, 11.25, 11.75, 11.5, 12.25]\n",
    "x_1 = [x* 10**(-3) for x in x_1]\n",
    "\n",
    "L = 223.2 * 10**(-2)\n",
    "dL = 10**(-3)\n",
    "M = 2900 * 10**(-3)\n",
    "dM = 0.005\n",
    "\n",
    "n = 5"
   ]
  },
  {
   "cell_type": "code",
   "execution_count": 22,
   "id": "61a1ff3f-0790-4b6d-9e54-2c814a63e651",
   "metadata": {},
   "outputs": [],
   "source": [
    "const_1 = (M)*(g / L)**0.5"
   ]
  },
  {
   "cell_type": "code",
   "execution_count": 23,
   "id": "e39ac2c0-715b-44a9-ad79-062be18df317",
   "metadata": {},
   "outputs": [],
   "source": [
    "v_1 = [const_1 * x_1[i] / m_1[i] for i in range(n)]"
   ]
  },
  {
   "cell_type": "code",
   "execution_count": 24,
   "id": "81d50a19-a526-4e1c-8c17-75f6660ec5b4",
   "metadata": {},
   "outputs": [],
   "source": [
    "dv1_rel = [((dM/M)**2 + (dm/m_1[i])**2 + (dL / L)**2 + (dL/(2 * x_1[i]))**2)**0.5 for i in range(n)] \n",
    "dv1 = [v_1[i] * dv1_rel[i] for i in range(n)]"
   ]
  },
  {
   "cell_type": "code",
   "execution_count": 75,
   "id": "1b0009ef-75d7-4389-881f-ba65bee2e0b5",
   "metadata": {},
   "outputs": [
    {
     "data": {
      "text/plain": [
       "2.9726516052318677e-06"
      ]
     },
     "execution_count": 75,
     "metadata": {},
     "output_type": "execute_result"
    }
   ],
   "source": [
    "(dM/M)**2"
   ]
  },
  {
   "cell_type": "code",
   "execution_count": 79,
   "id": "6f18389f-8bf0-4baf-9382-0b57839bfb80",
   "metadata": {},
   "outputs": [
    {
     "data": {
      "text/plain": [
       "2.0072969257846127e-07"
      ]
     },
     "execution_count": 79,
     "metadata": {},
     "output_type": "execute_result"
    }
   ],
   "source": [
    "(dL / L)**2"
   ]
  },
  {
   "cell_type": "code",
   "execution_count": 78,
   "id": "c7b5f5c5-b7f9-4a7a-9494-e6abe3052691",
   "metadata": {},
   "outputs": [
    {
     "data": {
      "text/plain": [
       "0.0016659725114535606"
      ]
     },
     "execution_count": 78,
     "metadata": {},
     "output_type": "execute_result"
    }
   ],
   "source": [
    "(dL/(2 * max(x_1)))**2"
   ]
  },
  {
   "cell_type": "code",
   "execution_count": 25,
   "id": "53caca26-cee7-42c5-be19-68de369b6b44",
   "metadata": {},
   "outputs": [
    {
     "data": {
      "text/plain": [
       "[139.51, 140.93, 142.82, 142.32, 147.15]"
      ]
     },
     "execution_count": 25,
     "metadata": {},
     "output_type": "execute_result"
    }
   ],
   "source": [
    "[round(v_1[i], 2) for i in range(n)]"
   ]
  },
  {
   "cell_type": "code",
   "execution_count": 29,
   "id": "1618ccce-0099-4fe1-8d1d-0f516f876d4f",
   "metadata": {},
   "outputs": [
    {
     "data": {
      "text/plain": [
       "[6.1, 6.29, 6.11, 6.22, 6.04]"
      ]
     },
     "execution_count": 29,
     "metadata": {},
     "output_type": "execute_result"
    }
   ],
   "source": [
    "[round(dv1[i], 2) for i in range(n)]"
   ]
  },
  {
   "cell_type": "code",
   "execution_count": 28,
   "id": "a0ccb8e9-0db9-46c8-9134-ee8a4ba6ed71",
   "metadata": {},
   "outputs": [
    {
     "data": {
      "text/plain": [
       "[4.37, 4.47, 4.28, 4.37, 4.1]"
      ]
     },
     "execution_count": 28,
     "metadata": {},
     "output_type": "execute_result"
    }
   ],
   "source": [
    "[round(dv1_rel[i] * 100, 2) for i in range(n)]"
   ]
  },
  {
   "cell_type": "code",
   "execution_count": 31,
   "id": "5a7c7ff4-6297-42a0-85d7-c16fb5e73209",
   "metadata": {},
   "outputs": [
    {
     "data": {
      "text/plain": [
       "142.54681463607056"
      ]
     },
     "execution_count": 31,
     "metadata": {},
     "output_type": "execute_result"
    }
   ],
   "source": [
    "average_value(v_1)"
   ]
  },
  {
   "cell_type": "code",
   "execution_count": 32,
   "id": "19b0c53a-7d95-44de-b449-86cbe9d31bbe",
   "metadata": {},
   "outputs": [
    {
     "data": {
      "text/plain": [
       "1.2880418750084683"
      ]
     },
     "execution_count": 32,
     "metadata": {},
     "output_type": "execute_result"
    }
   ],
   "source": [
    "average_fault(v_1)"
   ]
  },
  {
   "cell_type": "code",
   "execution_count": 33,
   "id": "4ecd6731-657f-4b2a-931a-65d2d5c04cd0",
   "metadata": {},
   "outputs": [
    {
     "data": {
      "text/plain": [
       "6.294978097158508"
      ]
     },
     "execution_count": 33,
     "metadata": {},
     "output_type": "execute_result"
    }
   ],
   "source": [
    "max(dv1)"
   ]
  },
  {
   "cell_type": "code",
   "execution_count": 34,
   "id": "408a5958-2258-4c6e-8206-3295668f8b95",
   "metadata": {},
   "outputs": [
    {
     "data": {
      "text/plain": [
       "0.045075737499441645"
      ]
     },
     "execution_count": 34,
     "metadata": {},
     "output_type": "execute_result"
    }
   ],
   "source": [
    "((average_fault(v_1))**2 + (max(dv1))**2)**0.5 / average_value(v_1)"
   ]
  },
  {
   "cell_type": "markdown",
   "id": "1efa5337-1852-42f3-b80d-370f38cf30c1",
   "metadata": {},
   "source": [
    "# Data 2"
   ]
  },
  {
   "cell_type": "code",
   "execution_count": 10,
   "id": "44910d27-1f6a-4db4-b3a0-a1ff23e8ebcc",
   "metadata": {},
   "outputs": [],
   "source": [
    "T_empt = [25, 25.18, 25.12]\n",
    "T_full = [33.47, 33.50, 33.53]\n",
    "T_empt = [x / 5 for x in T_empt]\n",
    "T_full = [x / 5 for x in T_full]\n",
    "\n",
    "T1 = average_value(T_full)\n",
    "T2 = average_value(T_empt)"
   ]
  },
  {
   "cell_type": "code",
   "execution_count": 51,
   "id": "49316eaa-7279-48e0-aeea-54709011d712",
   "metadata": {},
   "outputs": [
    {
     "data": {
      "text/plain": [
       "[5.0, 5.036, 5.024]"
      ]
     },
     "execution_count": 51,
     "metadata": {},
     "output_type": "execute_result"
    }
   ],
   "source": [
    "T_empt"
   ]
  },
  {
   "cell_type": "code",
   "execution_count": 52,
   "id": "550d92c1-d6cc-4306-8dc5-a853cb43c964",
   "metadata": {},
   "outputs": [
    {
     "data": {
      "text/plain": [
       "[6.694, 6.7, 6.706]"
      ]
     },
     "execution_count": 52,
     "metadata": {},
     "output_type": "execute_result"
    }
   ],
   "source": [
    "T_full"
   ]
  },
  {
   "cell_type": "code",
   "execution_count": 43,
   "id": "2e4a3350-16cb-4290-9395-31120ae2c239",
   "metadata": {},
   "outputs": [],
   "source": [
    "m_2 = [0.506, 0.5, 0.507, 0.508, 0.51]\n",
    "m_2 = [x * 10**(-3) for x in m_2]\n",
    "\n",
    "x_2 = [4.7, 5, 4.5, 4, 5]\n",
    "x_2 = [x * 10**(-2) for x in x_2]\n",
    "\n",
    "M1 = 713.5 * 10**(-3)\n",
    "M2 = 729.9 * 10**(-3)\n",
    "MM = (M1 + M2)*0.5\n",
    "d = 145 * 10**(-2)\n",
    "r = 0.21\n",
    "R= 34.5 * 10**(-2)\n",
    "\n",
    "dr = 0.001"
   ]
  },
  {
   "cell_type": "code",
   "execution_count": 44,
   "id": "af867406-a920-476e-94d3-3c4a5f40938a",
   "metadata": {},
   "outputs": [
    {
     "data": {
      "text/plain": [
       "0.7217"
      ]
     },
     "execution_count": 44,
     "metadata": {},
     "output_type": "execute_result"
    }
   ],
   "source": [
    "MM"
   ]
  },
  {
   "cell_type": "code",
   "execution_count": 63,
   "id": "ea9656d3-7dce-43fe-b1f6-c06faf314498",
   "metadata": {},
   "outputs": [],
   "source": [
    "const_2 = (4 * pi * MM * (R**2) * T1)/((T1**2 - T2**2) * d*R)\n",
    "dconst_2_rel = ((dM/MM)**2 + (2* dr/R)**2 + 5 * (average_fault(T_full) / T1)**2 + (2 * average_fault(T_empt) / T2)**2)**0.5"
   ]
  },
  {
   "cell_type": "code",
   "execution_count": 64,
   "id": "fd2fbfc3-ce05-4783-a4a9-d9245b9336a0",
   "metadata": {},
   "outputs": [
    {
     "data": {
      "text/plain": [
       "0.7342696395546234"
      ]
     },
     "execution_count": 64,
     "metadata": {},
     "output_type": "execute_result"
    }
   ],
   "source": [
    "const_2 "
   ]
  },
  {
   "cell_type": "code",
   "execution_count": 65,
   "id": "8b2778a6-bc4c-464c-b4b9-95e73d56169d",
   "metadata": {},
   "outputs": [
    {
     "data": {
      "text/plain": [
       "0.007369041113901993"
      ]
     },
     "execution_count": 65,
     "metadata": {},
     "output_type": "execute_result"
    }
   ],
   "source": [
    "dconst_2_rel * const_2"
   ]
  },
  {
   "cell_type": "code",
   "execution_count": 57,
   "id": "27a23bcd-0bb7-4c13-befd-6502f6c0c0dd",
   "metadata": {},
   "outputs": [
    {
     "data": {
      "text/plain": [
       "0.0034641016151378858"
      ]
     },
     "execution_count": 57,
     "metadata": {},
     "output_type": "execute_result"
    }
   ],
   "source": [
    "average_fault(T_full)"
   ]
  },
  {
   "cell_type": "code",
   "execution_count": 54,
   "id": "b65e7e3f-d73b-4183-9201-92615f43d0ad",
   "metadata": {},
   "outputs": [
    {
     "data": {
      "text/plain": [
       "0.01058300524425826"
      ]
     },
     "execution_count": 54,
     "metadata": {},
     "output_type": "execute_result"
    }
   ],
   "source": [
    "average_fault(T_empt)"
   ]
  },
  {
   "cell_type": "code",
   "execution_count": 47,
   "id": "e42e5719-8a27-4350-a210-f4fc73c00c72",
   "metadata": {},
   "outputs": [
    {
     "data": {
      "text/plain": [
       "6.7"
      ]
     },
     "execution_count": 47,
     "metadata": {},
     "output_type": "execute_result"
    }
   ],
   "source": [
    "T1"
   ]
  },
  {
   "cell_type": "code",
   "execution_count": 48,
   "id": "7c788962-1ec3-4a54-9a1f-ee131997a39f",
   "metadata": {},
   "outputs": [
    {
     "data": {
      "text/plain": [
       "5.02"
      ]
     },
     "execution_count": 48,
     "metadata": {},
     "output_type": "execute_result"
    }
   ],
   "source": [
    "T2"
   ]
  },
  {
   "cell_type": "code",
   "execution_count": 49,
   "id": "15a2160d-da52-424c-95ee-c0abc1d6d5fb",
   "metadata": {},
   "outputs": [],
   "source": [
    "v_2 = [((x_2[i] * const_2 ) / (m_2[i])) for i in range(n)]"
   ]
  },
  {
   "cell_type": "code",
   "execution_count": 50,
   "id": "29b389d5-d9c4-4d98-a355-e8b4299013d2",
   "metadata": {},
   "outputs": [
    {
     "data": {
      "text/plain": [
       "[112.04763980216654,\n",
       " 120.63001221254528,\n",
       " 107.06805817681534,\n",
       " 94.98426158468133,\n",
       " 118.26471785543654]"
      ]
     },
     "execution_count": 50,
     "metadata": {},
     "output_type": "execute_result"
    }
   ],
   "source": [
    "v_2"
   ]
  },
  {
   "cell_type": "code",
   "execution_count": 62,
   "id": "57d5af20-d3db-4419-935f-b2abc115d518",
   "metadata": {},
   "outputs": [
    {
     "data": {
      "text/plain": [
       "[112.05, 120.63, 107.07, 94.98, 118.26]"
      ]
     },
     "execution_count": 62,
     "metadata": {},
     "output_type": "execute_result"
    }
   ],
   "source": [
    "[round(v_2[i], 2) for i in range(n)]"
   ]
  },
  {
   "cell_type": "code",
   "execution_count": 93,
   "id": "1a1db3b0-0894-49b8-91b0-f9bb12578941",
   "metadata": {},
   "outputs": [
    {
     "data": {
      "text/plain": [
       "0.010035878806553595"
      ]
     },
     "execution_count": 93,
     "metadata": {},
     "output_type": "execute_result"
    }
   ],
   "source": [
    "dconst_2_rel"
   ]
  },
  {
   "cell_type": "code",
   "execution_count": 94,
   "id": "00cfc4f0-0f9f-4ff8-b1a4-9ceb7f82831e",
   "metadata": {},
   "outputs": [
    {
     "data": {
      "text/plain": [
       "0.025"
      ]
     },
     "execution_count": 94,
     "metadata": {},
     "output_type": "execute_result"
    }
   ],
   "source": [
    "(dr/min(x_2))"
   ]
  },
  {
   "cell_type": "code",
   "execution_count": 92,
   "id": "28a44e51-71da-429d-9ddf-c86b825cced0",
   "metadata": {},
   "outputs": [
    {
     "data": {
      "text/plain": [
       "0.004"
      ]
     },
     "execution_count": 92,
     "metadata": {},
     "output_type": "execute_result"
    }
   ],
   "source": [
    "(dm/min(m_2))"
   ]
  },
  {
   "cell_type": "code",
   "execution_count": 67,
   "id": "c78ceacb-a8d4-47ac-9094-ae09230b6743",
   "metadata": {},
   "outputs": [],
   "source": [
    "dv2_rel = ((dm/min(m_2))**2 + (dconst_2_rel)**2 + (dr/min(x_2))**2)**0.5"
   ]
  },
  {
   "cell_type": "code",
   "execution_count": 82,
   "id": "997f7eed-1381-4981-8f9a-cd5e183b82ba",
   "metadata": {},
   "outputs": [],
   "source": [
    "dv2_rel_data =[(((dm/m_2[i]))**2 + (dconst_2_rel)**2 + (dr/x_2[i])**2)**0.5 for i in range(n)]"
   ]
  },
  {
   "cell_type": "code",
   "execution_count": 88,
   "id": "b8eb32f3-cbd4-4b07-85d2-90f50c0de9f3",
   "metadata": {},
   "outputs": [
    {
     "data": {
      "text/plain": [
       "[3.04, 10.4, 4.41, 15.83, 8.12]"
      ]
     },
     "execution_count": 88,
     "metadata": {},
     "output_type": "execute_result"
    }
   ],
   "source": [
    "[round(((dv2_rel_data[i] * v_2[i])**2 + (average_value(v_2)-v_2[i])**2)**0.5, 2) for i in range(n)]"
   ]
  },
  {
   "cell_type": "code",
   "execution_count": 69,
   "id": "a0feb0da-8bf5-42ca-b9fd-96bafe431c8e",
   "metadata": {},
   "outputs": [
    {
     "data": {
      "text/plain": [
       "3.012108547919553"
      ]
     },
     "execution_count": 69,
     "metadata": {},
     "output_type": "execute_result"
    }
   ],
   "source": [
    "dv2_rel * average_value(v_2)"
   ]
  },
  {
   "cell_type": "code",
   "execution_count": 70,
   "id": "366dafb8-cf5e-4ebe-9090-f4f6ff128432",
   "metadata": {},
   "outputs": [
    {
     "data": {
      "text/plain": [
       "4.570397135053417"
      ]
     },
     "execution_count": 70,
     "metadata": {},
     "output_type": "execute_result"
    }
   ],
   "source": [
    "average_fault(v_2)"
   ]
  },
  {
   "cell_type": "code",
   "execution_count": 74,
   "id": "e17d1ed0-cb70-4db8-8372-ad7c57592428",
   "metadata": {},
   "outputs": [
    {
     "data": {
      "text/plain": [
       "4.9491380961967115"
      ]
     },
     "execution_count": 74,
     "metadata": {},
     "output_type": "execute_result"
    }
   ],
   "source": [
    "((average_fault(v_2))**2 + (dv2_rel * average_value(v_2))**2)**0.5 * 100 / average_value(v_2)"
   ]
  },
  {
   "cell_type": "code",
   "execution_count": 72,
   "id": "7987b267-34ba-4b2d-87b2-ee07d0891871",
   "metadata": {},
   "outputs": [
    {
     "data": {
      "text/plain": [
       "110.59893792632901"
      ]
     },
     "execution_count": 72,
     "metadata": {},
     "output_type": "execute_result"
    }
   ],
   "source": [
    "average_value(v_2)"
   ]
  },
  {
   "cell_type": "code",
   "execution_count": null,
   "id": "aec4295d-69ef-484f-b6ad-a5bdc9b12c57",
   "metadata": {},
   "outputs": [],
   "source": []
  }
 ],
 "metadata": {
  "kernelspec": {
   "display_name": "Python 3 (ipykernel)",
   "language": "python",
   "name": "python3"
  },
  "language_info": {
   "codemirror_mode": {
    "name": "ipython",
    "version": 3
   },
   "file_extension": ".py",
   "mimetype": "text/x-python",
   "name": "python",
   "nbconvert_exporter": "python",
   "pygments_lexer": "ipython3",
   "version": "3.10.12"
  }
 },
 "nbformat": 4,
 "nbformat_minor": 5
}
