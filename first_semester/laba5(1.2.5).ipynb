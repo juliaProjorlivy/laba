{
 "cells": [
  {
   "cell_type": "code",
   "execution_count": 1,
   "id": "ec37e221-fc27-4513-b166-423b151894f0",
   "metadata": {},
   "outputs": [],
   "source": [
    "import pandas as pd\n",
    "import numpy as np\n",
    "import matplotlib.pyplot as plt\n",
    "\n",
    "plt.style.use('fivethirtyeight')\n",
    "pi = np.pi\n",
    "g = 10"
   ]
  },
  {
   "cell_type": "code",
   "execution_count": 7,
   "id": "199fe65a-ce00-4269-9230-238b3fd5192c",
   "metadata": {},
   "outputs": [],
   "source": [
    "def average_value(arr):\n",
    "    return sum(arr) / len(arr)\n",
    "def average_fault(arr):\n",
    "    len_arr = len(arr)\n",
    "    average_value = sum(arr)/len_arr\n",
    "    res = 0\n",
    "    for i in range(len(arr)):\n",
    "        res+=(arr[i] - average_value)**2\n",
    "    res = (res/(len_arr * (len_arr - 1)))**0.5\n",
    "    return res"
   ]
  },
  {
   "cell_type": "markdown",
   "id": "4a34d922-db58-45e9-bc53-b2bb4fab9a5e",
   "metadata": {},
   "source": [
    "# data"
   ]
  },
  {
   "cell_type": "code",
   "execution_count": 61,
   "id": "5a770907-e427-40c7-a6b8-9fc3a82ae725",
   "metadata": {},
   "outputs": [],
   "source": [
    "m1 = 328.5 * 10**(-3)\n",
    "m2 = 270.5 * 10**(-3)\n",
    "m3 = 217.4 * 10**(-3)\n",
    "m4 = 173.9 * 10**(-3)\n",
    "m5 = 149.9 * 10**(-3)\n",
    "m_clnd = 1616.6 * 10 ** (-3)\n",
    "dm = dm = 0.5 * 10**(-3) # гр\n",
    "r = (7.78 / 2)*10 ** (-2)\n",
    "dr = 0.1* 10**(-3)\n",
    "\n",
    "w0 = 2 * pi * 400\n",
    "l = 121 * 10 **(-3)\n",
    "\n",
    "data_times = [[30.215, 30.426, 30.583], [37.2, 37.1, 37.1], [46.07, 46.04, 46.1], [57.39, 57.47, 57.38], [70.49, 70.82, 70.6]]\n",
    "\n",
    "times = [average_value(i) for i in data_times]\n",
    "times_fault = [average_fault(i) for i in data_times]\n",
    "mass = [m1, m2, m3, m4, m5]\n",
    "\n",
    "T_rot = 31.25\n",
    "T_clnd = 39.4\n",
    "\n",
    "dT = 0.01"
   ]
  },
  {
   "cell_type": "code",
   "execution_count": 22,
   "id": "07aba333-0251-4a85-88c9-3d3a634cde38",
   "metadata": {},
   "outputs": [
    {
     "name": "stdout",
     "output_type": "stream",
     "text": [
      "[30.407999999999998, 37.13333333333333, 46.07, 57.413333333333334, 70.63666666666667]\n",
      "[0.10661300733650299, 0.03333333333333381, 0.01732050807568943, 0.028480012484390818, 0.09701088140570116]\n"
     ]
    }
   ],
   "source": [
    "print(times)\n",
    "print(times_fault)"
   ]
  },
  {
   "cell_type": "code",
   "execution_count": 23,
   "id": "8ee3504d-bd9a-4a24-b142-8c6e5fc4bf24",
   "metadata": {},
   "outputs": [],
   "source": [
    "I_clnd = 0.5 * m_clnd * r**2\n",
    "I_rot = I_clnd * (T_rot /  T_clnd)**2\n",
    "\n",
    "dI_clnd_rel = ((dm / m_clnd)**2 + (2 * dr / r)**2)**0.5\n",
    "dI_rot_rel = ((dI_clnd_rel)**2 + (2 * dT / T_rot)**2 + (2 * dT / T_clnd)**2)**0.5\n",
    "dI_rot = dI_rot_rel * I_rot"
   ]
  },
  {
   "cell_type": "code",
   "execution_count": 24,
   "id": "c03d8e54-a2c2-4c38-98cf-5ba5983821b6",
   "metadata": {},
   "outputs": [
    {
     "name": "stdout",
     "output_type": "stream",
     "text": [
      "7.6944818783477285\n",
      "0.04012715127346255\n"
     ]
    }
   ],
   "source": [
    "print(I_rot*10000)\n",
    "print(dI_rot*10000)"
   ]
  },
  {
   "cell_type": "code",
   "execution_count": 62,
   "id": "347f175f-d9a1-44cc-9a72-dac7930dd40a",
   "metadata": {},
   "outputs": [
    {
     "data": {
      "text/plain": [
       "10.041850209671809"
      ]
     },
     "execution_count": 62,
     "metadata": {},
     "output_type": "execute_result"
    }
   ],
   "source": [
    "theor_const = 2 * pi * I_rot * w0 / (l * g) \n",
    "theor_const"
   ]
  },
  {
   "cell_type": "code",
   "execution_count": 116,
   "id": "9551a875-f3de-4845-9029-e8ed3df153e3",
   "metadata": {},
   "outputs": [
    {
     "data": {
      "text/plain": [
       "0.04143280465556851"
      ]
     },
     "execution_count": 116,
     "metadata": {},
     "output_type": "execute_result"
    }
   ],
   "source": [
    "const = 10.84\n",
    "const_faults = [((times_fault[i] / times[i])**2 + (dm / mass[i])**2)**0.5 for i in range(len(times))]\n",
    "const_fault_rel = max(const_faults)\n",
    "const_fault_rel* 10.84"
   ]
  },
  {
   "cell_type": "code",
   "execution_count": 101,
   "id": "e96bd563-3196-4139-b9c1-332d4dd2d3bd",
   "metadata": {},
   "outputs": [
    {
     "name": "stdout",
     "output_type": "stream",
     "text": [
      "431.7929375030691\n",
      "2.8145859595778098\n"
     ]
    }
   ],
   "source": [
    "w0_exp = const * g * l / (2 * pi * I_rot)\n",
    "w0_exp_fault_rel = ((const_fault_rel)**2 + (dr / l)**2 + (dI_rot_rel)**2)**0.5\n",
    "\n",
    "print(w0_exp / (2 * pi))\n",
    "print(w0_exp_fault_rel * w0_exp / (2 * pi))"
   ]
  },
  {
   "cell_type": "code",
   "execution_count": null,
   "id": "c6b70f97-2606-4028-b9ed-b120ef359f82",
   "metadata": {},
   "outputs": [],
   "source": []
  },
  {
   "cell_type": "code",
   "execution_count": 38,
   "id": "a698b433-0567-4905-a083-c86c3ba50907",
   "metadata": {},
   "outputs": [],
   "source": [
    "x = [x**(-1) for x in mass]\n",
    "# x = mass \n",
    "y = times"
   ]
  },
  {
   "cell_type": "code",
   "execution_count": 43,
   "id": "9fb0114f-a363-4a61-8df2-274a9cf5966e",
   "metadata": {},
   "outputs": [],
   "source": [
    "model1 = np.poly1d(np.polyfit(x, y, 1))\n",
    "# model2 = np.poly1d(np.polyfit(x, y, 2))"
   ]
  },
  {
   "cell_type": "code",
   "execution_count": 105,
   "id": "efa4c3f1-d445-4972-b1e4-eb6e01ce3305",
   "metadata": {},
   "outputs": [
    {
     "name": "stdout",
     "output_type": "stream",
     "text": [
      " \n",
      "10.84 x - 3.172\n",
      "        2\n",
      "0.6727 x + 4.298 x + 11.54\n",
      "        3         2\n",
      "0.5002 x - 6.607 x + 38.24 x - 38.97\n",
      "        4         3         2\n",
      "0.1786 x - 2.963 x + 17.92 x - 36.8 x + 44.63\n"
     ]
    },
    {
     "data": {
      "image/png": "[encoded data removed]",
      "text/plain": [
       "<Figure size 640x480 with 1 Axes>"
      ]
     },
     "metadata": {},
     "output_type": "display_data"
    }
   ],
   "source": [
    "polyline = np.linspace(2, 8)\n",
    "plt.errorbar(x, y, yerr=times_fault, fmt=\"*\", capsize = 3, color = 'green')\n",
    "plt.scatter(x, y, label = \"k = 10.84\")\n",
    "plt.ylabel(r'$T, c$')\n",
    "plt.xlabel(r'$m^{-1}, кг^{-1}$')\n",
    "\n",
    "plt.plot(polyline, model1(polyline), color = 'lightgreen', label = '$n = 1$')\n",
    "plt.plot(polyline, model2(polyline), color = 'lightpink', label = '$n = 2$')\n",
    "plt.plot(polyline, model3(polyline), color = 'lightblue')\n",
    "# plt.plot(polyline, model4(polyline), color = 'lightskyblue')\n",
    "print(model1)\n",
    "print(model2)\n",
    "print(model3)\n",
    "print(model4)\n",
    "plt.show()"
   ]
  },
  {
   "cell_type": "code",
   "execution_count": 87,
   "id": "e45444f4-540d-45e7-bbec-e0c84ee792c3",
   "metadata": {},
   "outputs": [
    {
     "name": "stdout",
     "output_type": "stream",
     "text": [
      "{'r_squared': 0.9921598705686914}\n",
      "{'r_squared': 0.9958179505752922}\n",
      "{'r_squared': 0.9994044397742496}\n"
     ]
    }
   ],
   "source": [
    "def adjR(x, y, degree):\n",
    "    results = {}\n",
    "    coeffs = np.polyfit(x, y, degree)\n",
    "    p = np.poly1d(coeffs)\n",
    "    yhat = p(x)\n",
    "    ybar = np.sum(y)/len(y)\n",
    "    ssreg = np.sum((yhat-ybar)**2)\n",
    "    sstot = np.sum((y - ybar)**2)\n",
    "    results['r_squared'] = 1- (((1-(ssreg/sstot))*(len(y)-1))/(len(y)-degree-1))\n",
    "\n",
    "    return results\n",
    "\n",
    "#calculated adjusted R-squared of each model\n",
    "print(adjR(x , y , 1))\n",
    "print(adjR(x , y , 2))\n",
    "print(adjR(x , y , 3))"
   ]
  },
  {
   "cell_type": "markdown",
   "id": "cdeea09d-c051-4a30-a079-fa29f4903174",
   "metadata": {},
   "source": [
    "# data friction"
   ]
  },
  {
   "cell_type": "code",
   "execution_count": 106,
   "id": "900aa9d5-d37e-4490-8cd4-693c869c8f3f",
   "metadata": {},
   "outputs": [],
   "source": [
    "a = 12 * pi / 180\n",
    "times_friction = [62.03, 61.84, 61.9]\n",
    "time_friction = average_value(times_friction)\n",
    "time_friction_fault = average_fault(times_friction)\n",
    "da = 2 * pi / 180\n",
    "\n",
    "w_friction = a / time_friction\n",
    "w_friction_fault = w_friction * (((time_friction_fault / time_friction)**2 + (da / a)**2)**0.5)"
   ]
  },
  {
   "cell_type": "code",
   "execution_count": 108,
   "id": "589abfd9-fd59-491f-b6c5-4c9acdaeb275",
   "metadata": {},
   "outputs": [
    {
     "name": "stdout",
     "output_type": "stream",
     "text": [
      "61.92333333333334\n",
      "0.056075346137535356\n",
      "3.382238955256277\n",
      "0.563714813199531\n"
     ]
    }
   ],
   "source": [
    "print(time_friction)\n",
    "print(time_friction_fault)\n",
    "print(w_friction*1000)\n",
    "print(w_friction_fault*1000)"
   ]
  },
  {
   "cell_type": "code",
   "execution_count": 112,
   "id": "84962570-b7e2-46f8-af15-50015c72ed99",
   "metadata": {},
   "outputs": [],
   "source": [
    "M_friction = I_rot * w0_exp * w_friction\n",
    "M_friction_fault_rel = ((w_friction_fault / w_friction)**2 + (dI_rot_rel)**2 + (w0_exp_fault_rel)**2)**0.5"
   ]
  },
  {
   "cell_type": "code",
   "execution_count": 115,
   "id": "a4c257ee-63f6-469c-b25a-7735b1837868",
   "metadata": {},
   "outputs": [
    {
     "name": "stdout",
     "output_type": "stream",
     "text": [
      "7.0605587554502875\n",
      "1.1782522811297884\n"
     ]
    }
   ],
   "source": [
    "print(M_friction*1000)\n",
    "print(M_friction_fault_rel * M_friction*1000)"
   ]
  },
  {
   "cell_type": "code",
   "execution_count": null,
   "id": "0b72407e-d94f-4014-b1d0-cf7c809ad52d",
   "metadata": {},
   "outputs": [],
   "source": []
  },
  {
   "cell_type": "code",
   "execution_count": null,
   "id": "e4bfd9d4-33b6-4d71-b186-4cc63b518997",
   "metadata": {},
   "outputs": [],
   "source": []
  }
 ],
 "metadata": {
  "kernelspec": {
   "display_name": "Python 3 (ipykernel)",
   "language": "python",
   "name": "python3"
  },
  "language_info": {
   "codemirror_mode": {
    "name": "ipython",
    "version": 3
   },
   "file_extension": ".py",
   "mimetype": "text/x-python",
   "name": "python",
   "nbconvert_exporter": "python",
   "pygments_lexer": "ipython3",
   "version": "3.10.12"
  }
 },
 "nbformat": 4,
 "nbformat_minor": 5
}
