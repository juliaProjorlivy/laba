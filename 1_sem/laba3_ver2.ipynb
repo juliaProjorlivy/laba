{
 "cells": [
  {
   "cell_type": "code",
   "execution_count": 1,
   "id": "e70a1104-28f0-463f-904b-84bad1689a9f",
   "metadata": {},
   "outputs": [],
   "source": [
    "import pandas as pd\n",
    "import numpy as np\n",
    "import matplotlib.pyplot as plt\n",
    "\n",
    "plt.style.use('fivethirtyeight')\n",
    "pi = np.pi\n",
    "g = 10"
   ]
  },
  {
   "cell_type": "markdown",
   "id": "7b1e3c1f-4c01-4507-bfcd-bd61586f6c47",
   "metadata": {},
   "source": [
    "# Common data"
   ]
  },
  {
   "cell_type": "code",
   "execution_count": 3,
   "id": "7417f30d-1798-4f49-a8b4-193f30f6f287",
   "metadata": {},
   "outputs": [],
   "source": [
    "R = 114.1 * 10**(-3) # м нижний радиус подвеса \n",
    "dR = 0.5 * 10**(-3) # м\n",
    "r = 30.5 * 10**(-3) # м верхний радиус подвеса\n",
    "dr = 0.3 * 10**(-3) # м\n",
    "m = 1004.8 * 10**(-3) # кг масса подвеса\n",
    "dm = 0.5 * 10**(-3) # кг\n",
    "\n",
    "L = 2170 * 10**(-3) # м расстояние от середины верхнего подвеса до края нижнего\n",
    "dL = 1 * 10**(-3) # mm"
   ]
  },
  {
   "cell_type": "code",
   "execution_count": 4,
   "id": "36b1a847-2a2e-4f41-8cfc-76d873ce5901",
   "metadata": {},
   "outputs": [],
   "source": [
    "z0 = (L**2 - R**2)**0.5 # м расстояние от середины нижнего до середины верхнего подвеса\n",
    "dz0 = ( ((L * dL) / z0)**2 + ((R * dR) / z0)**2)**0.5 # м\n",
    "\n",
    "k = (g * R * r)/(4 * pi * pi * z0)\n",
    "dk = (g/(4 * pi * pi)) * (((r / z0) * dR)**2 + ((R / z0) * dr)**2 + ((R * r * dz0) / (z0**2))**2 )**0.5"
   ]
  },
  {
   "cell_type": "code",
   "execution_count": 103,
   "id": "87a4be1b-9843-441f-8c21-fe15b91b1472",
   "metadata": {},
   "outputs": [
    {
     "name": "stdout",
     "output_type": "stream",
     "text": [
      "k =  0.0004067871231561532\n",
      "dk =  4.384343621854339e-06\n",
      "z0 =  2.166998197968794\n",
      "dz0 =  0.0010017312446067078\n"
     ]
    }
   ],
   "source": [
    "print(\"k = \", k)\n",
    "print(\"dk = \", dk)\n",
    "print(\"z0 = \", z0)\n",
    "print(\"dz0 = \", dz0)"
   ]
  },
  {
   "cell_type": "markdown",
   "id": "da873bdd-0b32-45c1-849b-3dc08eadc4a9",
   "metadata": {},
   "source": [
    "# Faults and avarage functions¶"
   ]
  },
  {
   "cell_type": "code",
   "execution_count": 7,
   "id": "c0c34635-73ea-42e9-be1c-596c7cc97c40",
   "metadata": {},
   "outputs": [],
   "source": [
    "def average_value(arr):\n",
    "    return sum(arr) / len(arr)\n",
    "def average_fault(arr):\n",
    "    len_arr = len(arr)\n",
    "    average_value = sum(arr)/len_arr\n",
    "    res = 0\n",
    "    for i in range(len(arr)):\n",
    "        res+=(arr[i] - average_value)**2\n",
    "    res = (res/(len_arr * (len_arr - 1)))**0.5\n",
    "    return res\n",
    "\n",
    "def experimental_Inertia_fault(random_m, T, dt): ## относительная ошибка момента инерции\n",
    "    s1 = dm/random_m\n",
    "    s2 = (2 * dt/T)\n",
    "    s3 = dk/k\n",
    "    return (s1**2 + s2**2 + s3**2)**0.5"
   ]
  },
  {
   "cell_type": "markdown",
   "id": "797c8032-58bf-480f-90c7-aa9d78671d15",
   "metadata": {},
   "source": [
    "# Common furmula"
   ]
  },
  {
   "cell_type": "code",
   "execution_count": 8,
   "id": "d049e2fa-0f84-468a-969a-0baa3f195a82",
   "metadata": {},
   "outputs": [],
   "source": [
    "def experimental_Inertia(m, T):\n",
    "    return k * m * T * T"
   ]
  },
  {
   "cell_type": "markdown",
   "id": "16309d40-bb16-4472-8c7f-c37f6b52aff8",
   "metadata": {},
   "source": [
    "## *Empty circle*"
   ]
  },
  {
   "cell_type": "code",
   "execution_count": 93,
   "id": "ac6816c8-e2f3-4161-aad7-007ff1c20b5a",
   "metadata": {},
   "outputs": [],
   "source": [
    "time_data_empty_circle = [22.14, 22.132, 22.139, 22.118, 22.125]\n",
    "time_data_empty_circle = [x/5 for x in time_data_empty_circle]\n",
    "time_fault_empty_circle = average_fault(time_data_empty_circle)"
   ]
  },
  {
   "cell_type": "code",
   "execution_count": 11,
   "id": "30b4ffa5-1a9c-4798-a092-99e26662dcb8",
   "metadata": {},
   "outputs": [
    {
     "data": {
      "text/html": [
       "<div>\n",
       "<style scoped>\n",
       "    .dataframe tbody tr th:only-of-type {\n",
       "        vertical-align: middle;\n",
       "    }\n",
       "\n",
       "    .dataframe tbody tr th {\n",
       "        vertical-align: top;\n",
       "    }\n",
       "\n",
       "    .dataframe thead th {\n",
       "        text-align: right;\n",
       "    }\n",
       "</style>\n",
       "<table border=\"1\" class=\"dataframe\">\n",
       "  <thead>\n",
       "    <tr style=\"text-align: right;\">\n",
       "      <th></th>\n",
       "      <th>T, c</th>\n",
       "    </tr>\n",
       "  </thead>\n",
       "  <tbody>\n",
       "    <tr>\n",
       "      <th>1</th>\n",
       "      <td>4.428</td>\n",
       "    </tr>\n",
       "    <tr>\n",
       "      <th>2</th>\n",
       "      <td>4.426</td>\n",
       "    </tr>\n",
       "    <tr>\n",
       "      <th>3</th>\n",
       "      <td>4.428</td>\n",
       "    </tr>\n",
       "    <tr>\n",
       "      <th>4</th>\n",
       "      <td>4.424</td>\n",
       "    </tr>\n",
       "    <tr>\n",
       "      <th>5</th>\n",
       "      <td>4.425</td>\n",
       "    </tr>\n",
       "  </tbody>\n",
       "</table>\n",
       "</div>"
      ],
      "text/plain": [
       "    T, c\n",
       "1  4.428\n",
       "2  4.426\n",
       "3  4.428\n",
       "4  4.424\n",
       "5  4.425"
      ]
     },
     "execution_count": 11,
     "metadata": {},
     "output_type": "execute_result"
    }
   ],
   "source": [
    "time_data_empty_circle_table = pd.DataFrame({\n",
    "                        'T, c': [round(x, 3) for x in time_data_empty_circle]}, index= [i+1 for i in range(len(time_data_empty_circle))])\n",
    "\n",
    "time_data_empty_circle_table"
   ]
  },
  {
   "cell_type": "code",
   "execution_count": 14,
   "id": "1b2b8a35-16bd-4754-9440-4d3586990e06",
   "metadata": {},
   "outputs": [
    {
     "name": "stdout",
     "output_type": "stream",
     "text": [
      "average value of period of an empty circle =  4.42616\n",
      "average fault of period of an empty circle =  0.0008376156636549078 c\n",
      "relevant fault of period of an empty circle =  0.00018924206618262958\n"
     ]
    }
   ],
   "source": [
    "print(\"average value of period of an empty circle = \", average_value(time_data_empty_circle))\n",
    "print(\"average fault of period of an empty circle = \", average_fault(time_data_empty_circle), \"c\")\n",
    "print(\"relevant fault of period of an empty circle = \", average_fault(time_data_empty_circle)/average_value(time_data_empty_circle))"
   ]
  },
  {
   "cell_type": "code",
   "execution_count": 106,
   "id": "042b79d9-aba7-4be9-a4ec-6a592d5f6fd5",
   "metadata": {},
   "outputs": [
    {
     "name": "stdout",
     "output_type": "stream",
     "text": [
      "Момент инерции пустого подвеса равен  80.07575486467704\n",
      "Относительная погрешность момента инерции пустого подвеса равняется  0.010796097810377435\n",
      "абсолютная погрешность момента инерции пустого подвеса  0.8645056817588601\n"
     ]
    }
   ],
   "source": [
    "I0 = experimental_Inertia(m, average_value(time_data_empty_circle))\n",
    "I0_fault = experimental_Inertia_fault(m, average_value(time_data_empty_circle), average_fault(time_data_empty_circle))\n",
    "print(\"Момент инерции пустого подвеса равен \", I0*10000)\n",
    "print(\"Относительная погрешность момента инерции пустого подвеса равняется \", I0_fault)\n",
    "print(\"абсолютная погрешность момента инерции пустого подвеса \", I0 * I0_fault * 10000)"
   ]
  },
  {
   "cell_type": "markdown",
   "id": "7807a6a3-aad9-46b4-9325-72235c76a3c4",
   "metadata": {},
   "source": [
    "## *Two halves of sylinder*"
   ]
  },
  {
   "cell_type": "markdown",
   "id": "425b1c96-4c75-4ad1-860c-6bf9b39bc8ca",
   "metadata": {},
   "source": [
    "### *Data*"
   ]
  },
  {
   "cell_type": "code",
   "execution_count": 34,
   "id": "b4f9b094-0bdc-43b9-8704-62596d62acc1",
   "metadata": {},
   "outputs": [
    {
     "data": {
      "text/plain": [
       "[8.0, 9.1, 10.1, 11.2, 12.2, 13.1, 14.1]"
      ]
     },
     "execution_count": 34,
     "metadata": {},
     "output_type": "execute_result"
    }
   ],
   "source": [
    "n_small_clnd = 7\n",
    "m_small_clnd = 525 * 10**(-3) ## кг масса полуцилиндра\n",
    "M_clnd = 2 * m_small_clnd + m\n",
    "# print(M_clnd)\n",
    "dm_small_clnd = 10**(-3) ## кг\n",
    "D_small_clnd = 80 * 10**(-3)\n",
    "R_small_clnd = D_small_clnd / 2\n",
    "dR_small_clnd = 0.5 * 10**(-3)\n",
    "\n",
    "time_data_small_clnd = [17.811, 17.801, 17.806,\n",
    "                     18.152, 18.149, 18.154,\n",
    "                     18.647, 18.633, 18.613,\n",
    "                     19.130, 19.121, 19.111,\n",
    "                     19.589, 19.576, 19.562,\n",
    "                     20.102, 20.111, 20.092,\n",
    "                     20.609, 20.603, 20.592]\n",
    "time_data_small_clnd = [x/5 for x in time_data_small_clnd]\n",
    "\n",
    "length_data_small_clnd = [0, 11, 21, 32, 42, 51, 61] ## in mm расстояние от конца одного до конца другого полуцилиндра\n",
    "length_data_small_clnd = [(x * 10**(-3) + D_small_clnd) for x in length_data_small_clnd] ##  in metrs расстояние от центра масс одного пц до центра масс другого \n",
    "\n",
    "length_data_small_clnd_table = [round(x*100, 3) for x in length_data_small_clnd] ## in cm округляем для таблицы \n",
    "\n",
    "time_data_small_clnd_table = [round(average_value([time_data_small_clnd[j + i] for i in range(3)]), 4) for j in range(0, n_small_clnd * 3, 3)]\n",
    "\n",
    "length_data_small_clnd_table"
   ]
  },
  {
   "cell_type": "markdown",
   "id": "055b8416-044a-4758-986a-318ca9e1e402",
   "metadata": {},
   "source": [
    "### *table [n, T, d]*"
   ]
  },
  {
   "cell_type": "code",
   "execution_count": 25,
   "id": "48db0dc9-c04f-4b90-aab8-3b08aa6aa9a4",
   "metadata": {},
   "outputs": [
    {
     "data": {
      "image/png": "[encoded data removed]",
      "text/plain": [
       "<Figure size 400x5 with 1 Axes>"
      ]
     },
     "metadata": {},
     "output_type": "display_data"
    }
   ],
   "source": [
    "column1 = {'№ опыта': [(x//3 - (x%3 == 0)) + 1 + (x % 3 + 3*(x%3 == 0)) * 0.1 for x in range(1, n_small_clnd * 3 + 1)] }            \n",
    "column2 = {'Период T, с': [round(x, 2) for x in time_data_small_clnd]}\n",
    "column3 = {'Расстояние h, cм': [round(x*100, 3) for x in length_data_small_clnd for i in range(3)]}\n",
    "\n",
    "column1.update(column2)\n",
    "column1.update(column3)\n",
    "\n",
    "table11 = pd.DataFrame(column1)\n",
    "\n",
    "fig = plt.figure(figsize = (4, 0.05))\n",
    "ax = fig.add_subplot(111)\n",
    "\n",
    "ax.table(cellText = table11.values, colLabels = table11.columns)\n",
    "\n",
    "ax.set_title(\"Таблица №2\", size = 11)\n",
    "\n",
    "ax.axis(\"off\");"
   ]
  },
  {
   "cell_type": "markdown",
   "id": "ffd331d1-73c3-4d5b-8430-972967e2ff66",
   "metadata": {},
   "source": [
    "### *Теоретический момент инерции полуцилиндра отнисительно центра масс полуцилиндра*"
   ]
  },
  {
   "cell_type": "code",
   "execution_count": 159,
   "id": "5133f177-63e6-4ed4-95b1-72c6620a7175",
   "metadata": {},
   "outputs": [
    {
     "name": "stdout",
     "output_type": "stream",
     "text": [
      "момент инерции полуцилиндра относительно его центра масс =  2.6869369909410894\n",
      "theoretical  relevanat fault =  0.025018134012720815\n",
      "theoretical fault =  0.06722214972310099\n"
     ]
    }
   ],
   "source": [
    "theoretical_I_clnd = m_small_clnd * ((R_small_clnd**2) * (0.5  - (4 / (3 * pi))**2))\n",
    "print(\"момент инерции полуцилиндра относительно его центра масс = \", theoretical_I_clnd * 10000)\n",
    "theoretical_fault = ((dm / m_small_clnd)**2 + (2 * dR / R_small_clnd)**2)**0.5\n",
    "print(\"theoretical  relevanat fault = \", theoretical_fault)\n",
    "print(\"theoretical fault = \", theoretical_fault * theoretical_I_clnd * 10000)"
   ]
  },
  {
   "cell_type": "markdown",
   "id": "36e1dd53-7a0d-4217-86f4-85cb03e21d6f",
   "metadata": {},
   "source": [
    "### *experimental moment of inertia*"
   ]
  },
  {
   "cell_type": "code",
   "execution_count": 168,
   "id": "150cdaa3-17d5-4173-bda6-879fd52a91f8",
   "metadata": {},
   "outputs": [],
   "source": [
    "\n",
    "experimental_I_clnd = [(experimental_Inertia(M_clnd, time_data_small_clnd_table[i]) - I0 - 2 * m_small_clnd * ((4 * R_small_clnd / (3 * pi))**2 + (length_data_small_clnd[i] / 2) ** 2)) for i in range(n_small_clnd)]\n",
    "\n",
    "experimental_I_clnd = [x / 2 for x in experimental_I_clnd]"
   ]
  },
  {
   "cell_type": "markdown",
   "id": "b9f33a9d-3f3c-4ed7-917c-4b8c09cdff58",
   "metadata": {},
   "source": [
    "### *Таблица опыт, период, расстояние, момент инерции системы эксп, момент инерции системы теор*"
   ]
  },
  {
   "cell_type": "code",
   "execution_count": 171,
   "id": "c7af999d-97c9-4388-8aec-3bcff8c821b2",
   "metadata": {},
   "outputs": [
    {
     "data": {
      "image/png": "[encoded data removed]",
      "text/plain": [
       "<Figure size 800x0.0005 with 1 Axes>"
      ]
     },
     "metadata": {},
     "output_type": "display_data"
    }
   ],
   "source": [
    "column1 = {'№ опыта': [x for x in range(1, n_small_clnd + 1)] }            \n",
    "column2 = {'Период T, с': [time_data_small_clnd_table[i] for i in range(n_small_clnd)]}\n",
    "column3 = {'Расстояние h, cм': [length_data_small_clnd_table[i] for i in range(n_small_clnd)]}\n",
    "column4 = {'Момент инерции ${I_э}$, $кг*см^2$': [round(experimental_I_clnd[i] * 10000, 2) for i in range(n_small_clnd)]}\n",
    "# column5 = {'Теоретический момент инерции ${I_т}$, $кг*cм^2$': [round((I0 + 2 * theoretical_I_clnd + 2 * m_small_clnd * ((length_data_small_clnd[i] / 2) ** 2 + (4 * R_small_clnd / (3 * pi))**2) ) * 10000, 2) for i in range(n_small_clnd)]}\n",
    "\n",
    "column1.update(column2)\n",
    "column1.update(column3)\n",
    "column1.update(column4)\n",
    "# column1.update(column5)\n",
    "\n",
    "table11 = pd.DataFrame(column1)\n",
    "\n",
    "fig = plt.figure(figsize = (8, 0.000005))\n",
    "ax = fig.add_subplot(111)\n",
    "ax.set_title(\"Тблица №3\", size = 11)\n",
    "\n",
    "data_table = ax.table(cellText = table11.values, colLabels = table11.columns)\n",
    "\n",
    "# tab2 = ax[2].table(cellText=dff.values, colLabels=dff.columns, loc='center', cellLoc='center')\n",
    "# ax[2].set_title(\"Column Width Auto Set, Font AutoSize off\")\n",
    "ax.axis(\"off\")\n",
    "data_table.auto_set_font_size(False)\n",
    "\n",
    "data_table.set_fontsize(8)\n",
    "\n",
    "data_table.auto_set_column_width(col=list(range(len(table11.columns)))) # Provide integer list of columns to adjust\n",
    "plt.show()\n"
   ]
  },
  {
   "cell_type": "code",
   "execution_count": 174,
   "id": "5398cd6c-efbd-4990-b243-63e1810fbe2f",
   "metadata": {},
   "outputs": [
    {
     "name": "stdout",
     "output_type": "stream",
     "text": [
      "average moment of inertia of clnd =  3.0942429827059104\n",
      "fault absolute =  0.14935684182123798\n"
     ]
    }
   ],
   "source": [
    "I_m = average_value(experimental_I_clnd)\n",
    "print(\"average moment of inertia of clnd = \", I_m*10000)\n",
    "relevant_fault_I_m = ((experimental_Inertia_fault(M_clnd, average_value(time_data_small_clnd_table), average_fault(time_data_small_clnd)))**2 + (I0_fault)**2 + (dm / m_small_clnd)**2 + (2 * dR / R_small_clnd)**2)**0.5\n",
    "I_m_fault = (((average_fault(experimental_I_clnd))**2 + (relevant_fault_I_m *I_m)**2)**0.5)\n",
    "print(\"fault absolute = \", I_m_fault * 10000)"
   ]
  },
  {
   "cell_type": "markdown",
   "id": "45510aff-772d-4967-b737-36bc07820780",
   "metadata": {},
   "source": [
    "### *Fults*"
   ]
  },
  {
   "cell_type": "code",
   "execution_count": null,
   "id": "f045e8ca-7bb6-4cb1-a428-05b6b7112034",
   "metadata": {},
   "outputs": [],
   "source": []
  },
  {
   "cell_type": "code",
   "execution_count": 37,
   "id": "778e01a6-7279-4410-bc60-25e33b5b09db",
   "metadata": {},
   "outputs": [],
   "source": [
    "time_sc_fault = [average_fault([time_data_small_clnd[j + i] for i in range(3)]) for j in range(0, len(time_data_small_clnd), 3)]"
   ]
  },
  {
   "cell_type": "markdown",
   "id": "c1ac8b5b-793c-4972-8da9-b8dd03b7603a",
   "metadata": {},
   "source": [
    "### *Graph*"
   ]
  },
  {
   "cell_type": "markdown",
   "id": "978c191a-d801-45e9-b973-ad1815fe9511",
   "metadata": {},
   "source": [
    "##### GRAPH I(T)"
   ]
  },
  {
   "cell_type": "code",
   "execution_count": 39,
   "id": "47fcf731-e48f-40d9-a620-1edc7b65a45b",
   "metadata": {},
   "outputs": [],
   "source": [
    "y =  [round(experimental_Inertia(M_clnd, time_data_small_clnd_table[i]) * 10000, 2) for i in range(n_small_clnd)]\n",
    "x = [(time_data_small_clnd_table[i]) for i in range(n_small_clnd)] "
   ]
  },
  {
   "cell_type": "code",
   "execution_count": 143,
   "id": "e0d93e1f-6605-4902-8bce-8ccd2a8f0b59",
   "metadata": {},
   "outputs": [
    {
     "data": {
      "text/plain": [
       "Text(0, 0.5, '$I, мкг*m^2$')"
      ]
     },
     "execution_count": 143,
     "metadata": {},
     "output_type": "execute_result"
    },
    {
     "data": {
      "image/png": "[encoded data removed]",
      "text/plain": [
       "<Figure size 640x480 with 1 Axes>"
      ]
     },
     "metadata": {},
     "output_type": "display_data"
    }
   ],
   "source": [
    "plt.plot(x, y)\n",
    "plt.scatter(x, y, color = 'g')\n",
    "plt.xlabel(r'$T, c$')\n",
    "plt.ylabel(r'$I, мкг*m^2$')"
   ]
  },
  {
   "cell_type": "markdown",
   "id": "55dacb4f-cb16-4808-a209-d25b82edf177",
   "metadata": {},
   "source": [
    "##### GRAPH I(T**2)"
   ]
  },
  {
   "cell_type": "code",
   "execution_count": 46,
   "id": "0e1ca47f-98ff-4d05-99f2-cacfaa48025c",
   "metadata": {},
   "outputs": [],
   "source": [
    "y =  [round(experimental_Inertia(M_clnd, time_data_small_clnd_table[i]) * 10000, 2) for i in range(n_small_clnd)]\n",
    "x2 = [(time_data_small_clnd_table[i] ** 2) for i in range(n_small_clnd)] "
   ]
  },
  {
   "cell_type": "code",
   "execution_count": 59,
   "id": "86f691c2-34a8-4458-bf53-291f823fc8ab",
   "metadata": {},
   "outputs": [
    {
     "data": {
      "image/png": "[encoded data removed]",
      "text/plain": [
       "<Figure size 640x480 with 1 Axes>"
      ]
     },
     "metadata": {},
     "output_type": "display_data"
    }
   ],
   "source": [
    "# plt.plot(x2, y)\n",
    "# plt.xlabel(r'$T, c^2$')\n",
    "# plt.ylabel(r'$I, мкг*m^2$')\n",
    "\n",
    "time_fault_clnd = [average_fault([time_data_small_clnd[j + i] for i in range(3)]) for j in range(n_small_clnd)] ##\n",
    "i_fault_clnd = [experimental_Inertia_fault(M_clnd, time_data_small_clnd_table[i], time_fault_clnd[i]) * experimental_Inertia(M_clnd, time_data_small_clnd_table[i]) * 10000 for i in range(n_small_clnd)]\n",
    "\n",
    "plt.errorbar(x2, y, xerr=time_fault_clnd, yerr = i_fault_clnd, fmt='-', ecolor='red', capsize = 3)\n",
    "\n",
    "plt.plot(x2, y, color = 'green', markersize = 5)\n",
    "plt.scatter(x2, y)\n",
    "\n",
    "# plt.plot(x2, y, ':', color = 'black', markersize = 1)\n",
    "plt.xlabel(r'$T^2, c^2$')\n",
    "plt.ylabel(r'$I, кг*cm^2$')\n",
    "plt.grid(True)\n",
    "# plt.legend(loc='best', fontsize=9)\n",
    "\n",
    "# plt.title(r'Зависимость напряжения $U_в$ от силы тока $I_а$ при l = 20см')\n",
    "plt.show()\n"
   ]
  },
  {
   "cell_type": "code",
   "execution_count": 41,
   "id": "70d1dd3e-746d-4da7-8007-41d304cd5ee9",
   "metadata": {},
   "outputs": [],
   "source": [
    "model1 = np.poly1d(np.polyfit(x, y, 1))\n",
    "model2 = np.poly1d(np.polyfit(x, y, 2))\n",
    "model3 = np.poly1d(np.polyfit(x, y, 3))\n",
    "model4 = np.poly1d(np.polyfit(x, y, 4))"
   ]
  },
  {
   "cell_type": "code",
   "execution_count": 155,
   "id": "451a78f5-b1ae-46b5-9900-8f0680b2585f",
   "metadata": {},
   "outputs": [
    {
     "name": "stdout",
     "output_type": "stream",
     "text": [
      " \n",
      "64.15 x - 122.8\n",
      "       2\n",
      "8.381 x - 0.1819 x + 0.3693\n"
     ]
    },
    {
     "data": {
      "image/png": "[encoded data removed]",
      "text/plain": [
       "<Figure size 640x480 with 1 Axes>"
      ]
     },
     "metadata": {},
     "output_type": "display_data"
    }
   ],
   "source": [
    "polyline = np.linspace(2, 5)\n",
    "plt.scatter(x, y)\n",
    "plt.xlabel(r'$T, c^2$')\n",
    "plt.ylabel(r'$I, кг*cm^2$')\n",
    "\n",
    "plt.plot(polyline, model1(polyline), color = 'red')\n",
    "plt.plot(polyline, model2(polyline), color = 'green')\n",
    "plt.plot(polyline, model3(polyline), color = 'purple')\n",
    "# plt.plot(polyline, model4(polyline), color = 'yellow')\n",
    "print(model1)\n",
    "print(model2)\n",
    "plt.show()"
   ]
  },
  {
   "cell_type": "code",
   "execution_count": 153,
   "id": "05a22931-9377-44a3-af66-d408ccf80727",
   "metadata": {},
   "outputs": [
    {
     "name": "stdout",
     "output_type": "stream",
     "text": [
      "{'r_squared': 0.9994808101780579}\n",
      "{'r_squared': 0.9999999426945676}\n",
      "{'r_squared': 0.999999928171017}\n",
      "{'r_squared': 0.9999999173212069}\n",
      "{'r_squared': 0.9999998946815534}\n"
     ]
    }
   ],
   "source": [
    "def adjR(x, y, degree):\n",
    "    results = {}\n",
    "    coeffs = np.polyfit(x, y, degree)\n",
    "    p = np.poly1d(coeffs)\n",
    "    yhat = p(x)\n",
    "    ybar = np.sum(y)/len(y)\n",
    "    ssreg = np.sum((yhat-ybar)**2)\n",
    "    sstot = np.sum((y - ybar)**2)\n",
    "    results['r_squared'] = 1- (((1-(ssreg/sstot))*(len(y)-1))/(len(y)-degree-1))\n",
    "\n",
    "    return results\n",
    "\n",
    "#calculated adjusted R-squared of each model\n",
    "print(adjR(x , y , 1))\n",
    "print(adjR(x , y , 2))\n",
    "print(adjR(x , y , 3))\n",
    "print(adjR(x , y , 4))\n",
    "print(adjR(x , y , 5))"
   ]
  },
  {
   "cell_type": "markdown",
   "id": "269e76ec-7c57-4d0d-a0c5-7a4ca8a9a8e1",
   "metadata": {},
   "source": [
    "### *Faults*"
   ]
  },
  {
   "cell_type": "code",
   "execution_count": 66,
   "id": "f2dd766c-d5cd-44af-817a-42766603a5c8",
   "metadata": {},
   "outputs": [
    {
     "data": {
      "image/png": "[encoded data removed]",
      "text/plain": [
       "<Figure size 800x0.0005 with 1 Axes>"
      ]
     },
     "metadata": {},
     "output_type": "display_data"
    }
   ],
   "source": [
    "column1 = {'№ опыта': [x for x in range(1, n_small_clnd + 1)] }            \n",
    "column2 = {'Погрешность периода $\\sigma_T$, с': [round(time_fault_clnd[i], 3) for i in range(n_small_clnd)]}\n",
    "column3 = {'Погрешность момента инерции $\\sigma_I, кг*cm^2$': [round(i_fault_clnd[i], 2) for i in range(n_small_clnd)]}\n",
    "column4 = {'Относительная погрешность момента инерции $\\epsilon_I, %2$': [round(experimental_Inertia_fault(M_clnd, time_data_small_clnd_table[i], time_fault_clnd[i])*100, 2) for i in range(n_small_clnd)]}\n",
    "\n",
    "column1.update(column2)\n",
    "column1.update(column3)\n",
    "column1.update(column4)\n",
    "\n",
    "table11 = pd.DataFrame(column1)\n",
    "\n",
    "fig = plt.figure(figsize = (8, 0.000005))\n",
    "ax = fig.add_subplot(111)\n",
    "ax.set_title(\"Тблица №4\", size = 11)\n",
    "\n",
    "data_table = ax.table(cellText = table11.values, colLabels = table11.columns)\n",
    "\n",
    "# tab2 = ax[2].table(cellText=dff.values, colLabels=dff.columns, loc='center', cellLoc='center')\n",
    "# ax[2].set_title(\"Column Width Auto Set, Font AutoSize off\")\n",
    "ax.axis(\"off\")\n",
    "data_table.auto_set_font_size(False)\n",
    "\n",
    "data_table.set_fontsize(8)\n",
    "\n",
    "data_table.auto_set_column_width(col=list(range(len(table11.columns)))) # Provide integer list of columns to adjust\n",
    "plt.show()"
   ]
  },
  {
   "cell_type": "code",
   "execution_count": 152,
   "id": "e2c0888f-a812-4beb-a7c6-b4d61125deed",
   "metadata": {},
   "outputs": [
    {
     "name": "stdout",
     "output_type": "stream",
     "text": [
      "moment of average inertia =  122.79736684820669\n",
      "fautl of moment of inertia  =  4.957395646484378\n",
      "relevant fault =  0.040370537037755505\n"
     ]
    }
   ],
   "source": [
    "i_disk_platf = average_value([experimental_Inertia(M_clnd, time_data_small_clnd_table[i]) * 10000 for i in range(n_small_clnd)])\n",
    "print(\"moment of average inertia = \", i_disk_platf)\n",
    "i_disk_platf_fault = average_fault([experimental_Inertia(M_clnd, time_data_small_clnd_table[i]) * 10000 for i in range(n_small_clnd)])\n",
    "print(\"fautl of moment of inertia  = \", i_disk_platf_fault)\n",
    "print(\"relevant fault = \", i_disk_platf_fault / i_disk_platf)"
   ]
  },
  {
   "cell_type": "markdown",
   "id": "8a1aca19-bd10-47d7-af71-a96a509daa5f",
   "metadata": {},
   "source": [
    "## *Ring*"
   ]
  },
  {
   "cell_type": "markdown",
   "id": "c1fd1022-de35-46b1-a3da-df2dcc3d3149",
   "metadata": {},
   "source": [
    "### *data*"
   ]
  },
  {
   "cell_type": "code",
   "execution_count": 86,
   "id": "e83e2dac-a052-4a61-bb6d-c231dacbef6a",
   "metadata": {},
   "outputs": [],
   "source": [
    "m_ring = 981.3 * 10 **(-3)\n",
    "D_ring = 163 * 10 **(-3)\n",
    "R_ring = D_ring / 2\n",
    "dR_ring = 0.5 * 10**(-3)\n",
    "\n",
    "n_ring = 5\n",
    "\n",
    "time_data_ring = [21.334, 21.286, 21.331, 21.333, 21.316]\n",
    "time_data_ring = [x / 5 for x in time_data_ring]\n",
    "\n",
    "time_fault_ring = average_fault(time_data_ring)\n",
    "\n"
   ]
  },
  {
   "cell_type": "markdown",
   "id": "1624d638-dac5-4c6c-847b-ece93c1ad009",
   "metadata": {},
   "source": [
    "### *table*"
   ]
  },
  {
   "cell_type": "code",
   "execution_count": 87,
   "id": "9cb0a207-4a49-42f7-87a3-86f63e51aac4",
   "metadata": {},
   "outputs": [
    {
     "data": {
      "image/png": "[encoded data removed]",
      "text/plain": [
       "<Figure size 400x5 with 1 Axes>"
      ]
     },
     "metadata": {},
     "output_type": "display_data"
    }
   ],
   "source": [
    "column1 = {'№ опыта': [x for x in range(n_ring)] }            \n",
    "column2 = {'Период T, с': [round(x, 2) for x in time_data_ring]}\n",
    "\n",
    "column1.update(column2)\n",
    "\n",
    "table22 = pd.DataFrame(column1)\n",
    "\n",
    "fig = plt.figure(figsize = (4, 0.05))\n",
    "ax = fig.add_subplot(111)\n",
    "\n",
    "ax.table(cellText = table22.values, colLabels = table22.columns)\n",
    "\n",
    "ax.set_title(\"Таблица №4\", size = 11)\n",
    "\n",
    "ax.axis(\"off\");"
   ]
  },
  {
   "cell_type": "markdown",
   "id": "41ea28b7-e0ef-4f7e-925f-cc85464bcb66",
   "metadata": {},
   "source": [
    "## *momemt of inertia of the ring theoretical*"
   ]
  },
  {
   "cell_type": "code",
   "execution_count": 88,
   "id": "3d6a72c3-82b3-40b2-969a-eade48506f68",
   "metadata": {},
   "outputs": [],
   "source": [
    "theoretical_I_ring_centre = m_ring * (R_ring**2)"
   ]
  },
  {
   "cell_type": "markdown",
   "id": "a02a41e6-95a7-43c9-b606-524a5e3ded3c",
   "metadata": {},
   "source": [
    "### *moment of inertia of the ring experimental*"
   ]
  },
  {
   "cell_type": "code",
   "execution_count": 125,
   "id": "c8919f86-50bc-43cb-b8c5-aedd9102d08d",
   "metadata": {},
   "outputs": [],
   "source": [
    "relevant_ring_fault = ((experimental_Inertia_fault(m_ring + m, average_value(time_data_ring), time_fault_ring))**2 + (experimental_Inertia_fault(m, average_value(time_data_empty_circle), time_fault_empty_circle))**2)**0.5\n",
    "theoretical_relevant_ring_fault = ((dm / m_ring)**2 + (2 * dR_ring / R_ring)**2)**0.5"
   ]
  },
  {
   "cell_type": "code",
   "execution_count": 126,
   "id": "10c963b8-3011-4e78-a2fe-4b1830181fb5",
   "metadata": {},
   "outputs": [
    {
     "name": "stdout",
     "output_type": "stream",
     "text": [
      "experimental moment of inertia of ring + cirlce =  146.89354110521316\n",
      "experimental relevant fault of inertia of ring  + circle = 0.010814701258772859\n",
      "experimental absolute fault of moment of inertia of ring + circle =  1.5886097638961514\n",
      "experimental moment of inertia ring =  0.006681778624053612\n",
      "only theoretical moment of ineritia ring =  65.18039925\n",
      "theoretical relevant ring fault =  0.012280513566026252\n",
      "absolute theoretical ring fault =  0.8004487772286323\n",
      "experimental moment of inertia of ring=  66.81778624053612\n",
      "относительная ошибка момента инерции кольца =  0.015281148230671008\n",
      "absolute ошибка момента инерции кольца =  1.0210524959869223\n",
      "relevant fault_ring_circle _inertia =  0.010814701258772859\n",
      "average period of ring =  4.264\n",
      "period fault =  0.0018209887424143322\n"
     ]
    }
   ],
   "source": [
    "experimental_I_ring_circle = experimental_Inertia(m_ring + m, average_value(time_data_ring))\n",
    "experimental_I_ring = experimental_I_ring_circle - I0\n",
    "fault_I_ring_circle = experimental_Inertia_fault(m_ring + m, average_value(time_data_ring), time_fault_ring)\n",
    "print(\"experimental moment of inertia of ring + cirlce = \", experimental_I_ring_circle * 10000)\n",
    "print(\"experimental relevant fault of inertia of ring  + circle =\", fault_I_ring_circle)\n",
    "print(\"experimental absolute fault of moment of inertia of ring + circle = \", fault_I_ring_circle * experimental_I_ring_circle * 10000)\n",
    "print(\"experimental moment of inertia ring = \", experimental_I_ring)\n",
    "print(\"only theoretical moment of ineritia ring = \", theoretical_I_ring_centre * 10000)\n",
    "print(\"theoretical relevant ring fault = \", theoretical_relevant_ring_fault)\n",
    "print(\"absolute theoretical ring fault = \", theoretical_relevant_ring_fault * theoretical_I_ring_centre * 10000)\n",
    "print(\"experimental moment of inertia of ring= \", experimental_I_ring * 10000)\n",
    "print(\"относительная ошибка момента инерции кольца = \", relevant_ring_fault)\n",
    "print(\"absolute ошибка момента инерции кольца = \", relevant_ring_fault * experimental_I_ring * 10000)\n",
    "print(\"relevant fault_ring_circle _inertia = \", fault_I_ring_circle)\n",
    "print(\"average period of ring = \", average_value(time_data_ring))\n",
    "print(\"period fault = \", time_fault_ring)\n"
   ]
  },
  {
   "cell_type": "markdown",
   "id": "5957dd9d-f652-4218-b239-7a06d5543fd0",
   "metadata": {},
   "source": [
    "## *Ring with closure*"
   ]
  },
  {
   "cell_type": "markdown",
   "id": "852dabf7-423e-43b2-9a9f-1b83e609acfd",
   "metadata": {},
   "source": [
    "### *data*"
   ]
  },
  {
   "cell_type": "code",
   "execution_count": 128,
   "id": "48417d4d-73e1-4982-8e8c-25de2b6e014f",
   "metadata": {},
   "outputs": [],
   "source": [
    "m_closure = 587.7 * 10 ** (-3)\n",
    "n_closure = 3\n",
    "\n",
    "time_data_closure = [20.048, 20.034, 20.027]\n",
    "time_data_closure = [x / 5 for x in time_data_closure]\n",
    "\n",
    "average_time_closure = average_value(time_data_closure)\n",
    "time_fault_closure = average_fault(time_data_closure)\n"
   ]
  },
  {
   "cell_type": "markdown",
   "id": "35b03a7f-2368-4b28-987d-6bd381938aa5",
   "metadata": {},
   "source": [
    "### *table*"
   ]
  },
  {
   "cell_type": "code",
   "execution_count": 124,
   "id": "2f0e4617-9ed8-4db0-9150-0b6bd784c781",
   "metadata": {},
   "outputs": [
    {
     "data": {
      "image/png": "[encoded data removed]",
      "text/plain": [
       "<Figure size 400x5 with 1 Axes>"
      ]
     },
     "metadata": {},
     "output_type": "display_data"
    }
   ],
   "source": [
    "column1 = {'№ опыта': [x for x in range(n_closure)] }            \n",
    "column2 = {'Период T, с': [round(x, 2) for x in time_data_closure]}\n",
    "\n",
    "column1.update(column2)\n",
    "\n",
    "table33 = pd.DataFrame(column1)\n",
    "\n",
    "fig = plt.figure(figsize = (4, 0.05))\n",
    "ax = fig.add_subplot(111)\n",
    "\n",
    "ax.table(cellText = table33.values, colLabels = table33.columns)\n",
    "\n",
    "ax.set_title(\"Таблица №5\", size = 11)\n",
    "\n",
    "ax.axis(\"off\");"
   ]
  },
  {
   "cell_type": "markdown",
   "id": "e8280e13-6b83-445c-84ca-ddee649eecd6",
   "metadata": {},
   "source": [
    "### *theoretical moment of inertia of closure only*"
   ]
  },
  {
   "cell_type": "code",
   "execution_count": 177,
   "id": "f0c233de-bc7e-4528-9376-0a5a9705192b",
   "metadata": {},
   "outputs": [],
   "source": [
    "theoretical_I_closure = m_closure * ((R_ring)**2) * 0.5 + m_ring * ((R_ring)**2)\n",
    "relevant_theoretical_I_closure = ((dm / m_closure)**2 + 2 * (2 * dR / R_ring)**2 + (dm / m_ring)**2)**0.5"
   ]
  },
  {
   "cell_type": "markdown",
   "id": "7abd82bd-b39c-4218-b80a-7af3d9d1370d",
   "metadata": {},
   "source": [
    "### *experimental moment of inertia of closure*"
   ]
  },
  {
   "cell_type": "code",
   "execution_count": 178,
   "id": "fed4a2b3-93f4-4671-a9f7-2b0714f91a05",
   "metadata": {},
   "outputs": [],
   "source": [
    "experimental_I_circle_ring_closure = experimental_Inertia(m + m_ring + m_closure, average_time_closure)\n",
    "relevant_experimental_I_circle_ring_closure_fault = experimental_Inertia_fault(m + m_ring + m_closure, average_time_closure, time_fault_closure)\n",
    "\n",
    "\n",
    "experimental_I_closure = experimental_I_circle_ring_closure - experimental_I_ring_circle\n",
    "relevant_experimental_I_closure_fault = ((relevant_experimental_I_circle_ring_closure_fault)**2 + (fault_I_ring_circle)**2)**0.5"
   ]
  },
  {
   "cell_type": "code",
   "execution_count": 180,
   "id": "a1ab56fc-de61-41dc-9599-ed0605883486",
   "metadata": {},
   "outputs": [
    {
     "name": "stdout",
     "output_type": "stream",
     "text": [
      "average period to closure =  4.007266666666667\n",
      "period fault closure =  0.0012346839451634515\n",
      "experimental moment of inertia of ring + circle + closure =  88.05163903410343\n",
      "experimental fault of moment of inertia of r + c + c =  1.8153269116722388\n",
      "theoretical moment of inertia of closure =  84.698650875\n",
      "theoretical fault moment of inertia of closure =  1.4721157307781905\n",
      "experimental moment of inertia of closure =  21.233852793567305\n",
      "experimental fault moment of inertia of closure =  0.32449613370393116\n"
     ]
    }
   ],
   "source": [
    "print(\"average period to closure = \", average_time_closure)\n",
    "print(\"period fault closure = \", time_fault_closure)\n",
    "\n",
    "print(\"experimental moment of inertia of ring + circle + closure = \", (experimental_I_circle_ring_closure - I0)* 10000)\n",
    "print(\"experimental fault of moment of inertia of r + c + c = \", experimental_I_circle_ring_closure * 10000 * relevant_experimental_I_circle_ring_closure_fault )\n",
    "\n",
    "print(\"theoretical moment of inertia of closure = \", theoretical_I_closure*10000)\n",
    "print(\"theoretical fault moment of inertia of closure = \", theoretical_I_closure*10000*relevant_theoretical_I_closure)\n",
    "\n",
    "print(\"experimental moment of inertia of closure = \", experimental_I_closure * 10000)\n",
    "print(\"experimental fault moment of inertia of closure = \", experimental_I_closure * 10000*relevant_experimental_I_closure_fault)"
   ]
  },
  {
   "cell_type": "markdown",
   "id": "68b4eaae-41f2-456d-993e-2da8c55cd4f9",
   "metadata": {},
   "source": [
    "## *only closure*"
   ]
  },
  {
   "cell_type": "markdown",
   "id": "82f813cc-a197-4324-8179-5f0c4ef20cd7",
   "metadata": {},
   "source": [
    "### *data*"
   ]
  },
  {
   "cell_type": "code",
   "execution_count": 132,
   "id": "294fb692-4d07-4797-92ca-c61c1905b9a5",
   "metadata": {},
   "outputs": [],
   "source": [
    "time_data_only_closure = [19.765, 19.740, 19.740]\n",
    "\n",
    "n_closure = 3\n",
    "\n",
    "time_data_only_closure = [x / 5 for x in time_data_only_closure]\n",
    "\n",
    "average_time_only_closure = average_value(time_data_only_closure)\n",
    "time_fault_only_closure = average_fault(time_data_only_closure)\n"
   ]
  },
  {
   "cell_type": "markdown",
   "id": "a65499e2-39fa-42c7-a817-c6e1689c9324",
   "metadata": {},
   "source": [
    "### *table*"
   ]
  },
  {
   "cell_type": "code",
   "execution_count": 133,
   "id": "6fa22cfc-da90-4fa1-abb7-6fb921376081",
   "metadata": {},
   "outputs": [
    {
     "data": {
      "image/png": "[encoded data removed]",
      "text/plain": [
       "<Figure size 400x5 with 1 Axes>"
      ]
     },
     "metadata": {},
     "output_type": "display_data"
    }
   ],
   "source": [
    "column1 = {'№ опыта': [x for x in range(n_closure)] }            \n",
    "column2 = {'Период T, с': [round(x, 2) for x in time_data_only_closure]}\n",
    "\n",
    "column1.update(column2)\n",
    "\n",
    "table44 = pd.DataFrame(column1)\n",
    "\n",
    "fig = plt.figure(figsize = (4, 0.05))\n",
    "ax = fig.add_subplot(111)\n",
    "\n",
    "ax.table(cellText = table44.values, colLabels = table44.columns)\n",
    "\n",
    "ax.set_title(\"Таблица №5\", size = 11)\n",
    "\n",
    "ax.axis(\"off\");"
   ]
  },
  {
   "cell_type": "markdown",
   "id": "b60e5c4d-470b-4e9b-9116-8725a7fd14ae",
   "metadata": {},
   "source": [
    "### *experimental moment of ineria of only closure*"
   ]
  },
  {
   "cell_type": "code",
   "execution_count": 139,
   "id": "1f162400-f155-426d-bf3c-04598fde91bd",
   "metadata": {},
   "outputs": [
    {
     "data": {
      "text/plain": [
       "0.015281734963802742"
      ]
     },
     "execution_count": 139,
     "metadata": {},
     "output_type": "execute_result"
    }
   ],
   "source": [
    "experimental_I_circle_closure = experimental_Inertia(m + m_closure, average_value(time_data_only_closure))\n",
    "relevant_experimental_I_circle_closure_fault = experimental_Inertia_fault(m + m_closure, average_value(time_data_only_closure), average_fault(time_data_only_closure))\n",
    "\n",
    "experimental_I_only_closure = experimental_I_circle_closure - I0\n",
    "relevant_experimental_I_only_closure_fault = ((relevant_experimental_I_circle_closure_fault)**2 + (I0_fault)**2)**0.5\n",
    "relevant_experimental_I_only_closure_fault "
   ]
  },
  {
   "cell_type": "code",
   "execution_count": 140,
   "id": "b734d644-5133-4176-acc5-634168a72054",
   "metadata": {},
   "outputs": [
    {
     "name": "stdout",
     "output_type": "stream",
     "text": [
      "average period to closure =  3.949666666666667\n",
      "period fault closure =  0.0016666666666669272\n",
      "experimental moment of inertia of circle + closure =  101.0572619808122\n",
      "experimental fault of moment of inertia of c + c =  1.0929878785328038\n",
      "experimental moment of inertia of closure =  20.981507116135163\n",
      "experimental fault moment of inertia of closure =  0.32063383088991876\n"
     ]
    }
   ],
   "source": [
    "print(\"average period to closure = \", average_value(time_data_only_closure))\n",
    "print(\"period fault closure = \", average_fault(time_data_only_closure))\n",
    "\n",
    "print(\"experimental moment of inertia of circle + closure = \", experimental_I_circle_closure * 10000)\n",
    "print(\"experimental fault of moment of inertia of c + c = \", experimental_I_circle_closure * 10000 * relevant_experimental_I_circle_closure_fault )\n",
    "\n",
    "print(\"experimental moment of inertia of closure = \", experimental_I_only_closure * 10000)\n",
    "print(\"experimental fault moment of inertia of closure = \", experimental_I_only_closure * 10000*relevant_experimental_I_only_closure_fault)"
   ]
  },
  {
   "cell_type": "markdown",
   "id": "5431fff2-896e-4a93-86ea-74840f7a10a5",
   "metadata": {},
   "source": [
    "## theoretical moment of inertia of only closure"
   ]
  },
  {
   "cell_type": "code",
   "execution_count": 176,
   "id": "300ab042-e494-4a6c-b0ba-f33b4cc3e381",
   "metadata": {},
   "outputs": [
    {
     "name": "stdout",
     "output_type": "stream",
     "text": [
      "theoretical moment of inertia of closure =  19.518251625000005\n",
      "fault =  0.24006276092243706\n"
     ]
    }
   ],
   "source": [
    "theor_I_closure = m_closure * (R_ring **2) * 0.5\n",
    "theor_I_closure_fault = ((dm / m_closure)**2 + (2 * dR/ R_ring)**2)**0.5\n",
    "\n",
    "print(\"theoretical moment of inertia of closure = \", theor_I_closure * 10000)\n",
    "print(\"fault = \", theor_I_closure_fault * theor_I_closure * 10000)"
   ]
  },
  {
   "cell_type": "code",
   "execution_count": null,
   "id": "81e1ad25-b054-4de6-a0f7-823bbf096653",
   "metadata": {},
   "outputs": [],
   "source": []
  }
 ],
 "metadata": {
  "kernelspec": {
   "display_name": "Python 3 (ipykernel)",
   "language": "python",
   "name": "python3"
  },
  "language_info": {
   "codemirror_mode": {
    "name": "ipython",
    "version": 3
   },
   "file_extension": ".py",
   "mimetype": "text/x-python",
   "name": "python",
   "nbconvert_exporter": "python",
   "pygments_lexer": "ipython3",
   "version": "3.10.12"
  }
 },
 "nbformat": 4,
 "nbformat_minor": 5
}
