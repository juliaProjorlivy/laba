{
 "cells": [
  {
   "cell_type": "markdown",
   "id": "006a678f-4069-44e4-855e-7793268ea9fd",
   "metadata": {},
   "source": [
    "### Погрешности "
   ]
  },
  {
   "cell_type": "code",
   "execution_count": 9,
   "id": "b45232fa-0eb9-4f4f-9998-cf47f9c884f4",
   "metadata": {},
   "outputs": [],
   "source": [
    "# random fault of the slope\n",
    "def RR(i, v):\n",
    "    s1 = s2 = 0\n",
    "    for index in range(1, len(i) + 1):\n",
    "        s1+=i[index]*v[index]\n",
    "        s2+=i[index]**2\n",
    "    return s1/s2\n",
    "\n",
    "def random_fault(i, v, n):\n",
    "    s1 = s2 = 0\n",
    "    for index in range(1, len(i) + 1):\n",
    "        s1+=v[index]**2\n",
    "        s2+=i[index]**2\n",
    "    return ((1/(n-1))*(s1/s2 - (RR(i, v))**2))**0.5\n",
    "        \n",
    "    "
   ]
  },
  {
   "cell_type": "code",
   "execution_count": 10,
   "id": "07667bde-721c-4971-a90d-c36457ca9923",
   "metadata": {},
   "outputs": [],
   "source": [
    "\n",
    "def sistematic_fault(i, v, delta_i, delta_v):\n",
    "    return RR(i, v)*((delta_v/max(v))**2 + (delta_i/max(i))**2)**0.5"
   ]
  },
  {
   "cell_type": "code",
   "execution_count": 11,
   "id": "5b471d29-1d8a-4e49-b0c5-0e3af142f562",
   "metadata": {},
   "outputs": [],
   "source": [
    "def full_fault(sist_fault, rand_fault):\n",
    "    return (sist_fault**2 + rand_fault**2)**0.5"
   ]
  },
  {
   "cell_type": "code",
   "execution_count": 12,
   "id": "ae3f4985-20bb-45bd-bf5a-bfb84c3e6681",
   "metadata": {},
   "outputs": [
    {
     "data": {
      "text/html": [
       "<div>\n",
       "<style scoped>\n",
       "    .dataframe tbody tr th:only-of-type {\n",
       "        vertical-align: middle;\n",
       "    }\n",
       "\n",
       "    .dataframe tbody tr th {\n",
       "        vertical-align: top;\n",
       "    }\n",
       "\n",
       "    .dataframe thead th {\n",
       "        text-align: right;\n",
       "    }\n",
       "</style>\n",
       "<table border=\"1\" class=\"dataframe\">\n",
       "  <thead>\n",
       "    <tr style=\"text-align: right;\">\n",
       "      <th></th>\n",
       "      <th>Uv, mV</th>\n",
       "      <th>Ia, mA</th>\n",
       "    </tr>\n",
       "  </thead>\n",
       "  <tbody>\n",
       "    <tr>\n",
       "      <th>1</th>\n",
       "      <td>305.0</td>\n",
       "      <td>147.70</td>\n",
       "    </tr>\n",
       "    <tr>\n",
       "      <th>2</th>\n",
       "      <td>367.5</td>\n",
       "      <td>178.74</td>\n",
       "    </tr>\n",
       "    <tr>\n",
       "      <th>3</th>\n",
       "      <td>397.5</td>\n",
       "      <td>193.00</td>\n",
       "    </tr>\n",
       "    <tr>\n",
       "      <th>4</th>\n",
       "      <td>430.0</td>\n",
       "      <td>208.45</td>\n",
       "    </tr>\n",
       "    <tr>\n",
       "      <th>5</th>\n",
       "      <td>460.0</td>\n",
       "      <td>223.45</td>\n",
       "    </tr>\n",
       "    <tr>\n",
       "      <th>6</th>\n",
       "      <td>485.0</td>\n",
       "      <td>236.83</td>\n",
       "    </tr>\n",
       "    <tr>\n",
       "      <th>7</th>\n",
       "      <td>520.0</td>\n",
       "      <td>252.80</td>\n",
       "    </tr>\n",
       "  </tbody>\n",
       "</table>\n",
       "</div>"
      ],
      "text/plain": [
       "   Uv, mV  Ia, mA\n",
       "1   305.0  147.70\n",
       "2   367.5  178.74\n",
       "3   397.5  193.00\n",
       "4   430.0  208.45\n",
       "5   460.0  223.45\n",
       "6   485.0  236.83\n",
       "7   520.0  252.80"
      ]
     },
     "execution_count": 12,
     "metadata": {},
     "output_type": "execute_result"
    }
   ],
   "source": [
    "import pandas as pd\n",
    "import numpy as np\n",
    "import matplotlib.pyplot as plt\n",
    "n = 7\n",
    "\n",
    "table1 = pd.DataFrame({\n",
    "                        'Uv, mV': [5*61, 5*73.5, 5*79.5, 5*86, 5*92, 5*97, 5*104],\n",
    "                        'Ia, mA': [147.7, 178.74, 193, 208.45, 223.45, 236.83, 252.8],},  index= [1, 2, 3, 4, 5, 6, 7])\n",
    "table1"
   ]
  },
  {
   "cell_type": "code",
   "execution_count": 13,
   "id": "c3d48e3e-4564-4650-b4b1-268fc847b082",
   "metadata": {},
   "outputs": [],
   "source": [
    "x = table1['Ia, mA']\n",
    "y = table1['Uv, mV']\n",
    "model1 = np.polyfit(x, y, 1)\n",
    "R1 = model1[0]"
   ]
  },
  {
   "cell_type": "code",
   "execution_count": 17,
   "id": "41609817-5ae1-4ecf-aaec-2847094be828",
   "metadata": {},
   "outputs": [
    {
     "name": "stdout",
     "output_type": "stream",
     "text": [
      "R1 =  2.040468365183917\n",
      "RR1 =  2.0572037989115546\n"
     ]
    },
    {
     "data": {
      "text/plain": [
       "array([2.04046837, 3.53518569])"
      ]
     },
     "execution_count": 17,
     "metadata": {},
     "output_type": "execute_result"
    }
   ],
   "source": [
    "print(\"R1 = \", R1)\n",
    "RR1 = RR(x, y)\n",
    "print(\"RR1 = \", RR1)\n",
    "model1"
   ]
  },
  {
   "cell_type": "code",
   "execution_count": 18,
   "id": "b6ab040e-d2f9-4fb2-970e-4d968258a8f2",
   "metadata": {},
   "outputs": [],
   "source": [
    "rand_fault1 = random_fault(x, y, n)\n",
    "sist_fault1 = sistematic_fault(x, y, xerr, yerr)\n",
    "full_fault1 = full_fault(sist_fault1, rand_fault1)"
   ]
  },
  {
   "cell_type": "code",
   "execution_count": 19,
   "id": "037fd5d2-6251-42c7-bb7d-67a013f2a554",
   "metadata": {},
   "outputs": [
    {
     "name": "stdout",
     "output_type": "stream",
     "text": [
      "random_fualt1 =  0.0020849007860814675\n",
      "sistematic_fault1 =  0.010694648223225862\n",
      "full_fault1 =  0.01089597686792475\n"
     ]
    }
   ],
   "source": [
    "print(\"random_fualt1 = \", rand_fault1)\n",
    "print(\"sistematic_fault1 = \", sist_fault1)\n",
    "print(\"full_fault1 = \", full_fault1)"
   ]
  },
  {
   "cell_type": "code",
   "execution_count": 20,
   "id": "3d552fcc-b9cd-49c5-84ca-098198071e36",
   "metadata": {},
   "outputs": [
    {
     "data": {
      "image/png": "[encoded data removed]",
      "text/plain": [
       "<Figure size 640x480 with 1 Axes>"
      ]
     },
     "metadata": {},
     "output_type": "display_data"
    }
   ],
   "source": [
    "\n",
    "plt.yticks(np.arange(0, 750, 25))\n",
    "plt.xticks(np.arange(0,  400, 10))\n",
    "\n",
    "xerr = 0.5\n",
    "yerr = 2.5\n",
    "plt.errorbar(x, y, xerr=xerr, yerr=yerr, fmt='o-', ecolor='red')\n",
    "\n",
    "plt.plot(x, y, label = \"l = 20 см\\nk = \" + str(round(RR1, 4)) + \"$\\pm$\" + str(round(full_fault1, 4)) + \" $\\Omega$\", color = 'blue')\n",
    "plt.xlabel(r'$I_а, мА$')\n",
    "plt.ylabel(r'$U_в, мВ$')\n",
    "plt.grid(True)\n",
    "plt.legend(loc='best', fontsize=9)\n",
    "\n",
    "plt.title(r'Зависимость напряжения $U_в$ от силы тока $I_а$ при l = 20см')\n",
    "plt.show()"
   ]
  },
  {
   "cell_type": "markdown",
   "id": "79c5fde0-d246-405c-a3e2-128ede036a04",
   "metadata": {},
   "source": [
    "### Таблица №2\n",
    "#### Зависимость напряжения от силы тока при l = 30cm"
   ]
  },
  {
   "cell_type": "code",
   "execution_count": 23,
   "id": "9412d58c-31c3-4e22-bde5-e041dc24664a",
   "metadata": {},
   "outputs": [
    {
     "data": {
      "text/html": [
       "<div>\n",
       "<style scoped>\n",
       "    .dataframe tbody tr th:only-of-type {\n",
       "        vertical-align: middle;\n",
       "    }\n",
       "\n",
       "    .dataframe tbody tr th {\n",
       "        vertical-align: top;\n",
       "    }\n",
       "\n",
       "    .dataframe thead th {\n",
       "        text-align: right;\n",
       "    }\n",
       "</style>\n",
       "<table border=\"1\" class=\"dataframe\">\n",
       "  <thead>\n",
       "    <tr style=\"text-align: right;\">\n",
       "      <th></th>\n",
       "      <th>Uv, mV</th>\n",
       "      <th>Ia, mA</th>\n",
       "    </tr>\n",
       "  </thead>\n",
       "  <tbody>\n",
       "    <tr>\n",
       "      <th>1</th>\n",
       "      <td>440.0</td>\n",
       "      <td>144.47</td>\n",
       "    </tr>\n",
       "    <tr>\n",
       "      <th>2</th>\n",
       "      <td>485.0</td>\n",
       "      <td>159.48</td>\n",
       "    </tr>\n",
       "    <tr>\n",
       "      <th>3</th>\n",
       "      <td>532.5</td>\n",
       "      <td>174.55</td>\n",
       "    </tr>\n",
       "    <tr>\n",
       "      <th>4</th>\n",
       "      <td>575.0</td>\n",
       "      <td>187.95</td>\n",
       "    </tr>\n",
       "    <tr>\n",
       "      <th>5</th>\n",
       "      <td>620.0</td>\n",
       "      <td>203.50</td>\n",
       "    </tr>\n",
       "    <tr>\n",
       "      <th>6</th>\n",
       "      <td>662.5</td>\n",
       "      <td>217.13</td>\n",
       "    </tr>\n",
       "    <tr>\n",
       "      <th>7</th>\n",
       "      <td>707.5</td>\n",
       "      <td>232.17</td>\n",
       "    </tr>\n",
       "  </tbody>\n",
       "</table>\n",
       "</div>"
      ],
      "text/plain": [
       "   Uv, mV  Ia, mA\n",
       "1   440.0  144.47\n",
       "2   485.0  159.48\n",
       "3   532.5  174.55\n",
       "4   575.0  187.95\n",
       "5   620.0  203.50\n",
       "6   662.5  217.13\n",
       "7   707.5  232.17"
      ]
     },
     "execution_count": 23,
     "metadata": {},
     "output_type": "execute_result"
    }
   ],
   "source": [
    "table2 = pd.DataFrame({\n",
    "                        'Uv, mV': [88, 97, 106.5, 115, 124, 132.5, 141.5],\n",
    "                        'Ia, mA': [144.47, 159.48, 174.55, 187.95, 203.5, 217.13, 232.17],},  index= [1, 2, 3, 4, 5, 6, 7])\n",
    "\n",
    "for i in range(1, n + 1):\n",
    "    table2['Uv, mV'][i] =table2['Uv, mV'][i]*5\n",
    "table2"
   ]
  },
  {
   "cell_type": "code",
   "execution_count": 25,
   "id": "e8938f3d-de87-4e8b-a4e7-accda007c674",
   "metadata": {},
   "outputs": [],
   "source": [
    "x2 = table2['Ia, mA']\n",
    "y2 = table2['Uv, mV']\n",
    "model2 = np.polyfit(x2, y2, 1)"
   ]
  },
  {
   "cell_type": "code",
   "execution_count": 26,
   "id": "4a086a5c-ae00-4860-b1ac-3330d9bbf9b6",
   "metadata": {},
   "outputs": [
    {
     "name": "stdout",
     "output_type": "stream",
     "text": [
      "R2 =  3.0561298000466217\n",
      "RR2 =  3.0492450514766243\n"
     ]
    },
    {
     "data": {
      "text/plain": [
       "array([ 3.0561298 , -1.32846267])"
      ]
     },
     "execution_count": 26,
     "metadata": {},
     "output_type": "execute_result"
    }
   ],
   "source": [
    "print(\"R2 = \", model2[0])\n",
    "RR2 = RR(x2, y2)\n",
    "print(\"RR2 = \", RR2)\n",
    "model2"
   ]
  },
  {
   "cell_type": "code",
   "execution_count": 34,
   "id": "1be16028-0f91-4e5b-b62d-4ff6724275a5",
   "metadata": {},
   "outputs": [
    {
     "name": "stdout",
     "output_type": "stream",
     "text": [
      "rand_fault2 =  0.0020219617671753914\n",
      "sist_fault2 =  0.01744523016636513\n",
      "full_fault2 =  0.01756201540101178\n"
     ]
    }
   ],
   "source": [
    "rand_fault2 = random_fault(x2, y2, n)\n",
    "sist_fault2 = sistematic_fault(x2, y2, xerr, yerr)\n",
    "full_fault2 = full_fault(sist_fault2, rand_fault2)\n",
    "print(\"rand_fault2 = \", rand_fault2)\n",
    "print(\"sist_fault2 = \", sist_fault2)\n",
    "print(\"full_fault2 = \", full_fault2)"
   ]
  },
  {
   "cell_type": "code",
   "execution_count": 28,
   "id": "72c71fef-c7ab-4a7c-aa46-6596c6296210",
   "metadata": {},
   "outputs": [
    {
     "data": {
      "image/png": "[encoded data removed]",
      "text/plain": [
       "<Figure size 640x480 with 1 Axes>"
      ]
     },
     "metadata": {},
     "output_type": "display_data"
    }
   ],
   "source": [
    "\n",
    "\n",
    "xerr = 0.5\n",
    "yerr = 2.5\n",
    "\n",
    "plt.yticks(np.arange(0, 750, 25))\n",
    "plt.xticks(np.arange(0, 400, 10))\n",
    "plt.errorbar(x2, y2, xerr=xerr, yerr=yerr, fmt='o-', ecolor='red')\n",
    "\n",
    "plt.plot(x2, y2, label = \"l = 30 см\\nk = \" + str(round(RR2, 4)) + \"$\\pm$\" + str(round(full_fault2, 4)) + \" $\\Omega$\", color = 'blue')\n",
    "plt.xlabel(r'$I_а, мА$')\n",
    "plt.ylabel(r'$U_в, мВ$')\n",
    "plt.legend(loc='best', fontsize=9)\n",
    "plt.grid(True)\n",
    "\n",
    "\n",
    "plt.title(r'Зависимость напряжения $U_в$ от силы тока $I_а$ при l = 30см')\n",
    "plt.show()"
   ]
  },
  {
   "cell_type": "markdown",
   "id": "6f61bf37-f3af-491d-b4c6-fc0c3871ba29",
   "metadata": {},
   "source": [
    "### Таблица 3\n",
    "#### Зависимость напряжения от силы тока при l = 50cm"
   ]
  },
  {
   "cell_type": "code",
   "execution_count": 29,
   "id": "de7be671-b8d7-4fdb-a054-5f3caf6336bc",
   "metadata": {},
   "outputs": [
    {
     "data": {
      "text/html": [
       "<div>\n",
       "<style scoped>\n",
       "    .dataframe tbody tr th:only-of-type {\n",
       "        vertical-align: middle;\n",
       "    }\n",
       "\n",
       "    .dataframe tbody tr th {\n",
       "        vertical-align: top;\n",
       "    }\n",
       "\n",
       "    .dataframe thead th {\n",
       "        text-align: right;\n",
       "    }\n",
       "</style>\n",
       "<table border=\"1\" class=\"dataframe\">\n",
       "  <thead>\n",
       "    <tr style=\"text-align: right;\">\n",
       "      <th></th>\n",
       "      <th>Uv, mV</th>\n",
       "      <th>Ia, mA</th>\n",
       "    </tr>\n",
       "  </thead>\n",
       "  <tbody>\n",
       "    <tr>\n",
       "      <th>1</th>\n",
       "      <td>107.5</td>\n",
       "      <td>21.42</td>\n",
       "    </tr>\n",
       "    <tr>\n",
       "      <th>2</th>\n",
       "      <td>162.5</td>\n",
       "      <td>32.20</td>\n",
       "    </tr>\n",
       "    <tr>\n",
       "      <th>3</th>\n",
       "      <td>215.0</td>\n",
       "      <td>42.80</td>\n",
       "    </tr>\n",
       "    <tr>\n",
       "      <th>4</th>\n",
       "      <td>340.0</td>\n",
       "      <td>67.80</td>\n",
       "    </tr>\n",
       "    <tr>\n",
       "      <th>5</th>\n",
       "      <td>412.5</td>\n",
       "      <td>82.00</td>\n",
       "    </tr>\n",
       "    <tr>\n",
       "      <th>6</th>\n",
       "      <td>485.0</td>\n",
       "      <td>96.58</td>\n",
       "    </tr>\n",
       "    <tr>\n",
       "      <th>7</th>\n",
       "      <td>547.5</td>\n",
       "      <td>109.12</td>\n",
       "    </tr>\n",
       "  </tbody>\n",
       "</table>\n",
       "</div>"
      ],
      "text/plain": [
       "   Uv, mV  Ia, mA\n",
       "1   107.5   21.42\n",
       "2   162.5   32.20\n",
       "3   215.0   42.80\n",
       "4   340.0   67.80\n",
       "5   412.5   82.00\n",
       "6   485.0   96.58\n",
       "7   547.5  109.12"
      ]
     },
     "execution_count": 29,
     "metadata": {},
     "output_type": "execute_result"
    }
   ],
   "source": [
    "table3 = pd.DataFrame({\n",
    "                        'Uv, mV': [21.5, 32.5, 43, 68, 82.5, 97, 109.5],\n",
    "                        'Ia, mA': [21.42, 32.2, 42.8, 67.8, 82, 96.58, 109.12],},  index= [1, 2, 3, 4, 5, 6, 7])\n",
    "\n",
    "for i in range(1, n + 1):\n",
    "    table3['Uv, mV'][i] =table3['Uv, mV'][i]*5\n",
    "    \n",
    "table3"
   ]
  },
  {
   "cell_type": "code",
   "execution_count": 30,
   "id": "c2d2e30c-6e34-43fd-8ee3-1e85c0237780",
   "metadata": {},
   "outputs": [],
   "source": [
    "x3 = table3['Ia, mA']\n",
    "y3 = table3['Uv, mV']\n",
    "model3 = np.polyfit(x3, y3, 1)"
   ]
  },
  {
   "cell_type": "code",
   "execution_count": 31,
   "id": "b6a6e59f-52e7-4766-bed4-5613c1c21642",
   "metadata": {},
   "outputs": [
    {
     "name": "stdout",
     "output_type": "stream",
     "text": [
      "R3 =  5.016577579014476\n",
      "RR3 =  5.021810034862212\n"
     ]
    },
    {
     "data": {
      "text/plain": [
       "array([5.01657758, 0.41546578])"
      ]
     },
     "execution_count": 31,
     "metadata": {},
     "output_type": "execute_result"
    }
   ],
   "source": [
    "print(\"R3 = \", model3[0])\n",
    "RR3 = RR(x3, y3)\n",
    "print(\"RR3 = \", RR3)\n",
    "model3"
   ]
  },
  {
   "cell_type": "code",
   "execution_count": 35,
   "id": "f7df6485-25d0-4d1c-bc29-905a3e572aa3",
   "metadata": {},
   "outputs": [
    {
     "name": "stdout",
     "output_type": "stream",
     "text": [
      "rand_fault3 =  0.002735572753624397\n",
      "sist_fault3 =  0.041383146357346384\n",
      "full_fault3 =  0.0414734633316766\n"
     ]
    }
   ],
   "source": [
    "rand_fault3 = random_fault(x3, y3, n)\n",
    "sist_fault3 = sistematic_fault(x3, y3, xerr, yerr)\n",
    "full_fault3 = full_fault(sist_fault3, rand_fault3)\n",
    "print(\"rand_fault3 = \", rand_fault3)\n",
    "print(\"sist_fault3 = \", sist_fault3)\n",
    "print(\"full_fault3 = \", full_fault3)"
   ]
  },
  {
   "cell_type": "code",
   "execution_count": 33,
   "id": "41a99c70-fef4-4c91-9dde-2726b5a00643",
   "metadata": {},
   "outputs": [
    {
     "data": {
      "image/png": "[encoded data removed]",
      "text/plain": [
       "<Figure size 640x480 with 1 Axes>"
      ]
     },
     "metadata": {},
     "output_type": "display_data"
    }
   ],
   "source": [
    "\n",
    "\n",
    "xerr = 0.5\n",
    "yerr = 3.75\n",
    "\n",
    "plt.yticks(np.arange(0, 750, 50))\n",
    "plt.xticks(np.arange(0, 200, 10))\n",
    "plt.errorbar(x3, y3, xerr=xerr, yerr=yerr, fmt='o-', color='blue')\n",
    "plt.plot(x3, y3, label = \"l = 50 см\\nk = \" + str(round(RR3, 4)) + \"$\\pm$\" + str(round(full_fault3, 4)) + \" $\\Omega$\", color = 'blue')\n",
    "\n",
    "plt.legend(loc='best', fontsize=9)\n",
    "plt.xlabel(r'$I_а, мА$')\n",
    "plt.ylabel(r'$U_в, мВ$')\n",
    "plt.grid(True)\n",
    "\n",
    "plt.title(r'Зависимость напряжения $U_в$ от силы тока '+ r'$I_а$' + r' при l = 50см')\n",
    "plt.show()"
   ]
  },
  {
   "cell_type": "markdown",
   "id": "dfa9f5d0-17c2-4718-9782-458f6cfdaf76",
   "metadata": {},
   "source": [
    "### удельное сопротивление "
   ]
  },
  {
   "cell_type": "code",
   "execution_count": 44,
   "id": "57dac9b8-5250-41b7-b33b-1b84d220ccff",
   "metadata": {},
   "outputs": [],
   "source": [
    "full_d_fault = 0.01 * 0.001\n",
    "d = 0.325 * 0.001\n",
    "l_fault = 0.2 * 0.01\n",
    "l1 = 0.2\n",
    "l2 = 0.3\n",
    "l3 = 0.5\n",
    "ro_const = 3.14 * (d**2)/4"
   ]
  },
  {
   "cell_type": "code",
   "execution_count": 45,
   "id": "908d275d-e2e8-4dd1-9af3-7a4c9835d649",
   "metadata": {},
   "outputs": [],
   "source": [
    "def resistance_fault(full_fault, RR, lx):\n",
    "    return (ro_const/lx) * ((full_fault)**2 + (2*RR*full_d_fault/d)**2 + (RR*full_fault/lx)**2)**0.5"
   ]
  },
  {
   "cell_type": "code",
   "execution_count": 49,
   "id": "29fd61c3-f184-4a2d-9c97-43f2ddbb589c",
   "metadata": {},
   "outputs": [
    {
     "name": "stdout",
     "output_type": "stream",
     "text": [
      "resistance1_fault =  7.024211578275237e-08\n",
      "resistance1 =  8.528716936956296e-07\n",
      "resistance2_fault =  7.174461631323385e-08\n",
      "resistance2 =  8.427668640711385e-07\n",
      "resistance3_fault =  8.62850142997296e-08\n",
      "resistance3 =  8.327730353437444e-07\n"
     ]
    }
   ],
   "source": [
    "print(\"resistance1_fault = \", resistance_fault(full_fault1, RR1, l1))\n",
    "print(\"resistance1 = \", RR1*ro_const/l1)\n",
    "print(\"resistance2_fault = \", resistance_fault(full_fault2, RR2, l2))\n",
    "print(\"resistance2 = \", RR2*ro_const/l2)\n",
    "print(\"resistance3_fault = \", resistance_fault(full_fault3, RR3, l3))\n",
    "print(\"resistance3 = \", RR3*ro_const/l3)"
   ]
  },
  {
   "cell_type": "code",
   "execution_count": null,
   "id": "f40a1b0b-9db5-425f-8f9f-9c4e79fcdfa4",
   "metadata": {},
   "outputs": [],
   "source": []
  }
 ],
 "metadata": {
  "kernelspec": {
   "display_name": "Python 3 (ipykernel)",
   "language": "python",
   "name": "python3"
  },
  "language_info": {
   "codemirror_mode": {
    "name": "ipython",
    "version": 3
   },
   "file_extension": ".py",
   "mimetype": "text/x-python",
   "name": "python",
   "nbconvert_exporter": "python",
   "pygments_lexer": "ipython3",
   "version": "3.10.12"
  }
 },
 "nbformat": 4,
 "nbformat_minor": 5
}
