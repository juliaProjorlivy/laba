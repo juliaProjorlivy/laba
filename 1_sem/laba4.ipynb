{
 "cells": [
  {
   "cell_type": "code",
   "execution_count": 287,
   "id": "72227054-bfab-4937-8311-62209831b3a7",
   "metadata": {},
   "outputs": [],
   "source": [
    "import pandas as pd\n",
    "import numpy as np\n",
    "import math\n",
    "import matplotlib.pyplot as plt\n",
    "\n",
    "\n",
    "from matplotlib.pyplot import (axes,axis,title,legend,figure,\n",
    "                               xlabel,ylabel,xticks,yticks,\n",
    "                               xscale,yscale,text,grid,\n",
    "                               plot,scatter,errorbar,hist,polar,\n",
    "                               contour,contourf,colorbar,clabel,\n",
    "                               imshow)\n",
    "from mpl_toolkits.mplot3d import Axes3D\n",
    "from numpy import (linspace,logspace,zeros,ones,outer,meshgrid,\n",
    "                   pi,sin,cos,sqrt,exp)\n",
    "from numpy.random import normal\n",
    "%matplotlib inline\n",
    "\n",
    "plt.style.use('fivethirtyeight')\n",
    "pi = np.pi\n",
    "g = 10"
   ]
  },
  {
   "cell_type": "code",
   "execution_count": 19,
   "id": "29e9622b-fb49-401d-9d19-257762d2250c",
   "metadata": {},
   "outputs": [],
   "source": [
    "def average_value(arr):\n",
    "    return sum(arr) / len(arr)\n",
    "def average_fault(arr):\n",
    "    len_arr = len(arr)\n",
    "    average_value = sum(arr)/len_arr\n",
    "    res = 0\n",
    "    for i in range(len(arr)):\n",
    "        res+=(arr[i] - average_value)**2\n",
    "    res = (res/(len_arr * (len_arr - 1)))**0.5\n",
    "    return res"
   ]
  },
  {
   "cell_type": "markdown",
   "id": "7b9ab939-9896-4a6f-81d0-8c014c3f8a37",
   "metadata": {},
   "source": [
    "# Empty frame"
   ]
  },
  {
   "cell_type": "markdown",
   "id": "8ee34f06-31e9-415c-b827-0876ae427527",
   "metadata": {},
   "source": [
    "## *data*"
   ]
  },
  {
   "cell_type": "code",
   "execution_count": 187,
   "id": "4aaa9117-13dd-4e8c-9863-e14adfd48820",
   "metadata": {},
   "outputs": [],
   "source": [
    "m_frame = 2083.3 * 10 ** (-3)\n",
    "\n",
    "time_data_empty_frame = [44.22, 43.97, 44.56]\n",
    "time_data_empty_frame = [x / 10 for x in time_data_empty_frame]\n",
    "\n",
    "period_empty_frame = average_value(time_data_empty_frame)\n",
    "period_empty_frame_fault = average_fault(time_data_empty_frame)\n",
    "\n"
   ]
  },
  {
   "cell_type": "code",
   "execution_count": 188,
   "id": "89e3818e-2e00-4a67-97d0-714f4d974679",
   "metadata": {},
   "outputs": [
    {
     "name": "stdout",
     "output_type": "stream",
     "text": [
      "period =  4.425\n",
      "period fault =  0.017097758137642947\n",
      "[4.422, 4.397, 4.456]\n"
     ]
    }
   ],
   "source": [
    "print(\"period = \", period_empty_frame)\n",
    "print(\"period fault = \", period_empty_frame_fault)\n",
    "print(time_data_empty_frame)"
   ]
  },
  {
   "cell_type": "code",
   "execution_count": 31,
   "id": "8759a007-893b-4680-8236-c9ac78407de9",
   "metadata": {},
   "outputs": [],
   "source": []
  },
  {
   "cell_type": "markdown",
   "id": "ce9714e9-7b13-4e97-8df6-248173b8e158",
   "metadata": {},
   "source": [
    "# Cylinder"
   ]
  },
  {
   "cell_type": "markdown",
   "id": "e38e7e71-cdee-4f6d-8b7f-f2387e860256",
   "metadata": {},
   "source": [
    "## *data*"
   ]
  },
  {
   "cell_type": "code",
   "execution_count": 11,
   "id": "62a63589-892e-487e-b989-fcfc419411c7",
   "metadata": {},
   "outputs": [],
   "source": [
    "m_clnd = 2263.7 * 10 ** (-3)\n",
    "d_clnd = 85 * 10 ** (-3)\n",
    "h_clnd = 49 * 10 ** (-3)\n",
    "\n",
    "dm = 0.5 * 10 ** (-3)\n",
    "dr = 0.01 * 10 ** (-3)\n",
    "n = 3"
   ]
  },
  {
   "cell_type": "code",
   "execution_count": 332,
   "id": "0e57a18d-684a-48c8-9f9a-449794fdfc44",
   "metadata": {},
   "outputs": [],
   "source": [
    "time_data_clnd_oz = [29.19 + 28.03 + 27.34, 27.06 + 28.25 + 27.44, 27.41 + 28.00 + 28.34]\n",
    "time_data_clnd_oz = [(x / 15) for x in time_data_clnd_oz]\n",
    "\n",
    "time_data_clnd_ox = [26.09 + 26.40 + 26.50, 26.60 + 26.70 + 26.35, 26.72 + 26.06 + 26.09]\n",
    "time_data_clnd_ox = [(x / 15) for x in time_data_clnd_ox]\n",
    "\n",
    "tcx = average_value(time_data_clnd_ox)\n",
    "tcz = average_value(time_data_clnd_oz)\n",
    "\n",
    "tcx_fault = average_fault(time_data_clnd_ox)\n",
    "tcz_fault = average_fault(time_data_clnd_oz)"
   ]
  },
  {
   "cell_type": "code",
   "execution_count": 333,
   "id": "1e2af916-948f-4e97-aa80-08c5808046c4",
   "metadata": {},
   "outputs": [
    {
     "name": "stdout",
     "output_type": "stream",
     "text": [
      "x 5.278 0.01616580753730968\n",
      "z 5.579111111111111 0.034897380424522235\n"
     ]
    }
   ],
   "source": [
    "print(\"x\", tcx, tcx_fault)\n",
    "print(\"z\", tcz, tcz_fault)"
   ]
  },
  {
   "cell_type": "code",
   "execution_count": 330,
   "id": "06391728-fd98-46a5-ae42-376d292b2a74",
   "metadata": {},
   "outputs": [
    {
     "data": {
      "image/png": "[encoded data removed]",
      "text/plain": [
       "<Figure size 400x5 with 1 Axes>"
      ]
     },
     "metadata": {},
     "output_type": "display_data"
    }
   ],
   "source": [
    "column1 = {'№ опыта': [x for x in range(n)] }            \n",
    "column2 = {'Период T по oz, с': [round(x, 2) for x in time_data_clnd_oz]}\n",
    "column3 = {'Период T по ox, с': [round(x, 2) for x in time_data_clnd_ox]}\n",
    "\n",
    "column1.update(column2)\n",
    "column1.update(column3)\n",
    "\n",
    "table1 = pd.DataFrame(column1)\n",
    "\n",
    "fig = plt.figure(figsize = (4, 0.05))\n",
    "ax = fig.add_subplot(111)\n",
    "\n",
    "ax.table(cellText = table1.values, colLabels = table1.columns)\n",
    "\n",
    "ax.set_title(\"Таблица №1\", size = 11)\n",
    "\n",
    "ax.axis(\"off\");"
   ]
  },
  {
   "cell_type": "markdown",
   "id": "af225b28-c99d-47ae-80c5-a1d4b63073eb",
   "metadata": {},
   "source": [
    "## *theoretical moment of inertia of clnd*"
   ]
  },
  {
   "cell_type": "code",
   "execution_count": 334,
   "id": "1f953af2-768a-4744-9957-da42e0cd6be3",
   "metadata": {},
   "outputs": [],
   "source": [
    "theoretical_I_clnd_x = m_clnd * ((d_clnd / 2)**2) * 0.5\n",
    "theoretical_I_clnd_fault_x = ((dm / m_clnd)**2 + (dr / d_clnd)**2)**0.5\n",
    "\n",
    "theoretical_I_clnd_z = m_clnd*(0.25 * (d_clnd / 2)**2 + (1 / 12)*(h_clnd)**2)"
   ]
  },
  {
   "cell_type": "code",
   "execution_count": 335,
   "id": "5c7a818d-4ab5-4c97-95ad-0eab73146d0e",
   "metadata": {},
   "outputs": [
    {
     "name": "stdout",
     "output_type": "stream",
     "text": [
      "1.3859138719268518\n"
     ]
    }
   ],
   "source": [
    "print(theoretical_I_clnd_x / theoretical_I_clnd_z)"
   ]
  },
  {
   "cell_type": "code",
   "execution_count": 339,
   "id": "44072207-c4d8-430a-a327-ce735bb96f97",
   "metadata": {},
   "outputs": [
    {
     "data": {
      "text/plain": [
       "0.347594158045229"
      ]
     },
     "execution_count": 339,
     "metadata": {},
     "output_type": "execute_result"
    }
   ],
   "source": [
    "pcx = 1 / (tcx**2 - tff**2)**0.5\n",
    "\n",
    "pcx"
   ]
  },
  {
   "cell_type": "code",
   "execution_count": 340,
   "id": "611cf15b-6a7f-4e31-99b4-d302c9eb99ad",
   "metadata": {},
   "outputs": [
    {
     "data": {
      "text/plain": [
       "0.2942977458109887"
      ]
     },
     "execution_count": 340,
     "metadata": {},
     "output_type": "execute_result"
    }
   ],
   "source": [
    "pcz = 1 / (tcz**2 - tff**2)**0.5\n",
    "\n",
    "pcz"
   ]
  },
  {
   "cell_type": "code",
   "execution_count": 347,
   "id": "30b3a23e-e3d0-4064-be2f-a5de113f7373",
   "metadata": {},
   "outputs": [
    {
     "name": "stdout",
     "output_type": "stream",
     "text": [
      "0.7168510633122587\n"
     ]
    }
   ],
   "source": [
    "print((pcz / pcx)**2)"
   ]
  },
  {
   "cell_type": "code",
   "execution_count": 346,
   "id": "91c6e2e6-743e-48a2-b06f-772bb2d4a57e",
   "metadata": {},
   "outputs": [
    {
     "data": {
      "image/png": "[encoded data removed]",
      "text/plain": [
       "<Figure size 640x480 with 1 Axes>"
      ]
     },
     "metadata": {},
     "output_type": "display_data"
    }
   ],
   "source": [
    "fig, ax = plt.subplots()\n",
    "xc= [pcx*math.sin(t[i]) for i in range(n_t)]\n",
    "yc = [pcz*math.cos(t[i]) for i in range(n_t)]\n",
    "#create simple line plot\n",
    "plt.plot(xc, yc)\n",
    "# plt.scatter(pcx, pcz, color = 'g')\n",
    "plt.xlabel(r'ox')\n",
    "plt.ylabel(r'$oz$')\n",
    "#set aspect ratio to 1\n",
    "ratio = 1.0\n",
    "x_left, x_right = ax.get_xlim ()\n",
    "y_low, y_high = ax.get_ylim ()\n",
    "ax.set_aspect ( abs ((x_right-x_left)/(y_low-y_high))*ratio)\n",
    "\n",
    "#display plot\n",
    "plt.show() "
   ]
  },
  {
   "cell_type": "markdown",
   "id": "0ebc7053-547b-4627-af09-23ae3fe673db",
   "metadata": {},
   "source": [
    "# Cube"
   ]
  },
  {
   "cell_type": "markdown",
   "id": "1d854ad2-366b-4585-b715-994279038f6a",
   "metadata": {},
   "source": [
    "## *data*"
   ]
  },
  {
   "cell_type": "code",
   "execution_count": 273,
   "id": "ac0f3aab-2051-43be-b54b-e2e4a56848a4",
   "metadata": {},
   "outputs": [],
   "source": [
    "m_cube = 1094.4 * 10 ** (-3)\n",
    "length_data_cube = [9.24, 9.27, 9.26]\n",
    "\n",
    "a_cube = average_value(length_data_cube) * 10 ** (-3)\n",
    "a_cube_fault = average_fault(length_data_cube)* 10 ** (-3)\n",
    "\n",
    "time_data_cube_ox1 = [26.13 + 26.91, 26.34 + 26.38, 26.44 + 26.21]\n",
    "time_data_cube_ox1 = [x / 10 for x in time_data_cube_ox1]\n",
    "\n",
    "time_data_cube_ox2 = [25.96 + 26.47, 26.53 + 26.37, 26.78 + 26.56]\n",
    "time_data_cube_ox2 = [x / 10 for x in time_data_cube_ox2]\n",
    "\n",
    "time_data_cube_ox3 = [52.47, 52.53, 52.52]\n",
    "time_data_cube_ox3 = [x / 10 for x in time_data_cube_ox3]\n"
   ]
  },
  {
   "cell_type": "code",
   "execution_count": 274,
   "id": "ff5c282b-9666-4e05-807a-0f7b09829302",
   "metadata": {},
   "outputs": [
    {
     "name": "stdout",
     "output_type": "stream",
     "text": [
      "0.009256666666666667 8.819171036881782e-06\n"
     ]
    }
   ],
   "source": [
    "print(a_cube, a_cube_fault)"
   ]
  },
  {
   "cell_type": "code",
   "execution_count": 23,
   "id": "286b1ed3-d255-438f-bba2-d71c21532eb2",
   "metadata": {},
   "outputs": [
    {
     "data": {
      "image/png": "[encoded data removed]",
      "text/plain": [
       "<Figure size 800x0.5 with 1 Axes>"
      ]
     },
     "metadata": {},
     "output_type": "display_data"
    }
   ],
   "source": [
    "column1 = {'№ опыта': [x for x in range(n)] }            \n",
    "column2 = {'Период T по ox1, с': [round(x, 2) for x in time_data_cube_ox1]}\n",
    "column3 = {'Период T по ox2, с': [round(x, 2) for x in time_data_cube_ox2]}\n",
    "column4 = {'Период T по ox3, с': [round(x, 2) for x in time_data_cube_ox3]}\n",
    "\n",
    "column1.update(column2)\n",
    "column1.update(column3)\n",
    "column1.update(column4)\n",
    "\n",
    "table2 = pd.DataFrame(column1)\n",
    "\n",
    "fig = plt.figure(figsize = (8, 0.005))\n",
    "ax = fig.add_subplot(111)\n",
    "\n",
    "ax.table(cellText = table2.values, colLabels = table2.columns)\n",
    "\n",
    "ax.set_title(\"Таблица №2\", size = 11)\n",
    "\n",
    "ax.axis(\"off\");"
   ]
  },
  {
   "cell_type": "code",
   "execution_count": 276,
   "id": "ce33ae4d-cd5e-4014-ac09-39ca7ffd0e83",
   "metadata": {},
   "outputs": [
    {
     "name": "stdout",
     "output_type": "stream",
     "text": [
      "tx1 =  5.280333333333334\n",
      "tx1 fault 0.012004628736912678\n"
     ]
    }
   ],
   "source": [
    "tx1 = average_value(time_data_cube_ox1);\n",
    "tx1_fault = average_fault(time_data_cube_ox1)\n",
    "\n",
    "print(\"tx1 = \", tx1)\n",
    "print(\"tx1 fault\", tx1_fault)"
   ]
  },
  {
   "cell_type": "code",
   "execution_count": 277,
   "id": "0d1d1cc9-278b-4c8f-a8f7-235fbddd59f0",
   "metadata": {},
   "outputs": [
    {
     "name": "stdout",
     "output_type": "stream",
     "text": [
      "tx2 =  5.289000000000001\n",
      "tx2 fault 0.026274195198584798\n"
     ]
    }
   ],
   "source": [
    "tx2 = average_value(time_data_cube_ox2);\n",
    "tx2_fault = average_fault(time_data_cube_ox2)\n",
    "\n",
    "print(\"tx2 = \", tx2)\n",
    "print(\"tx2 fault\", tx2_fault)"
   ]
  },
  {
   "cell_type": "code",
   "execution_count": 278,
   "id": "11d84aa2-ab9e-4a1d-9cb1-2c9488c5da8f",
   "metadata": {},
   "outputs": [
    {
     "name": "stdout",
     "output_type": "stream",
     "text": [
      "tx3 =  5.250666666666667\n",
      "tx3 fault 0.0018559214542768153\n"
     ]
    }
   ],
   "source": [
    "tx3 = average_value(time_data_cube_ox3);\n",
    "tx3_fault = average_fault(time_data_cube_ox3)\n",
    "\n",
    "print(\"tx3 = \", tx3)\n",
    "print(\"tx3 fault\", tx3_fault)"
   ]
  },
  {
   "cell_type": "code",
   "execution_count": 293,
   "id": "e4a36727-7c31-48e9-8296-53f986051cfc",
   "metadata": {},
   "outputs": [
    {
     "data": {
      "text/plain": [
       "0.3470779897185413"
      ]
     },
     "execution_count": 293,
     "metadata": {},
     "output_type": "execute_result"
    }
   ],
   "source": [
    "p1 = 1 / (tx1**2 - tff**2)**0.5\n",
    "\n",
    "p1"
   ]
  },
  {
   "cell_type": "code",
   "execution_count": 294,
   "id": "2e423500-57c4-428c-a594-dc5bb709c7e3",
   "metadata": {},
   "outputs": [
    {
     "data": {
      "text/plain": [
       "0.3451787718538656"
      ]
     },
     "execution_count": 294,
     "metadata": {},
     "output_type": "execute_result"
    }
   ],
   "source": [
    "p2 = 1 / (tx2**2 - tff**2)**0.5\n",
    "\n",
    "p2"
   ]
  },
  {
   "cell_type": "code",
   "execution_count": 295,
   "id": "d04bdd69-fff1-4447-a82c-2f0ba749bb36",
   "metadata": {},
   "outputs": [
    {
     "data": {
      "text/plain": [
       "0.35379946753430985"
      ]
     },
     "execution_count": 295,
     "metadata": {},
     "output_type": "execute_result"
    }
   ],
   "source": [
    "p3 = 1 / (tx3**2 - tff**2)**0.5\n",
    "\n",
    "p3"
   ]
  },
  {
   "cell_type": "code",
   "execution_count": 318,
   "id": "0f475cc8-cbf8-4caf-bfee-09127acf5fb5",
   "metadata": {},
   "outputs": [
    {
     "data": {
      "image/png": "[encoded data removed]",
      "text/plain": [
       "<Figure size 640x480 with 1 Axes>"
      ]
     },
     "metadata": {},
     "output_type": "display_data"
    },
    {
     "data": {
      "image/png": "[encoded data removed]",
      "text/plain": [
       "<Figure size 640x480 with 1 Axes>"
      ]
     },
     "metadata": {},
     "output_type": "display_data"
    }
   ],
   "source": [
    "n_t = 100\n",
    "fig, ax = plt.subplots()\n",
    "x_c = [p3/((2)**0.5)]\n",
    "y_c = [p2/((2)**0.5)]\n",
    "t=np.linspace(0,2*pi,n_t)\n",
    "x = [p1*math.sin(t[i]) for i in range(n_t)]\n",
    "y = [p1*math.cos(t[i]) for i in range(n_t)]\n",
    "x2 = [p3*math.sin(t[i]) for i in range(n_t)]\n",
    "y2 = [p3*math.cos(t[i]) for i in range(n_t)]\n",
    "plt.scatter(x_c, y_c, color = 'g')\n",
    "plt.xlabel(r'ox')\n",
    "plt.ylabel(r'$oz$')\n",
    "# plt.plot(x, y)\n",
    "# plt.plot(x2, y2, color = \"r\", alpha = 0.3)\n",
    "# axes().set_aspect(9)\n",
    "fig, ax = plt.subplots()\n",
    "\n",
    "#create simple line plot\n",
    "plt.plot(x, y)\n",
    "plt.scatter(x_c, y_c, color = 'g')\n",
    "plt.xlabel(r'ox')\n",
    "plt.ylabel(r'$oz$')\n",
    "#set aspect ratio to 1\n",
    "ratio = 1.0\n",
    "x_left, x_right = ax.get_xlim ()\n",
    "y_low, y_high = ax.get_ylim ()\n",
    "ax.set_aspect ( abs ((x_right-x_left)/(y_low-y_high))*ratio)\n",
    "\n",
    "#display plot\n",
    "plt.show() "
   ]
  },
  {
   "cell_type": "markdown",
   "id": "42ba61f7-de39-4ffa-97e0-80b7c5ab2a07",
   "metadata": {},
   "source": [
    "# PARALLELEPIPED"
   ]
  },
  {
   "cell_type": "markdown",
   "id": "507a0c35-7cb2-4e63-9e3c-6edcb634005e",
   "metadata": {},
   "source": [
    "## *data*"
   ]
  },
  {
   "cell_type": "code",
   "execution_count": 233,
   "id": "bc117336-3416-43e5-9cb2-0c450c764b21",
   "metadata": {},
   "outputs": [],
   "source": [
    "m_par = 2083.3 * 10 ** (-3)\n",
    "a = 5.02 * 10 ** (-2)\n",
    "b = 10.05 * 10 ** (-2)\n",
    "c = 15 * 10 ** (-2)\n",
    "\n",
    "d = (a**2 + b**2 + c**2)**0.5\n",
    "\n",
    "dr = 0.05 * 10 ** (-3)\n",
    "n_par = 11\n",
    "tff = period_empty_frame"
   ]
  },
  {
   "cell_type": "code",
   "execution_count": 190,
   "id": "a556d3bf-057d-4e94-a1cc-1f07b41cc238",
   "metadata": {},
   "outputs": [],
   "source": [
    "time_data_zz = [56.03, 56.25, 55.94]\n",
    "time_data_zz = [x / n_par for x in time_data_zz]\n",
    "\n",
    "time_data_xx = [70.10, 70.40, 70.31]\n",
    "time_data_xx = [x / n_par for x in time_data_xx]\n",
    "\n",
    "time_data_yy = [64.62, 64.82, 64.72]\n",
    "time_data_yy = [x / n_par for x in time_data_yy]\n",
    "\n",
    "time_data_ee = [58.50, 58.51, 58.52]\n",
    "time_data_ee = [x / n_par for x in time_data_ee]\n",
    "\n",
    "time_data_pp = [57.68, 57.47, 57.85]\n",
    "time_data_pp = [x / n_par for x in time_data_pp]\n",
    "\n",
    "time_data_mm = [66.18, 65.85, 65.47]\n",
    "time_data_mm = [x / n_par for x in time_data_mm]\n",
    "\n",
    "time_data_dd = [60.2, 60.15, 60.19]\n",
    "time_data_dd = [x / n_par for x in time_data_dd]\n"
   ]
  },
  {
   "cell_type": "markdown",
   "id": "5b3e7921-8470-4422-9a3e-32f02fdacd58",
   "metadata": {},
   "source": [
    "## table"
   ]
  },
  {
   "cell_type": "code",
   "execution_count": 191,
   "id": "c93fd3fd-3d18-4f13-b772-8feda60a6476",
   "metadata": {},
   "outputs": [
    {
     "data": {
      "text/plain": [
       "[5.09, 5.11, 5.09]"
      ]
     },
     "execution_count": 191,
     "metadata": {},
     "output_type": "execute_result"
    }
   ],
   "source": [
    "[round(time_data_zz[i], 2) for i in range(3)]"
   ]
  },
  {
   "cell_type": "code",
   "execution_count": 192,
   "id": "acb80a06-92de-4aa1-93a7-7934d30b1f20",
   "metadata": {},
   "outputs": [
    {
     "data": {
      "text/plain": [
       "[6.37, 6.4, 6.39]"
      ]
     },
     "execution_count": 192,
     "metadata": {},
     "output_type": "execute_result"
    }
   ],
   "source": [
    "[round(time_data_xx[i], 2) for i in range(3)]"
   ]
  },
  {
   "cell_type": "code",
   "execution_count": 193,
   "id": "aeb2afd2-a6cf-4a80-9f5f-54290ebe6823",
   "metadata": {},
   "outputs": [
    {
     "data": {
      "text/plain": [
       "[5.87, 5.89, 5.88]"
      ]
     },
     "execution_count": 193,
     "metadata": {},
     "output_type": "execute_result"
    }
   ],
   "source": [
    "[round(time_data_yy[i], 2) for i in range(3)]"
   ]
  },
  {
   "cell_type": "code",
   "execution_count": 194,
   "id": "a2d60da2-bc4c-430b-aa03-7dbda4e4a7b5",
   "metadata": {},
   "outputs": [
    {
     "data": {
      "text/plain": [
       "[5.32, 5.32, 5.32]"
      ]
     },
     "execution_count": 194,
     "metadata": {},
     "output_type": "execute_result"
    }
   ],
   "source": [
    "[round(time_data_ee[i], 2) for i in range(3)]"
   ]
  },
  {
   "cell_type": "code",
   "execution_count": 195,
   "id": "d07197ff-6a78-495f-8dc3-a5c74e1bbc07",
   "metadata": {},
   "outputs": [
    {
     "data": {
      "text/plain": [
       "[5.24, 5.22, 5.26]"
      ]
     },
     "execution_count": 195,
     "metadata": {},
     "output_type": "execute_result"
    }
   ],
   "source": [
    "[round(time_data_pp[i], 2) for i in range(3)]"
   ]
  },
  {
   "cell_type": "code",
   "execution_count": 196,
   "id": "f0bd07df-2e5a-4296-baa1-04a330a7beca",
   "metadata": {},
   "outputs": [
    {
     "data": {
      "text/plain": [
       "[6.02, 5.99, 5.95]"
      ]
     },
     "execution_count": 196,
     "metadata": {},
     "output_type": "execute_result"
    }
   ],
   "source": [
    "[round(time_data_mm[i], 2) for i in range(3)]"
   ]
  },
  {
   "cell_type": "code",
   "execution_count": 197,
   "id": "eef4918b-b1dc-4292-94d5-6f6953c741bd",
   "metadata": {},
   "outputs": [
    {
     "data": {
      "text/plain": [
       "[5.47, 5.47, 5.47]"
      ]
     },
     "execution_count": 197,
     "metadata": {},
     "output_type": "execute_result"
    }
   ],
   "source": [
    "[round(time_data_dd[i], 2) for i in range(3)]"
   ]
  },
  {
   "cell_type": "code",
   "execution_count": 198,
   "id": "cebfbe7a-8268-4d67-8b99-2ccaecead8f3",
   "metadata": {},
   "outputs": [
    {
     "name": "stdout",
     "output_type": "stream",
     "text": [
      "tzz =  5.097575757575758\n",
      "tzz fault 0.00837044079814129\n"
     ]
    }
   ],
   "source": [
    "tzz = average_value(time_data_zz);\n",
    "tzz_fault = average_fault(time_data_zz)\n",
    "\n",
    "print(\"tzz = \", tzz)\n",
    "print(\"tzz fault\", tzz_fault)"
   ]
  },
  {
   "cell_type": "code",
   "execution_count": 199,
   "id": "2e0fb5c7-d2aa-42fd-9643-34465ed7eb5c",
   "metadata": {},
   "outputs": [
    {
     "name": "stdout",
     "output_type": "stream",
     "text": [
      "txx =  6.388181818181818\n",
      "txx fault 0.008080176743014434\n"
     ]
    }
   ],
   "source": [
    "txx = average_value(time_data_xx);\n",
    "txx_fault = average_fault(time_data_xx)\n",
    "\n",
    "print(\"txx = \", txx)\n",
    "print(\"txx fault\", txx_fault)"
   ]
  },
  {
   "cell_type": "code",
   "execution_count": 200,
   "id": "6050ef39-3ef5-42be-9afe-d8c527c2109b",
   "metadata": {},
   "outputs": [
    {
     "name": "stdout",
     "output_type": "stream",
     "text": [
      "tyy =  5.883636363636363\n",
      "tyy fault 0.005248638810814364\n"
     ]
    }
   ],
   "source": [
    "tyy = average_value(time_data_yy);\n",
    "tyy_fault = average_fault(time_data_yy)\n",
    "\n",
    "print(\"tyy = \", tyy)\n",
    "print(\"tyy fault\", tyy_fault)"
   ]
  },
  {
   "cell_type": "code",
   "execution_count": 201,
   "id": "802f9a38-1b70-4300-89c9-064c353daf4f",
   "metadata": {},
   "outputs": [
    {
     "name": "stdout",
     "output_type": "stream",
     "text": [
      "tee =  5.319090909090909\n",
      "tee fault 0.0005248638810815134\n"
     ]
    }
   ],
   "source": [
    "tee = average_value(time_data_ee);\n",
    "tee_fault = average_fault(time_data_ee)\n",
    "\n",
    "print(\"tee = \", tee)\n",
    "print(\"tee fault\", tee_fault)"
   ]
  },
  {
   "cell_type": "code",
   "execution_count": 202,
   "id": "2304dc8a-a2c5-46db-859a-35fb0edd3f8f",
   "metadata": {},
   "outputs": [
    {
     "name": "stdout",
     "output_type": "stream",
     "text": [
      "tpp =  5.242424242424242\n",
      "tpp fault 0.00999081304353598\n"
     ]
    }
   ],
   "source": [
    "tpp = average_value(time_data_pp);\n",
    "tpp_fault = average_fault(time_data_pp)\n",
    "\n",
    "print(\"tpp = \", tpp)\n",
    "print(\"tpp fault\", tpp_fault)"
   ]
  },
  {
   "cell_type": "code",
   "execution_count": 203,
   "id": "982e7cb0-98b1-4dd4-b5d2-1361b5471da3",
   "metadata": {},
   "outputs": [
    {
     "name": "stdout",
     "output_type": "stream",
     "text": [
      "tmm =  5.984848484848484\n",
      "tmm fault 0.018648062354261096\n"
     ]
    }
   ],
   "source": [
    "tmm = average_value(time_data_mm);\n",
    "tmm_fault = average_fault(time_data_mm)\n",
    "\n",
    "print(\"tmm = \", tmm)\n",
    "print(\"tmm fault\", tmm_fault)"
   ]
  },
  {
   "cell_type": "code",
   "execution_count": 204,
   "id": "b5eaf74f-2819-4418-b962-6d0b513b136b",
   "metadata": {},
   "outputs": [
    {
     "name": "stdout",
     "output_type": "stream",
     "text": [
      "tdd =  5.470909090909092\n",
      "tdd fault 0.0013886593015018636\n"
     ]
    }
   ],
   "source": [
    "tdd = average_value(time_data_dd);\n",
    "tdd_fault = average_fault(time_data_dd)\n",
    "\n",
    "print(\"tdd = \", tdd)\n",
    "print(\"tdd fault\", tdd_fault)"
   ]
  },
  {
   "cell_type": "markdown",
   "id": "a3e39371-93a6-4b62-8af8-c505b74e0dea",
   "metadata": {},
   "source": [
    "## check"
   ]
  },
  {
   "cell_type": "code",
   "execution_count": 205,
   "id": "d1b7bef9-b1c7-408d-9d19-f251c645128d",
   "metadata": {},
   "outputs": [
    {
     "name": "stdout",
     "output_type": "stream",
     "text": [
      "1.0511800013338515\n",
      "1.0371508862191403\n"
     ]
    }
   ],
   "source": [
    "ddl = (a**2 + b**2 + c**2) * (tdd**2)\n",
    "ddr = (a**2) * (txx ** 2) + (b**2)*(tyy**2) + (c**2) * (tzz**2)\n",
    "\n",
    "print(ddl)\n",
    "print(ddr)"
   ]
  },
  {
   "cell_type": "code",
   "execution_count": 206,
   "id": "51bbf4b7-fa41-4ebb-9584-c3ebf7016515",
   "metadata": {},
   "outputs": [
    {
     "name": "stdout",
     "output_type": "stream",
     "text": [
      "0.9223500092150826\n",
      "0.934310909170248\n"
     ]
    }
   ],
   "source": [
    "eel = (b**2 + c**2) * (tee**2)\n",
    "eer = (b**2)*(tyy**2) + (c**2) * (tzz**2)\n",
    "\n",
    "print(eel)\n",
    "print(eer)"
   ]
  },
  {
   "cell_type": "code",
   "execution_count": 207,
   "id": "9e9a278e-666f-4097-8bc8-023137565403",
   "metadata": {},
   "outputs": [
    {
     "name": "stdout",
     "output_type": "stream",
     "text": [
      "0.6876260579981633\n",
      "0.6875087456439339\n"
     ]
    }
   ],
   "source": [
    "ppl = (a**2 + c**2) * (tpp**2)\n",
    "ppr = (a**2) * (txx ** 2) + (c**2) * (tzz**2)\n",
    "\n",
    "print(ppl)\n",
    "print(ppr)"
   ]
  },
  {
   "cell_type": "code",
   "execution_count": 208,
   "id": "a02b3840-7a90-4052-abf6-27ed627fecea",
   "metadata": {},
   "outputs": [
    {
     "name": "stdout",
     "output_type": "stream",
     "text": [
      "0.4520387390381083\n",
      "0.45248211762409907\n"
     ]
    }
   ],
   "source": [
    "mml = (a**2 + b**2) * (tmm**2)\n",
    "mmr = (a**2) * (txx ** 2) + (b**2)*(tyy**2)\n",
    "\n",
    "print(mml)\n",
    "print(mmr)"
   ]
  },
  {
   "cell_type": "markdown",
   "id": "c31a1f90-1049-4a93-9a17-c8dea159ac18",
   "metadata": {},
   "source": [
    "## frame and parallelepiped"
   ]
  },
  {
   "cell_type": "code",
   "execution_count": 239,
   "id": "31d6b2ad-e8d3-4625-aac3-f97dd7f3245b",
   "metadata": {},
   "outputs": [
    {
     "data": {
      "text/plain": [
       "0.39514107501853746"
      ]
     },
     "execution_count": 239,
     "metadata": {},
     "output_type": "execute_result"
    }
   ],
   "source": [
    "pz = 1 / (tzz**2 - tff**2)**0.5\n",
    "\n",
    "pz"
   ]
  },
  {
   "cell_type": "code",
   "execution_count": 240,
   "id": "812521f4-17b7-425a-9c19-9eb3f7c34787",
   "metadata": {},
   "outputs": [
    {
     "data": {
      "text/plain": [
       "0.2170416016579906"
      ]
     },
     "execution_count": 240,
     "metadata": {},
     "output_type": "execute_result"
    }
   ],
   "source": [
    "px = 1 / (txx**2 - tff**2)**0.5\n",
    "\n",
    "px"
   ]
  },
  {
   "cell_type": "code",
   "execution_count": 241,
   "id": "c2ac6e86-e1cc-4407-803b-bf694df95d8b",
   "metadata": {},
   "outputs": [
    {
     "data": {
      "text/plain": [
       "0.2578848752034675"
      ]
     },
     "execution_count": 241,
     "metadata": {},
     "output_type": "execute_result"
    }
   ],
   "source": [
    "py = 1 / (tyy**2 - tff**2)**0.5\n",
    "\n",
    "py"
   ]
  },
  {
   "cell_type": "code",
   "execution_count": 242,
   "id": "932dc05d-0f23-4b78-bdfb-cd2f9ee673a7",
   "metadata": {},
   "outputs": [
    {
     "data": {
      "text/plain": [
       "0.3387961737314778"
      ]
     },
     "execution_count": 242,
     "metadata": {},
     "output_type": "execute_result"
    }
   ],
   "source": [
    "pe = 1 / (tee**2 - tff**2)**0.5\n",
    "\n",
    "pe"
   ]
  },
  {
   "cell_type": "code",
   "execution_count": 243,
   "id": "df8ac2d7-5702-4768-b90c-0e3f60fead51",
   "metadata": {},
   "outputs": [
    {
     "data": {
      "text/plain": [
       "0.3557302966547515"
      ]
     },
     "execution_count": 243,
     "metadata": {},
     "output_type": "execute_result"
    }
   ],
   "source": [
    "pp = 1 / (tpp**2 - tff**2)**0.5\n",
    "\n",
    "pp"
   ]
  },
  {
   "cell_type": "code",
   "execution_count": 244,
   "id": "c0d75f68-5adf-4c65-848d-32afffd350b3",
   "metadata": {},
   "outputs": [
    {
     "data": {
      "text/plain": [
       "0.24816274713512473"
      ]
     },
     "execution_count": 244,
     "metadata": {},
     "output_type": "execute_result"
    }
   ],
   "source": [
    "pm = 1 / (tmm**2 - tff**2)**0.5\n",
    "\n",
    "pm"
   ]
  },
  {
   "cell_type": "code",
   "execution_count": 245,
   "id": "629f9f2d-b546-40d9-ab1e-3c083603592e",
   "metadata": {},
   "outputs": [
    {
     "data": {
      "text/plain": [
       "0.3108316133380738"
      ]
     },
     "execution_count": 245,
     "metadata": {},
     "output_type": "execute_result"
    }
   ],
   "source": [
    "pd = 1 / (tdd**2 - tff**2)**0.5\n",
    "\n",
    "pd"
   ]
  },
  {
   "cell_type": "markdown",
   "id": "7826c9e0-a859-4cf6-8bf7-4aba8d4e1217",
   "metadata": {},
   "source": [
    "## experimental otnoshenie"
   ]
  },
  {
   "cell_type": "code",
   "execution_count": 268,
   "id": "2503ded2-a8c1-415f-b42b-f8c8d0e33b46",
   "metadata": {},
   "outputs": [
    {
     "data": {
      "text/plain": [
       "1.4117759271206232"
      ]
     },
     "execution_count": 268,
     "metadata": {},
     "output_type": "execute_result"
    }
   ],
   "source": [
    "ixx_iyy = (py / px)**2\n",
    "ixx_iyy"
   ]
  },
  {
   "cell_type": "code",
   "execution_count": 269,
   "id": "4a47a77d-fbfa-4bc3-8774-086450c6fa1f",
   "metadata": {},
   "outputs": [
    {
     "data": {
      "text/plain": [
       "3.314502743465796"
      ]
     },
     "execution_count": 269,
     "metadata": {},
     "output_type": "execute_result"
    }
   ],
   "source": [
    "ixx_izz = (pz / px)**2\n",
    "ixx_izz"
   ]
  },
  {
   "cell_type": "code",
   "execution_count": 271,
   "id": "53e8c22c-c2e8-4426-8e9c-f07c169f1e36",
   "metadata": {},
   "outputs": [
    {
     "data": {
      "text/plain": [
       "2.3477541157865365"
      ]
     },
     "execution_count": 271,
     "metadata": {},
     "output_type": "execute_result"
    }
   ],
   "source": [
    "iyy_izz = (pz / py)**2\n",
    "iyy_izz"
   ]
  },
  {
   "cell_type": "markdown",
   "id": "c8296040-e12d-4c8a-916d-53fb9b343291",
   "metadata": {},
   "source": [
    "## theoretical moment of inertia"
   ]
  },
  {
   "cell_type": "code",
   "execution_count": 246,
   "id": "d130d5da-8bf5-401d-bb42-cd988790f73a",
   "metadata": {},
   "outputs": [
    {
     "name": "stdout",
     "output_type": "stream",
     "text": [
      "IZZ =  0.0021909875130833338\n"
     ]
    }
   ],
   "source": [
    "IZZ = m_par * (1 / 12) * (a**2 + b**2)\n",
    "print(\"IZZ = \", IZZ)"
   ]
  },
  {
   "cell_type": "code",
   "execution_count": 247,
   "id": "dcf0e4eb-44a2-4258-b688-d5de3efe9211",
   "metadata": {},
   "outputs": [
    {
     "name": "stdout",
     "output_type": "stream",
     "text": [
      "IXX =  0.005659675068750001\n"
     ]
    }
   ],
   "source": [
    "IXX = m_par * (1 / 12) * (c**2 + b**2)\n",
    "print(\"IXX = \", IXX)"
   ]
  },
  {
   "cell_type": "code",
   "execution_count": 248,
   "id": "7429b512-3590-42f4-a7a6-3ed4f5cdf736",
   "metadata": {},
   "outputs": [
    {
     "name": "stdout",
     "output_type": "stream",
     "text": [
      "IYY =  0.004343687444333334\n"
     ]
    }
   ],
   "source": [
    "IYY = m_par * (1 / 12) * (a**2 + c**2)\n",
    "print(\"IYY = \", IYY)"
   ]
  },
  {
   "cell_type": "code",
   "execution_count": 249,
   "id": "f412db1a-2e83-467e-bc7a-90b7b00c51b1",
   "metadata": {},
   "outputs": [
    {
     "name": "stdout",
     "output_type": "stream",
     "text": [
      "1.3029655428208748\n",
      "2.5831617181538618\n",
      "1.9825249657495982\n"
     ]
    }
   ],
   "source": [
    "xx_yy = IXX / IYY\n",
    "xx_zz = IXX / IZZ\n",
    "yy_zz = IYY / IZZ\n",
    "\n",
    "print(xx_yy)\n",
    "print(xx_zz)\n",
    "print(yy_zz)"
   ]
  },
  {
   "cell_type": "markdown",
   "id": "16ca96c3-0894-42e9-a75f-f77927332346",
   "metadata": {},
   "source": [
    "## graph"
   ]
  },
  {
   "cell_type": "code",
   "execution_count": 324,
   "id": "94af7e0d-803b-44ea-9a87-614227c38826",
   "metadata": {},
   "outputs": [],
   "source": [
    "p_z = [pz, 0, (c/(c**2 + a**2)**0.5) * pp]\n",
    "p_x = [0, px, (a/(c**2 + a**2)**0.5) * pp]"
   ]
  },
  {
   "cell_type": "code",
   "execution_count": 325,
   "id": "1e332af8-7ab4-41db-8d72-d7b474a6e546",
   "metadata": {},
   "outputs": [
    {
     "data": {
      "text/plain": [
       "<matplotlib.collections.PathCollection at 0x7fb52215c460>"
      ]
     },
     "execution_count": 325,
     "metadata": {},
     "output_type": "execute_result"
    },
    {
     "data": {
      "image/png": "[encoded data removed]",
      "text/plain": [
       "<Figure size 640x480 with 1 Axes>"
      ]
     },
     "metadata": {},
     "output_type": "display_data"
    }
   ],
   "source": [
    "plt.plot(p_x, p_z)\n",
    "plt.scatter(p_x, p_z, color = 'g')"
   ]
  },
  {
   "cell_type": "code",
   "execution_count": 329,
   "id": "76110507-0cce-46b5-b4cd-58f33b0d47bc",
   "metadata": {},
   "outputs": [
    {
     "data": {
      "image/png": "[encoded data removed]",
      "text/plain": [
       "<Figure size 640x480 with 1 Axes>"
      ]
     },
     "metadata": {},
     "output_type": "display_data"
    }
   ],
   "source": [
    "n_t = 100\n",
    "fig, ax = plt.subplots()\n",
    "t=np.linspace(0,2*pi,n_t)\n",
    "x = [px*math.sin(t[i]) for i in range(n_t)]\n",
    "y = [pz*math.cos(t[i]) for i in range(n_t)]\n",
    "\n",
    "#set aspect ratio to 1\n",
    "ratio = 1.0\n",
    "x_left, x_right = ax.get_xlim ()\n",
    "y_low, y_high = ax.get_ylim ()\n",
    "ax.set_aspect ( abs ((x_right-x_left)/(y_low-y_high))*ratio)\n",
    "plt.plot(x, y)\n",
    "plt.scatter(p_x, p_z, color = 'g')\n",
    "plt.xlabel(r'ox')\n",
    "plt.ylabel(r'$oz$')\n",
    "\n",
    "#display plot\n",
    "plt.show() "
   ]
  },
  {
   "cell_type": "code",
   "execution_count": 327,
   "id": "30daad30-fbd4-4917-8134-1e1c4b98492f",
   "metadata": {},
   "outputs": [
    {
     "data": {
      "image/png": "[encoded data removed]",
      "text/plain": [
       "<Figure size 480x480 with 1 Axes>"
      ]
     },
     "metadata": {},
     "output_type": "display_data"
    }
   ],
   "source": [
    "fig = plt.figure(figsize=plt.figaspect(1))  # Square figure\n",
    "ax = fig.add_subplot(111, projection='3d')\n",
    "\n",
    "coefs = (1, 2, 2)  # Coefficients in a0/c x**2 + a1/c y**2 + a2/c z**2 = 1 \n",
    "# Radii corresponding to the coefficients:\n",
    "rx, ry, rz = 1/np.sqrt(coefs)\n",
    "\n",
    "# Set of all spherical angles:\n",
    "u = np.linspace(0, 2 * np.pi, 100)\n",
    "v = np.linspace(0, np.pi, 100)\n",
    "\n",
    "# Cartesian coordinates that correspond to the spherical angles:\n",
    "# (this is the equation of an ellipsoid):\n",
    "x = rx * np.outer(np.cos(u), np.sin(v))\n",
    "y = ry * np.outer(np.sin(u), np.sin(v))\n",
    "z = rz * np.outer(np.ones_like(u), np.cos(v))\n",
    "\n",
    "# Plot:\n",
    "ax.plot_surface(x, y, z,  rstride=4, cstride=4, color='b')\n",
    "\n",
    "# Adjustment of the axes, so that they all have the same span:\n",
    "max_radius = max(rx, ry, rz)\n",
    "for axis in 'xyz':\n",
    "    getattr(ax, 'set_{}lim'.format(axis))((-max_radius, max_radius))\n",
    "\n",
    "plt.show()"
   ]
  },
  {
   "cell_type": "code",
   "execution_count": null,
   "id": "12c89555-2e33-4b77-b48a-635856c2d8ce",
   "metadata": {},
   "outputs": [],
   "source": []
  }
 ],
 "metadata": {
  "kernelspec": {
   "display_name": "Python 3 (ipykernel)",
   "language": "python",
   "name": "python3"
  },
  "language_info": {
   "codemirror_mode": {
    "name": "ipython",
    "version": 3
   },
   "file_extension": ".py",
   "mimetype": "text/x-python",
   "name": "python",
   "nbconvert_exporter": "python",
   "pygments_lexer": "ipython3",
   "version": "3.10.12"
  }
 },
 "nbformat": 4,
 "nbformat_minor": 5
}
