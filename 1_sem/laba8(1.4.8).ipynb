{
 "cells": [
  {
   "cell_type": "code",
   "execution_count": 2,
   "id": "d47e92a1-95df-42b6-8902-cb5b2ae0a68a",
   "metadata": {},
   "outputs": [],
   "source": [
    "import pandas as pd\n",
    "import numpy as np\n",
    "import matplotlib.pyplot as plt\n",
    "\n",
    "plt.style.use('fivethirtyeight')\n",
    "pi = np.pi\n",
    "g = 10"
   ]
  },
  {
   "cell_type": "code",
   "execution_count": 3,
   "id": "b03ed609-e4f9-4797-a2f6-799d64f7d81f",
   "metadata": {},
   "outputs": [],
   "source": [
    "mm = 29.109 * 10 **(-3)\n",
    "lm = 29.7 * 10 **(-3)\n",
    "dm = 12.34 * 10 **(-3)\n",
    "\n",
    "ma = 13.312 * 10 **(-3)\n",
    "la = 41.2 * 10 **(-3)\n",
    "da = 12.15 * 10 **(-3)\n",
    "\n",
    "ms = 37.084 * 10 **(-3)\n",
    "ls = 41.2 * 10 **(-3)\n",
    "ds = 12.38 * 10 **(-3)\n",
    "\n",
    "dM = 0.5 * 10 **(-3)\n",
    "dL = 0.5 * 10 **(-3)"
   ]
  },
  {
   "cell_type": "code",
   "execution_count": 4,
   "id": "1e5e47b0-a56f-4288-a651-8b593c0b7124",
   "metadata": {},
   "outputs": [
    {
     "data": {
      "text/plain": [
       "0.047119220558279475"
      ]
     },
     "execution_count": 4,
     "metadata": {},
     "output_type": "execute_result"
    }
   ],
   "source": [
    "drho1 = ((dM / mm)**2 + (dL / lm)**2 + (dL / dm)**2)**0.5\n",
    "drho1"
   ]
  },
  {
   "cell_type": "code",
   "execution_count": 5,
   "id": "a1eb6ab7-f50f-4ccf-b14f-bd054cdc623f",
   "metadata": {},
   "outputs": [],
   "source": [
    "rho1 = (4 * 29.109 * 10 ** (-3))/(pi * (12.34 * 10**(-3))**2 * (29.7 * 10**(-3)))"
   ]
  },
  {
   "cell_type": "code",
   "execution_count": 6,
   "id": "73c9765c-06c9-4364-bb19-ae517c4ee0c9",
   "metadata": {},
   "outputs": [
    {
     "data": {
      "text/plain": [
       "8195.0316655819"
      ]
     },
     "execution_count": 6,
     "metadata": {},
     "output_type": "execute_result"
    }
   ],
   "source": [
    "rho1"
   ]
  },
  {
   "cell_type": "code",
   "execution_count": 33,
   "id": "f90aa01a-2b63-48f1-bd15-ff17ecbd0025",
   "metadata": {},
   "outputs": [
    {
     "data": {
      "text/plain": [
       "0.0570223659166414"
      ]
     },
     "execution_count": 33,
     "metadata": {},
     "output_type": "execute_result"
    }
   ],
   "source": [
    "drho2 = ((dM / ma)**2 + (dL / la)**2 + (dL / da)**2)**0.5\n",
    "drho2"
   ]
  },
  {
   "cell_type": "code",
   "execution_count": 34,
   "id": "55529b49-4d1e-46ae-85ea-9752346f5ac4",
   "metadata": {},
   "outputs": [],
   "source": [
    "rho2 = (4 * 13.312 * 10 ** (-3))/(pi * (12.15 * 10**(-3))**2 * (41.2 * 10**(-3)))"
   ]
  },
  {
   "cell_type": "code",
   "execution_count": 35,
   "id": "331aa28e-e8be-4255-b277-94513dacd83f",
   "metadata": {},
   "outputs": [
    {
     "data": {
      "text/plain": [
       "2786.7862283067657"
      ]
     },
     "execution_count": 35,
     "metadata": {},
     "output_type": "execute_result"
    }
   ],
   "source": [
    "rho2"
   ]
  },
  {
   "cell_type": "code",
   "execution_count": 36,
   "id": "0c12d4ab-2478-49c7-874e-7dd7ef91dbec",
   "metadata": {},
   "outputs": [
    {
     "data": {
      "text/plain": [
       "0.044274568337204515"
      ]
     },
     "execution_count": 36,
     "metadata": {},
     "output_type": "execute_result"
    }
   ],
   "source": [
    "drho3 = ((dM / ms)**2 + (dL / ls)**2 + (dL / ds)**2)**0.5\n",
    "drho3"
   ]
  },
  {
   "cell_type": "code",
   "execution_count": 37,
   "id": "725917cd-7e51-4a9b-9a0b-9330ba37548f",
   "metadata": {},
   "outputs": [],
   "source": [
    "rho3 = (4 * 37.084 * 10 ** (-3))/(pi * (12.38 * 10**(-3))**2 * (41.2 * 10**(-3)))"
   ]
  },
  {
   "cell_type": "code",
   "execution_count": 38,
   "id": "67c8e822-95c1-40e0-8d97-c588a5d45206",
   "metadata": {},
   "outputs": [
    {
     "data": {
      "text/plain": [
       "7477.530370728144"
      ]
     },
     "execution_count": 38,
     "metadata": {},
     "output_type": "execute_result"
    }
   ],
   "source": [
    "rho3"
   ]
  },
  {
   "cell_type": "code",
   "execution_count": 39,
   "id": "8d62b2af-2a02-49bc-b7ed-482fcb528922",
   "metadata": {},
   "outputs": [],
   "source": [
    "fm = [3.2182, 6.4717, 9.6619, 12.884, 16.106]\n",
    "fa = [4.2438, 8.4857, 12.6295, 16.8745, 21.21163]\n",
    "fs = [4.1278, 8.2581, 12.387, 16.511, 20.635]"
   ]
  },
  {
   "cell_type": "code",
   "execution_count": 40,
   "id": "298e9af9-cead-4f66-b321-18efc93c96c8",
   "metadata": {},
   "outputs": [],
   "source": [
    "model1 = np.poly1d(np.polyfit(x, fm, 1))\n",
    "model2 = np.poly1d(np.polyfit(x, fa, 1))\n",
    "model3 = np.poly1d(np.polyfit(x, fs, 1))"
   ]
  },
  {
   "cell_type": "code",
   "execution_count": 41,
   "id": "3d83d755-4b78-4e23-b747-174ed0e39148",
   "metadata": {},
   "outputs": [
    {
     "name": "stdout",
     "output_type": "stream",
     "text": [
      " \n",
      "3.219 x + 0.01199\n",
      " \n",
      "4.232 x - 0.008312\n",
      " \n",
      "4.127 x + 0.00359\n"
     ]
    },
    {
     "data": {
      "image/png": "[encoded data removed]",
      "text/plain": [
       "<Figure size 640x480 with 1 Axes>"
      ]
     },
     "metadata": {},
     "output_type": "display_data"
    }
   ],
   "source": [
    "df = 0.05\n",
    "faultm = [df / (x*1000) for x in fm]\n",
    "faulta = [df / (x*1000) for x in fa]\n",
    "faults = [df / (x*1000) for x in fs]\n",
    "x = [i for i in range(1, 6)]\n",
    "\n",
    "polyline = np.linspace(0, 6)\n",
    "plt.ylabel(r'$f_n$, кГц')\n",
    "plt.xlabel(r'$n$')\n",
    "\n",
    "plt.scatter(x, fs)\n",
    "# plt.scatter(t2, y2)\n",
    "# plt.scatter(t3, y3)\n",
    "plt.errorbar(x, fs, yerr = faults, fmt='o', ecolor='red', capsize = 12)\n",
    "\n",
    "# plt.plot(polyline, model1(polyline), color = 'lightgreen', label = '$n = 1$')\n",
    "print(model1)\n",
    "# plt.plot(polyline, model2(polyline), color = 'lightblue', label = '$n = 1$')\n",
    "print(model2)\n",
    "plt.plot(polyline, model3(polyline), color = 'lightpink', label = '$n = 1$')\n",
    "print(model3)\n",
    "plt.show()"
   ]
  },
  {
   "cell_type": "code",
   "execution_count": 75,
   "id": "87bbfbc2-7f89-4b31-8dd3-2a0faa62e285",
   "metadata": {},
   "outputs": [],
   "source": [
    "def av(arr):\n",
    "    return sum(arr) / len(arr)"
   ]
  },
  {
   "cell_type": "code",
   "execution_count": 83,
   "id": "df288492-b5a0-447c-935a-295f82bf07eb",
   "metadata": {},
   "outputs": [],
   "source": [
    "def sigma(arr):\n",
    "    x_2 = [x[i]**2 for i in range(5)]\n",
    "    xy = [x[i] * arr[i] for i in range(5)]\n",
    "    y_2 = [arr[i]**2 for i in range(5)]\n",
    "    return ((av(x_2) * av(y_2) - (av(xy))**2) / (5 * (av(x_2))**2))**0.5"
   ]
  },
  {
   "cell_type": "code",
   "execution_count": 94,
   "id": "b6530885-c869-4b9d-a3d4-731ef04c7a71",
   "metadata": {},
   "outputs": [],
   "source": [
    "relum = ((sigma(fm) /3.219  )**2 + (dL / L)**2)**0.5"
   ]
  },
  {
   "cell_type": "code",
   "execution_count": 95,
   "id": "59c6e9ac-7bd0-4317-ad91-0797e975da8f",
   "metadata": {},
   "outputs": [],
   "source": [
    "relua = ((sigma(fa) /4.232  )**2 + (dL / L)**2)**0.5"
   ]
  },
  {
   "cell_type": "code",
   "execution_count": 96,
   "id": "41d07180-2695-4ded-b881-a7cd02019e52",
   "metadata": {},
   "outputs": [],
   "source": [
    "relus = ((sigma(fs) /4.127  )**2 + (dL / L)**2)**0.5"
   ]
  },
  {
   "cell_type": "code",
   "execution_count": 87,
   "id": "66978614-bfdf-41d1-bcce-79c84e59d0e4",
   "metadata": {},
   "outputs": [],
   "source": [
    "L = 0.6\n",
    "dL = 0.5 * 10 **(-3)"
   ]
  },
  {
   "cell_type": "code",
   "execution_count": 89,
   "id": "2b597aa5-2578-4b9d-943d-bfac56f4b363",
   "metadata": {},
   "outputs": [
    {
     "data": {
      "text/plain": [
       "0.0008333333333333334"
      ]
     },
     "execution_count": 89,
     "metadata": {},
     "output_type": "execute_result"
    }
   ],
   "source": [
    "rell = dL / L\n",
    "rell"
   ]
  },
  {
   "cell_type": "code",
   "execution_count": 43,
   "id": "760952ef-e56e-442e-95d6-c34f9ce02af3",
   "metadata": {},
   "outputs": [
    {
     "data": {
      "text/plain": [
       "3862.7999999999997"
      ]
     },
     "execution_count": 43,
     "metadata": {},
     "output_type": "execute_result"
    }
   ],
   "source": [
    "um = 3.219 * 2 * L * 1000\n",
    "um"
   ]
  },
  {
   "cell_type": "code",
   "execution_count": 44,
   "id": "3370e1d3-3794-41ac-9d17-089577a89536",
   "metadata": {},
   "outputs": [
    {
     "data": {
      "text/plain": [
       "5078.400000000001"
      ]
     },
     "execution_count": 44,
     "metadata": {},
     "output_type": "execute_result"
    }
   ],
   "source": [
    "ua = 4.232 * 2 * L * 1000\n",
    "ua"
   ]
  },
  {
   "cell_type": "code",
   "execution_count": 45,
   "id": "2302b05e-77ea-444b-a58c-9b023a788046",
   "metadata": {},
   "outputs": [
    {
     "data": {
      "text/plain": [
       "4952.4"
      ]
     },
     "execution_count": 45,
     "metadata": {},
     "output_type": "execute_result"
    }
   ],
   "source": [
    "us = 4.127* 2 * L * 1000\n",
    "us"
   ]
  },
  {
   "cell_type": "code",
   "execution_count": 46,
   "id": "28012f6c-6f16-428d-99f0-2e2b8ef0226a",
   "metadata": {},
   "outputs": [
    {
     "data": {
      "text/plain": [
       "122.27990185803556"
      ]
     },
     "execution_count": 46,
     "metadata": {},
     "output_type": "execute_result"
    }
   ],
   "source": [
    "em = um**2 * rho1\n",
    "em / 10**9"
   ]
  },
  {
   "cell_type": "code",
   "execution_count": 47,
   "id": "1f180ed6-5faa-49ec-90f4-8326c1c03e91",
   "metadata": {},
   "outputs": [
    {
     "data": {
      "text/plain": [
       "71.87162525942112"
      ]
     },
     "execution_count": 47,
     "metadata": {},
     "output_type": "execute_result"
    }
   ],
   "source": [
    "ea = ua**2 * rho2\n",
    "ea / 10 ** 9"
   ]
  },
  {
   "cell_type": "code",
   "execution_count": 48,
   "id": "420f2e36-ab09-4ddd-8bd3-da650e972108",
   "metadata": {},
   "outputs": [
    {
     "data": {
      "text/plain": [
       "183.39589710094978"
      ]
     },
     "execution_count": 48,
     "metadata": {},
     "output_type": "execute_result"
    }
   ],
   "source": [
    "es =us**2 * rho3\n",
    "es / 10**9"
   ]
  },
  {
   "cell_type": "code",
   "execution_count": 49,
   "id": "cabc1f95-459b-4bd1-bbbe-33522e05c323",
   "metadata": {},
   "outputs": [
    {
     "data": {
      "text/plain": [
       "[1.1781893585937132e-05,\n",
       " 5.892265811895307e-06,\n",
       " 3.958984916267469e-06,\n",
       " 2.9630507570594685e-06,\n",
       " 2.3571974431007895e-06]"
      ]
     },
     "execution_count": 49,
     "metadata": {},
     "output_type": "execute_result"
    }
   ],
   "source": [
    "faulta"
   ]
  },
  {
   "cell_type": "code",
   "execution_count": 50,
   "id": "f4567619-683a-407d-be04-ddefb6c55006",
   "metadata": {},
   "outputs": [],
   "source": [
    "eps = dL / L"
   ]
  },
  {
   "cell_type": "code",
   "execution_count": 51,
   "id": "d04d86a2-1dd2-4c50-80d1-2101209168b3",
   "metadata": {},
   "outputs": [
    {
     "data": {
      "text/plain": [
       "0.04714868740270046"
      ]
     },
     "execution_count": 51,
     "metadata": {},
     "output_type": "execute_result"
    }
   ],
   "source": [
    "de1 = (4*(eps)**2 + (drho1)**2)**0.5\n",
    "de1"
   ]
  },
  {
   "cell_type": "code",
   "execution_count": 52,
   "id": "859735ad-adb7-4943-a58c-38a5b50675f0",
   "metadata": {},
   "outputs": [
    {
     "data": {
      "text/plain": [
       "0.057046717631333746"
      ]
     },
     "execution_count": 52,
     "metadata": {},
     "output_type": "execute_result"
    }
   ],
   "source": [
    "de2 = (4*(eps)**2 + (drho2)**2)**0.5\n",
    "de2"
   ]
  },
  {
   "cell_type": "code",
   "execution_count": 53,
   "id": "97c326b0-b7ae-42bd-be6b-0cec294d9925",
   "metadata": {},
   "outputs": [
    {
     "data": {
      "text/plain": [
       "0.044305927134228554"
      ]
     },
     "execution_count": 53,
     "metadata": {},
     "output_type": "execute_result"
    }
   ],
   "source": [
    "de3= (4*(eps)**2 + (drho3)**2)**0.5\n",
    "de3"
   ]
  },
  {
   "cell_type": "code",
   "execution_count": 54,
   "id": "344e0909-6758-4f60-b553-9237ed8a5fe5",
   "metadata": {},
   "outputs": [
    {
     "data": {
      "text/plain": [
       "182.1259496991513"
      ]
     },
     "execution_count": 54,
     "metadata": {},
     "output_type": "execute_result"
    }
   ],
   "source": [
    "um * de1"
   ]
  },
  {
   "cell_type": "code",
   "execution_count": 55,
   "id": "613530ea-f8a7-4b3e-8d57-0f7fc0a2a317",
   "metadata": {},
   "outputs": [
    {
     "data": {
      "text/plain": [
       "289.7060508189653"
      ]
     },
     "execution_count": 55,
     "metadata": {},
     "output_type": "execute_result"
    }
   ],
   "source": [
    "ua * de2"
   ]
  },
  {
   "cell_type": "code",
   "execution_count": 56,
   "id": "34fbb0fe-e808-4506-9715-62754a9e86f8",
   "metadata": {},
   "outputs": [
    {
     "data": {
      "text/plain": [
       "219.42067353955346"
      ]
     },
     "execution_count": 56,
     "metadata": {},
     "output_type": "execute_result"
    }
   ],
   "source": [
    "us * de3"
   ]
  },
  {
   "cell_type": "code",
   "execution_count": 57,
   "id": "e0a03c39-43c1-40c0-bffb-3e4d8f97f65c",
   "metadata": {},
   "outputs": [
    {
     "data": {
      "text/plain": [
       "5.765336868337409"
      ]
     },
     "execution_count": 57,
     "metadata": {},
     "output_type": "execute_result"
    }
   ],
   "source": [
    "em * de1 / 10 ** 9"
   ]
  },
  {
   "cell_type": "code",
   "execution_count": 58,
   "id": "96908b35-4233-450a-9ad6-1df47ca1a2ae",
   "metadata": {},
   "outputs": [
    {
     "data": {
      "text/plain": [
       "4.100040311879231"
      ]
     },
     "execution_count": 58,
     "metadata": {},
     "output_type": "execute_result"
    }
   ],
   "source": [
    "ea * de2 / 10 ** 9"
   ]
  },
  {
   "cell_type": "code",
   "execution_count": 59,
   "id": "1d0a9223-6d6d-48dd-88da-0b98fee84342",
   "metadata": {},
   "outputs": [
    {
     "data": {
      "text/plain": [
       "8.125525253671158"
      ]
     },
     "execution_count": 59,
     "metadata": {},
     "output_type": "execute_result"
    }
   ],
   "source": [
    "es * de3 / 10 ** 9"
   ]
  },
  {
   "cell_type": "code",
   "execution_count": null,
   "id": "4d1e5ce5-4e99-4a51-a3f5-b13fd38f0d79",
   "metadata": {},
   "outputs": [],
   "source": []
  },
  {
   "cell_type": "code",
   "execution_count": 61,
   "id": "6b904175-f66a-4a87-a3cc-88eb725fba93",
   "metadata": {},
   "outputs": [
    {
     "data": {
      "text/plain": [
       "386.14350453263796"
      ]
     },
     "execution_count": 61,
     "metadata": {},
     "output_type": "execute_result"
    }
   ],
   "source": [
    "rho1 * drho1"
   ]
  },
  {
   "cell_type": "code",
   "execution_count": 62,
   "id": "44557531-4ebb-4f8f-96a6-c81dbf1a3f8c",
   "metadata": {},
   "outputs": [
    {
     "data": {
      "text/plain": [
       "8195.0316655819"
      ]
     },
     "execution_count": 62,
     "metadata": {},
     "output_type": "execute_result"
    }
   ],
   "source": [
    "rho1"
   ]
  },
  {
   "cell_type": "code",
   "execution_count": 63,
   "id": "42dd4618-c6d1-4896-91c4-8089ad07f137",
   "metadata": {},
   "outputs": [
    {
     "data": {
      "text/plain": [
       "158.90914404196536"
      ]
     },
     "execution_count": 63,
     "metadata": {},
     "output_type": "execute_result"
    }
   ],
   "source": [
    "rho2 * drho2"
   ]
  },
  {
   "cell_type": "code",
   "execution_count": 64,
   "id": "1a908a45-3d31-4489-8aca-3236f7ff9d0b",
   "metadata": {},
   "outputs": [
    {
     "data": {
      "text/plain": [
       "2786.7862283067657"
      ]
     },
     "execution_count": 64,
     "metadata": {},
     "output_type": "execute_result"
    }
   ],
   "source": [
    "rho2"
   ]
  },
  {
   "cell_type": "code",
   "execution_count": 65,
   "id": "c0657647-3eff-4f17-9a61-6ee45732f897",
   "metadata": {},
   "outputs": [
    {
     "data": {
      "text/plain": [
       "331.0644293923254"
      ]
     },
     "execution_count": 65,
     "metadata": {},
     "output_type": "execute_result"
    }
   ],
   "source": [
    "rho3 * drho3"
   ]
  },
  {
   "cell_type": "code",
   "execution_count": 66,
   "id": "f1928605-195a-4146-8114-58fc629c2342",
   "metadata": {},
   "outputs": [
    {
     "data": {
      "text/plain": [
       "7477.530370728144"
      ]
     },
     "execution_count": 66,
     "metadata": {},
     "output_type": "execute_result"
    }
   ],
   "source": [
    "rho3"
   ]
  },
  {
   "cell_type": "code",
   "execution_count": 72,
   "id": "e0a4e01b-0e0e-4ae3-bb75-ed28932b73e4",
   "metadata": {},
   "outputs": [
    {
     "data": {
      "text/plain": [
       "209.72308350399996"
      ]
     },
     "execution_count": 72,
     "metadata": {},
     "output_type": "execute_result"
    }
   ],
   "source": [
    " (us + 200)**2 * 7900 / 10**9"
   ]
  },
  {
   "cell_type": "code",
   "execution_count": 74,
   "id": "fd5b97a2-75ed-4294-a545-aab43febd038",
   "metadata": {},
   "outputs": [
    {
     "data": {
      "text/plain": [
       "3.219"
      ]
     },
     "execution_count": 74,
     "metadata": {},
     "output_type": "execute_result"
    }
   ],
   "source": [
    "um * (dL / L)"
   ]
  },
  {
   "cell_type": "code",
   "execution_count": 97,
   "id": "2e5be19c-dcda-4dd5-af05-9e9e142e6352",
   "metadata": {},
   "outputs": [
    {
     "data": {
      "text/plain": [
       "3.8353531328613597"
      ]
     },
     "execution_count": 97,
     "metadata": {},
     "output_type": "execute_result"
    }
   ],
   "source": [
    "relum * um"
   ]
  },
  {
   "cell_type": "code",
   "execution_count": 98,
   "id": "c6dbc08e-3bc5-47a6-ab4e-e3c60f30d841",
   "metadata": {},
   "outputs": [
    {
     "data": {
      "text/plain": [
       "8.50014128455274"
      ]
     },
     "execution_count": 98,
     "metadata": {},
     "output_type": "execute_result"
    }
   ],
   "source": [
    "relua * ua"
   ]
  },
  {
   "cell_type": "code",
   "execution_count": 99,
   "id": "5caf812d-9f75-48f4-ad30-198464a92bd8",
   "metadata": {},
   "outputs": [
    {
     "data": {
      "text/plain": [
       "4.1490156245382535"
      ]
     },
     "execution_count": 99,
     "metadata": {},
     "output_type": "execute_result"
    }
   ],
   "source": [
    "relus * us"
   ]
  },
  {
   "cell_type": "code",
   "execution_count": 104,
   "id": "cda359fc-812c-463a-b14a-6e57d010b48f",
   "metadata": {},
   "outputs": [
    {
     "data": {
      "text/plain": [
       "0.047161046473794196"
      ]
     },
     "execution_count": 104,
     "metadata": {},
     "output_type": "execute_result"
    }
   ],
   "source": [
    "rele1 = (4*(relum)**2 + drho1**2)**0.5\n",
    "rele1"
   ]
  },
  {
   "cell_type": "code",
   "execution_count": 105,
   "id": "ab752724-cb93-41a5-ac9b-5b078e85dea0",
   "metadata": {},
   "outputs": [
    {
     "data": {
      "text/plain": [
       "0.05712054286621521"
      ]
     },
     "execution_count": 105,
     "metadata": {},
     "output_type": "execute_result"
    }
   ],
   "source": [
    "rele2 = (4*(relua)**2 + drho2**2)**0.5\n",
    "rele2"
   ]
  },
  {
   "cell_type": "code",
   "execution_count": 106,
   "id": "b9c7d4e7-e3c5-420d-9487-038da7af5a4f",
   "metadata": {},
   "outputs": [
    {
     "data": {
      "text/plain": [
       "0.04430626247580783"
      ]
     },
     "execution_count": 106,
     "metadata": {},
     "output_type": "execute_result"
    }
   ],
   "source": [
    "rele3 = (4*(relus)**2 + drho3**2)**0.5\n",
    "rele3"
   ]
  },
  {
   "cell_type": "code",
   "execution_count": null,
   "id": "fc493c98-f562-415a-997e-2a71877a6e94",
   "metadata": {},
   "outputs": [],
   "source": []
  }
 ],
 "metadata": {
  "kernelspec": {
   "display_name": "Python 3 (ipykernel)",
   "language": "python",
   "name": "python3"
  },
  "language_info": {
   "codemirror_mode": {
    "name": "ipython",
    "version": 3
   },
   "file_extension": ".py",
   "mimetype": "text/x-python",
   "name": "python",
   "nbconvert_exporter": "python",
   "pygments_lexer": "ipython3",
   "version": "3.10.12"
  }
 },
 "nbformat": 4,
 "nbformat_minor": 5
}
