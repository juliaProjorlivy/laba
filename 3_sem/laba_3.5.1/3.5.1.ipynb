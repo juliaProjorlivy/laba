{
 "cells": [
  {
   "cell_type": "code",
   "execution_count": 1,
   "id": "031d7a24-f892-4e43-877b-0ef08d285296",
   "metadata": {},
   "outputs": [],
   "source": [
    "import matplotlib.pyplot as plt\n",
    "import numpy as np"
   ]
  },
  {
   "cell_type": "markdown",
   "id": "07c7e96c-1ebe-47e8-b344-c8080822ba4f",
   "metadata": {},
   "source": [
    "## Data"
   ]
  },
  {
   "cell_type": "code",
   "execution_count": null,
   "id": "35f39641-6cef-4128-9205-1d80ce7f5606",
   "metadata": {},
   "outputs": [],
   "source": [
    "A1 = []\n",
    "V1 = []\n",
    "\n",
    "A2 = []\n",
    "V2 = []"
   ]
  },
  {
   "cell_type": "code",
   "execution_count": null,
   "id": "e2a4f6d6-ceca-4e38-becb-a6a1c04ad78c",
   "metadata": {},
   "outputs": [],
   "source": [
    "x = A1\n",
    "y = V1"
   ]
  },
  {
   "cell_type": "code",
   "execution_count": null,
   "id": "1bb6d967-6779-4618-b7d0-5280f9b053ff",
   "metadata": {},
   "outputs": [],
   "source": [
    "fig, ax = plt.subplots()\n",
    "\n",
    "plt.scatter(x, y, marker='o', color='cornflowerblue')\n",
    "\n",
    "#model1 = np.poly1d(np.polyfit(x, y, 1))\n",
    "#print(model1)\n",
    "\n",
    "#polyline = np.linspace(ns[0], ns[len(ns)-1] + 1)\n",
    "#plt.plot(polyline, model1(polyline), color = 'green', label=\"k = {: .2f}$\\pm 0.01$\".format(round(model1.c[0], 2)))\n",
    "\n",
    "plt.grid()\n",
    "\n",
    "plt.ylabel('$V1, мВ$')\n",
    "plt.xlabel('$I1, мА$')\n",
    "plt.show()\n",
    "#plt.savefig('tex/plot1.png', bbox_inches='tight')"
   ]
  },
  {
   "cell_type": "code",
   "execution_count": null,
   "id": "733234ac-f946-46c8-bece-6c608bc024e6",
   "metadata": {},
   "outputs": [],
   "source": [
    "x = A2\n",
    "y = V2"
   ]
  },
  {
   "cell_type": "code",
   "execution_count": null,
   "id": "76c5115c-05bf-4cf4-9845-2c0aaf9e1547",
   "metadata": {},
   "outputs": [],
   "source": [
    "fig, ax = plt.subplots()\n",
    "\n",
    "plt.scatter(x, y, marker='o', color='cornflowerblue')\n",
    "\n",
    "#model1 = np.poly1d(np.polyfit(x, y, 1))\n",
    "#print(model1)\n",
    "\n",
    "#polyline = np.linspace(ns[0], ns[len(ns)-1] + 1)\n",
    "#plt.plot(polyline, model1(polyline), color = 'green', label=\"k = {: .2f}$\\pm 0.01$\".format(round(model1.c[0], 2)))\n",
    "\n",
    "plt.grid()\n",
    "\n",
    "plt.ylabel('$V2, мВ$')\n",
    "plt.xlabel('$I2, мА$')\n",
    "plt.show()\n",
    "#plt.savefig('tex/plot1.png', bbox_inches='tight')"
   ]
  }
 ],
 "metadata": {
  "kernelspec": {
   "display_name": "Python 3 (ipykernel)",
   "language": "python",
   "name": "python3"
  },
  "language_info": {
   "codemirror_mode": {
    "name": "ipython",
    "version": 3
   },
   "file_extension": ".py",
   "mimetype": "text/x-python",
   "name": "python",
   "nbconvert_exporter": "python",
   "pygments_lexer": "ipython3",
   "version": "3.11.5"
  }
 },
 "nbformat": 4,
 "nbformat_minor": 5
}
