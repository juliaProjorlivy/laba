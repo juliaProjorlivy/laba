{
 "cells": [
  {
   "cell_type": "code",
   "execution_count": 1,
   "id": "f9c9958d-8d3b-4f61-8c0c-069910b61369",
   "metadata": {},
   "outputs": [],
   "source": [
    "import matplotlib.pyplot as plt\n",
    "import numpy as np\n",
    "import math"
   ]
  },
  {
   "cell_type": "markdown",
   "id": "290c2291-0f27-4808-97ed-a0bd298578a7",
   "metadata": {},
   "source": [
    "## Data Part1"
   ]
  },
  {
   "cell_type": "code",
   "execution_count": null,
   "id": "e71b7c4d-f09d-4ca4-bdb9-d5ad6e18422b",
   "metadata": {},
   "outputs": [],
   "source": [
    "x1 = []\n",
    "L = \n",
    "R = \n",
    "nu0 = \n",
    "\n",
    "ts = []\n",
    "ns = []\n",
    "T = [] #период колебаний стержня\n",
    "\n",
    "mass = #масса стержня\n",
    "r = #радиус стержня\n",
    "l = #длина стержня\n"
   ]
  },
  {
   "cell_type": "code",
   "execution_count": null,
   "id": "1e232663-f261-412e-87d0-64c19395b41f",
   "metadata": {},
   "outputs": [],
   "source": [
    "J = mass * (l**2 / 12 + r**2 / 4)\n",
    "B0 = (2 * np.pi / (T * R)) * (mu0 * J * L / (2 * np.pi * R * x1))**0.5"
   ]
  },
  {
   "cell_type": "markdown",
   "id": "b78cd14f-e66c-4837-b723-6cfa21473d69",
   "metadata": {},
   "source": [
    "## Data Part2"
   ]
  },
  {
   "cell_type": "code",
   "execution_count": null,
   "id": "a224201b-26a6-400f-a5ab-946d51214edf",
   "metadata": {},
   "outputs": [],
   "source": [
    "U = []\n",
    "x2 = []\n",
    "\n",
    "N = \n",
    "C = \n",
    "nu = \n",
    "phi2 = \n"
   ]
  },
  {
   "cell_type": "code",
   "execution_count": null,
   "id": "6472aafc-106b-413a-b89e-eb7f3b98b5a1",
   "metadata": {},
   "outputs": [],
   "source": [
    "Ici = (2 * B0 * R / (nu0 * N)) * math.tan(phi2)"
   ]
  },
  {
   "cell_type": "code",
   "execution_count": null,
   "id": "b03748cc-17ed-41d3-917e-ef775fb57840",
   "metadata": {},
   "outputs": [],
   "source": [
    "Icgc = C * Un * u"
   ]
  },
  {
   "cell_type": "code",
   "execution_count": null,
   "id": "2f8564c6-5d07-4014-916a-a7ca95df113a",
   "metadata": {},
   "outputs": [],
   "source": [
    "c = Icgc / Ici * 10"
   ]
  }
 ],
 "metadata": {
  "kernelspec": {
   "display_name": "Python 3 (ipykernel)",
   "language": "python",
   "name": "python3"
  },
  "language_info": {
   "codemirror_mode": {
    "name": "ipython",
    "version": 3
   },
   "file_extension": ".py",
   "mimetype": "text/x-python",
   "name": "python",
   "nbconvert_exporter": "python",
   "pygments_lexer": "ipython3",
   "version": "3.11.5"
  }
 },
 "nbformat": 4,
 "nbformat_minor": 5
}
