{
 "cells": [
  {
   "cell_type": "code",
   "execution_count": 2,
   "id": "2fa24951-b295-4410-864c-2d240fdc2bb4",
   "metadata": {},
   "outputs": [],
   "source": [
    "import matplotlib.pyplot as plt\n",
    "import numpy as np\n",
    "import math\n",
    "\n",
    "mu0= 1.25 * 10 **(-6)"
   ]
  },
  {
   "cell_type": "code",
   "execution_count": 3,
   "id": "39a031c3-0ccb-423c-a01b-a278ae26b460",
   "metadata": {},
   "outputs": [],
   "source": [
    "m = (23.43 / 28) * 10 ** (-3)\n",
    "dm = 0.001 * 10**(-3)\n",
    "ds = [5.4, 5.4, 5.33, 5.48, 5.37, 5.25, 5.37]\n",
    "d = np.average(ds) * 10**(-3)\n",
    "sigma_d = ((np.std(ds) ** 2 + 0.01**2)**0.5 ) * 10 **(-3)\n",
    "\n",
    "rmaxs = [25, 18, 20, 17, 18, 19, 17.5, 17.3, 18.3, 18.8, 19.5]\n",
    "rmax = np.average(rmaxs) * 10 ** (-3)\n",
    "sigma_rmax = np.std(rmaxs) * 10 ** (-3)"
   ]
  },
  {
   "cell_type": "code",
   "execution_count": 4,
   "id": "8b16f572-5cd6-4c19-b3a1-ef9b7971b952",
   "metadata": {},
   "outputs": [
    {
     "name": "stdout",
     "output_type": "stream",
     "text": [
      "0.005371428571428572 6.610134457862457e-05 0.01894545454545455 0.0021081502604561085\n"
     ]
    }
   ],
   "source": [
    "print(d, sigma_d, rmax, sigma_rmax)"
   ]
  },
  {
   "cell_type": "code",
   "execution_count": 5,
   "id": "29c5fd64-a6b4-4e1f-a174-0aea3cc19da7",
   "metadata": {},
   "outputs": [
    {
     "name": "stdout",
     "output_type": "stream",
     "text": [
      "0.042500250309715874 0.009458441494140027 22.25502538270406\n"
     ]
    }
   ],
   "source": [
    "m_1 = (( 4 * np.pi * m * 10 * (rmax ** 4)) / (mu0 * 6))**0.5\n",
    "dm_1 = m_1 * ((dm / (2*m))**2 + (2 * sigma_rmax / rmax)**2)**0.5\n",
    "print(m_1 , dm_1, dm_1 * 100 / m_1)"
   ]
  },
  {
   "cell_type": "code",
   "execution_count": 6,
   "id": "6242335a-e176-40e8-acb1-2728de55a026",
   "metadata": {},
   "outputs": [],
   "source": [
    "M = 0.322"
   ]
  },
  {
   "cell_type": "code",
   "execution_count": 7,
   "id": "3b2664dd-8f55-474d-8596-3f3af34cde5f",
   "metadata": {},
   "outputs": [
    {
     "name": "stdout",
     "output_type": "stream",
     "text": [
      "0.06701651594618993 0.005458326156220945 8.144747722492228\n"
     ]
    }
   ],
   "source": [
    "m_2 = ((4 * np.pi * (d**4) * M * 10) / (6 * mu0))**0.5\n",
    "dM = 0.05\n",
    "dm_2 = m_2 * ((dM / (2*M))**2 + (2 * sigma_d / d)**2)**0.5\n",
    "print(m_2, dm_2, dm_2 * 100 / m_2)"
   ]
  },
  {
   "cell_type": "code",
   "execution_count": 8,
   "id": "ff070c0a-2a5d-42c6-a21f-3895bb4ee5d0",
   "metadata": {},
   "outputs": [
    {
     "name": "stdout",
     "output_type": "stream",
     "text": [
      "0.6882283570769373 0.061544136266019595 8.94240053220294\n"
     ]
    }
   ],
   "source": [
    "B0 = mu0 * m_2 / (2 * np.pi * (d / 2)**3)\n",
    "dB0 = B0 * ((dm_2 / m_2)**2 + (3 * sigma_d / d)**2)**0.5\n",
    "print(B0, dB0, dB0 * 100 / B0)"
   ]
  },
  {
   "cell_type": "code",
   "execution_count": 9,
   "id": "f5a5345c-0fce-4fa0-9d8f-697ca13f1839",
   "metadata": {},
   "outputs": [
    {
     "name": "stdout",
     "output_type": "stream",
     "text": [
      "1.032342535615406 0.09231620439902939\n"
     ]
    }
   ],
   "source": [
    "print(1.5 * B0, 1.5 * dB0)"
   ]
  },
  {
   "cell_type": "code",
   "execution_count": 10,
   "id": "ea2f6dbb-0fa0-4100-8ad1-de9e31f00828",
   "metadata": {},
   "outputs": [
    {
     "name": "stdout",
     "output_type": "stream",
     "text": [
      "271.0 28.453470790045984 0.10499435715884127\n"
     ]
    }
   ],
   "source": [
    "Bps = [309, 239, 257, 301, 249]\n",
    "print(np.average(Bps), np.std(Bps), np.std(Bps) / np.average(Bps))"
   ]
  },
  {
   "cell_type": "code",
   "execution_count": null,
   "id": "1d2a81fc-86e3-4134-9010-5d028cc3aaeb",
   "metadata": {},
   "outputs": [],
   "source": []
  },
  {
   "cell_type": "markdown",
   "id": "e028592e-7c49-480c-81e3-56e059adaa18",
   "metadata": {},
   "source": [
    "# horizontal part"
   ]
  },
  {
   "cell_type": "code",
   "execution_count": 11,
   "id": "d98a855a-729f-47fd-9619-3ed9be75fc1d",
   "metadata": {},
   "outputs": [],
   "source": [
    "ns = [x for x in range(3, 13)]\n",
    "ts1 = [8.41, 8.62, 8.61, 8.72, 8.72]\n",
    "ts2 = [11.5, 11.57, 11.43, 11.41, 11.27]\n",
    "ts3 = [14.63, 6.91 * 2, 14.66, 14.69, 14.48]\n",
    "ts4 = [17.03, 17.34, 16.69, 16.72, 16.56]\n",
    "ts5 = [19.03, 18.82, 19.28, 18.69, 18.61]\n",
    "ts6 = [22.4, 22.12, 21.93, 23.46, 22.71]\n",
    "ts7 = [25.44, 25.04, 25.15, 24.94, 25.41]\n",
    "ts8 = [27.97, 27.38, 28.13, 27.37, 27.17]\n",
    "ts9 = [31.28, 30.19, 30.62, 31.06, 30.02]\n",
    "ts10 = [34.81, 53.34 * 2 / 3, 34.34, 34.91, 33.44]"
   ]
  },
  {
   "cell_type": "code",
   "execution_count": 12,
   "id": "07716d2d-02e2-4171-8bc8-eac9e244cf59",
   "metadata": {},
   "outputs": [
    {
     "data": {
      "text/plain": [
       "34.612"
      ]
     },
     "execution_count": 12,
     "metadata": {},
     "output_type": "execute_result"
    }
   ],
   "source": [
    "np.average(ts10)"
   ]
  },
  {
   "cell_type": "code",
   "execution_count": 13,
   "id": "3a580a5b-bb18-4360-bd7d-6f6bc2c2ab8c",
   "metadata": {},
   "outputs": [
    {
     "data": {
      "text/plain": [
       "0.7034600201859387"
      ]
     },
     "execution_count": 13,
     "metadata": {},
     "output_type": "execute_result"
    }
   ],
   "source": [
    "np.std(ts10)"
   ]
  },
  {
   "cell_type": "code",
   "execution_count": 14,
   "id": "6fb4ccad-b6fa-4485-92ca-837345fec237",
   "metadata": {},
   "outputs": [],
   "source": [
    "t = [np.average(ts1), np.average(ts2), np.average(ts3), np.average(ts4), np.average(ts5)\n",
    "    , np.average(ts6), np.average(ts7), np.average(ts8), np.average(ts9), np.average(ts10)]\n",
    "sigma_t = [np.std(ts1), np.std(ts2), np.std(ts3), np.std(ts4), np.std(ts5), np.std(ts6), \n",
    "           np.std(ts7), np.std(ts8), np.std(ts9), np.std(ts10)]\n",
    "t = [x / 10 for x in t]\n",
    "sigma_t = [x / 10 for x in sigma_t]\n",
    "et = [100 * sigma_t[i] / t[i] for i in range(len(t))]"
   ]
  },
  {
   "cell_type": "code",
   "execution_count": 15,
   "id": "616ec083-9c32-472a-88b0-5d4eaaf15d47",
   "metadata": {},
   "outputs": [
    {
     "data": {
      "text/plain": [
       "[0.86, 1.14, 1.45, 1.69, 1.89, 2.25, 2.52, 2.76, 3.06, 3.46]"
      ]
     },
     "execution_count": 15,
     "metadata": {},
     "output_type": "execute_result"
    }
   ],
   "source": [
    "[round(x, 2) for x in t]"
   ]
  },
  {
   "cell_type": "code",
   "execution_count": 16,
   "id": "0523874a-9bff-41cd-bbd7-c70667c918df",
   "metadata": {},
   "outputs": [
    {
     "data": {
      "text/plain": [
       "[0.01, 0.01, 0.03, 0.03, 0.02, 0.05, 0.02, 0.04, 0.05, 0.07]"
      ]
     },
     "execution_count": 16,
     "metadata": {},
     "output_type": "execute_result"
    }
   ],
   "source": [
    "[round(x, 2) for x in sigma_t]"
   ]
  },
  {
   "cell_type": "code",
   "execution_count": 17,
   "id": "65f9fe2f-92a9-4a3a-b190-597bf458c6c8",
   "metadata": {},
   "outputs": [
    {
     "data": {
      "text/plain": [
       "[1.31, 0.88, 2.26, 1.67, 1.29, 2.38, 0.79, 1.36, 1.58, 2.03]"
      ]
     },
     "execution_count": 17,
     "metadata": {},
     "output_type": "execute_result"
    }
   ],
   "source": [
    "[round(x, 2) for x in et]"
   ]
  },
  {
   "cell_type": "code",
   "execution_count": 87,
   "id": "e4d911a7-5ec0-40a5-98f3-379ec6b404b1",
   "metadata": {},
   "outputs": [],
   "source": [
    "x = ns\n",
    "y = t\n",
    "dy = sigma_t"
   ]
  },
  {
   "cell_type": "code",
   "execution_count": 88,
   "id": "9fd8d9d6-7c9b-4499-be22-ccd37d0b50d8",
   "metadata": {},
   "outputs": [
    {
     "name": "stdout",
     "output_type": "stream",
     "text": [
      " \n",
      "0.2804 x + 0.005084\n"
     ]
    },
    {
     "data": {
      "image/png": "[encoded data removed]",
      "text/plain": [
       "<Figure size 640x480 with 1 Axes>"
      ]
     },
     "metadata": {},
     "output_type": "display_data"
    }
   ],
   "source": [
    "fig, ax = plt.subplots()\n",
    "\n",
    "plt.scatter(x, y, marker='o', color='cornflowerblue')\n",
    "\n",
    "model1 = np.poly1d(np.polyfit(x, y, 1))\n",
    "print(model1)\n",
    "\n",
    "polyline = np.linspace(ns[0], ns[len(ns)-1] + 1)\n",
    "plt.plot(polyline, model1(polyline), color = 'green', label=\"k = {: .2f}$\\pm 0.01$\".format(round(model1.c[0], 2)))\n",
    "\n",
    "x2 = np.linspace(3, 12, 50)\n",
    "ax.plot(x2, 0.285 * x2 + 0.005, color='lightblue', linestyle=':');\n",
    "x3 = np.linspace(3, 12, 50)\n",
    "ax.plot(x3, 0.275 * x3 + 0.005, color='c', linestyle='--');\n",
    "\n",
    "dk = 0.01\n",
    "\n",
    "plt.legend()\n",
    "#ax.set_title('График зависимости $ln(U)(t)$')\n",
    "plt.errorbar(x, y, yerr=dy, ecolor='k', linestyle='')\n",
    "#ax.plot(x, y, 'r-')\n",
    "plt.grid()\n",
    "\n",
    "plt.ylabel('$T, c$')\n",
    "plt.xlabel('$n, шт$')\n",
    "k = round(model1.c[0], 2)\n",
    "#plt.show()\n",
    "plt.savefig('tex/plot1.png', bbox_inches='tight')"
   ]
  },
  {
   "cell_type": "code",
   "execution_count": 89,
   "id": "99dd1991-ca3e-4795-8fc3-fc98e7b19f3c",
   "metadata": {},
   "outputs": [
    {
     "name": "stdout",
     "output_type": "stream",
     "text": [
      "1.5117307568209878e-05 1.1422553452446828e-06 7.555944337910586\n"
     ]
    }
   ],
   "source": [
    "B_parallel = (2 * np.pi)**2 * m * (d / 2)**2 / (3 * m_2 * k**2)\n",
    "dB_parallel = B_parallel * ((dm / m)**2 + (2 * sigma_d / d)**2 + (2 * dk / k)**2)**0.5\n",
    "print(B_parallel, dB_parallel, dB_parallel * 100 / B_parallel)"
   ]
  },
  {
   "cell_type": "code",
   "execution_count": 90,
   "id": "6e0ff2f0-e09f-4b06-ac82-0cb342ac24ba",
   "metadata": {},
   "outputs": [
    {
     "data": {
      "text/plain": [
       "3.571428571428571"
      ]
     },
     "execution_count": 90,
     "metadata": {},
     "output_type": "execute_result"
    }
   ],
   "source": [
    "dk * 100 / k"
   ]
  },
  {
   "cell_type": "code",
   "execution_count": 91,
   "id": "f14d7d37-0214-4369-aa04-dca4ce764b8a",
   "metadata": {},
   "outputs": [],
   "source": [
    "r_gr = [4 * d, 3 * d, 2 * d, d]"
   ]
  },
  {
   "cell_type": "code",
   "execution_count": 92,
   "id": "fc3dc3a8-2258-419e-b519-2a9d754649a1",
   "metadata": {},
   "outputs": [
    {
     "data": {
      "text/plain": [
       "[3.7385142857142865e-05,\n",
       " 3.2228571428571437e-05,\n",
       " 2.1485714285714288e-05,\n",
       " 1.0742857142857144e-05]"
      ]
     },
     "execution_count": 92,
     "metadata": {},
     "output_type": "execute_result"
    }
   ],
   "source": [
    "ns2 = [10, 8, 6, 4]\n",
    "m_gr = [x * 10 ** (-3) for x in [0.174, 0.2, 0.2, 0.2]]\n",
    "M_gr = [10 * m_gr[i] * r_gr[i] for i in range(4)]\n",
    "M_gr"
   ]
  },
  {
   "cell_type": "code",
   "execution_count": 93,
   "id": "7cdd3341-349a-4039-9640-1be667c15b12",
   "metadata": {},
   "outputs": [
    {
     "data": {
      "text/plain": [
       "[5.077634544886887e-07,\n",
       " 4.2809459187408273e-07,\n",
       " 2.8539639458272177e-07,\n",
       " 1.4269819729136088e-07]"
      ]
     },
     "execution_count": 93,
     "metadata": {},
     "output_type": "execute_result"
    }
   ],
   "source": [
    "dM_gr = [M_gr[i] * ((dm / m_gr[i])**2 + (sigma_d / d)**2)**0.5 for i in range(4)]\n",
    "dM_gr"
   ]
  },
  {
   "cell_type": "code",
   "execution_count": 97,
   "id": "f4d3ef6d-c292-4638-8397-a97b95ff7e7c",
   "metadata": {},
   "outputs": [],
   "source": [
    "x = ns2\n",
    "y = [x * 10 ** 5 for x in M_gr]"
   ]
  },
  {
   "cell_type": "code",
   "execution_count": 99,
   "id": "144e59b9-9141-4bba-b90e-7d83830eac5e",
   "metadata": {},
   "outputs": [
    {
     "name": "stdout",
     "output_type": "stream",
     "text": [
      " \n",
      "0.4533 x - 0.6274\n"
     ]
    },
    {
     "data": {
      "image/png": "[encoded data removed]",
      "text/plain": [
       "<Figure size 640x480 with 1 Axes>"
      ]
     },
     "metadata": {},
     "output_type": "display_data"
    }
   ],
   "source": [
    "fig, ax = plt.subplots()\n",
    "\n",
    "plt.scatter(x, y, marker='o', color='cornflowerblue')\n",
    "\n",
    "model1 = np.poly1d(np.polyfit(x, y, 1))\n",
    "print(model1)\n",
    "\n",
    "polyline = np.linspace(3, 11)\n",
    "plt.plot(polyline, model1(polyline), color = 'green', label=\"k = {: .2}$\\pm 0.04$\".format(round(model1.c[0], 2)))\n",
    "plt.errorbar(x, y, yerr=dM_gr, ecolor='k', linestyle='')\n",
    "\n",
    "x2 = np.linspace(4, 11, 50)\n",
    "ax.plot(x2, 0.473 * x2 - 0.627, color='lightblue', linestyle=':');\n",
    "x3 = np.linspace(4, 11, 50)\n",
    "ax.plot(x3, 0.433 * x3 - 0.627, color='c', linestyle='--');\n",
    "\n",
    "dk = 0.04\n",
    "k = round(model1.c[0], 2)\n",
    "\n",
    "plt.legend()\n",
    "#ax.set_title('График зависимости $ln(U)(t)$')\n",
    "#plt.errorbar(x, y, yerr=dM_gr, ecolor='k', linestyle='')\n",
    "#ax.plot(x, y, 'r-')\n",
    "plt.grid()\n",
    "\n",
    "plt.ylabel('$M, H\\cdot м\\cdot 10^{-5}$')\n",
    "plt.xlabel('$n, шт$')\n",
    "#plt.show()\n",
    "plt.savefig('tex/plot2.png', bbox_inches='tight')"
   ]
  },
  {
   "cell_type": "code",
   "execution_count": 100,
   "id": "eea039e8-0093-406e-aef0-7eeece20edf7",
   "metadata": {},
   "outputs": [],
   "source": [
    "B_perp = k * 10**(-5) / m_2\n",
    "dB_perp = B_perp * ((dm_2 / m_2)**2 + (dk / k)**2)**0.5"
   ]
  },
  {
   "cell_type": "code",
   "execution_count": 101,
   "id": "c800f6a0-606d-43c5-8a4d-27e02d205bf8",
   "metadata": {},
   "outputs": [
    {
     "name": "stdout",
     "output_type": "stream",
     "text": [
      "6.714762676730642e-05 8.095377064272465e-06 12.056088135960797\n"
     ]
    }
   ],
   "source": [
    "\n",
    "print(B_perp, dB_perp, dB_perp * 100 / B_perp)"
   ]
  },
  {
   "cell_type": "code",
   "execution_count": 104,
   "id": "6101f4e0-759c-4828-9335-d2c85210306d",
   "metadata": {},
   "outputs": [
    {
     "name": "stdout",
     "output_type": "stream",
     "text": [
      "4.441771556497989 0.6319839544476449 14.228195809014496\n"
     ]
    }
   ],
   "source": [
    "e_theta = ((dB_perp / B_perp)**2 + (dB_parallel / B_parallel)**2)**0.5\n",
    "theta = B_perp / B_parallel\n",
    "print(theta, e_theta * theta, e_theta * 100)"
   ]
  },
  {
   "cell_type": "code",
   "execution_count": 116,
   "id": "50839862-1295-45d8-aacf-1d56e34be542",
   "metadata": {},
   "outputs": [
    {
     "data": {
      "text/plain": [
       "1.7468005644286344"
      ]
     },
     "execution_count": 116,
     "metadata": {},
     "output_type": "execute_result"
    }
   ],
   "source": [
    "e_theta * theta * 180 / ((theta ** 2 + 1) * np.pi)"
   ]
  },
  {
   "cell_type": "code",
   "execution_count": 115,
   "id": "cfbfa3d3-3d85-4f0e-8765-133d63c7987c",
   "metadata": {},
   "outputs": [
    {
     "data": {
      "text/plain": [
       "77.31223288782469"
      ]
     },
     "execution_count": 115,
     "metadata": {},
     "output_type": "execute_result"
    }
   ],
   "source": [
    "math.atan(theta) * 180 / np.pi"
   ]
  },
  {
   "cell_type": "code",
   "execution_count": 120,
   "id": "af3814db-b45f-42a1-b3c7-a02983aac939",
   "metadata": {},
   "outputs": [
    {
     "name": "stdout",
     "output_type": "stream",
     "text": [
      "6.882831371313219e-05 8.175565857265704e-06 11.878201594972152\n"
     ]
    }
   ],
   "source": [
    "B = (B_parallel**2 + B_perp**2)**0.5\n",
    "dB = (dB_parallel**2 + dB_perp**2)**0.5\n",
    "e_B = dB*100 / B\n",
    "print(B, dB, e_B)"
   ]
  },
  {
   "cell_type": "code",
   "execution_count": null,
   "id": "5a7cb69d-79cc-41c6-998c-9bd3b8e1eb6d",
   "metadata": {},
   "outputs": [],
   "source": []
  }
 ],
 "metadata": {
  "kernelspec": {
   "display_name": "Python 3 (ipykernel)",
   "language": "python",
   "name": "python3"
  },
  "language_info": {
   "codemirror_mode": {
    "name": "ipython",
    "version": 3
   },
   "file_extension": ".py",
   "mimetype": "text/x-python",
   "name": "python",
   "nbconvert_exporter": "python",
   "pygments_lexer": "ipython3",
   "version": "3.11.5"
  }
 },
 "nbformat": 4,
 "nbformat_minor": 5
}
