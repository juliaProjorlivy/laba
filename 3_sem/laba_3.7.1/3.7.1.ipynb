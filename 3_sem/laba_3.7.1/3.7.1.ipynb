{
 "cells": [
  {
   "cell_type": "code",
   "execution_count": 1,
   "id": "f9cedb04-6233-4f67-b0f7-36b7c11c089c",
   "metadata": {},
   "outputs": [],
   "source": [
    "import matplotlib.pyplot as plt\n",
    "import numpy as np\n",
    "import math"
   ]
  },
  {
   "cell_type": "code",
   "execution_count": 7,
   "id": "39d25f39-1fc1-423a-af2b-1d3559b43b6b",
   "metadata": {
    "editable": true,
    "slideshow": {
     "slide_type": ""
    },
    "tags": []
   },
   "outputs": [],
   "source": [
    "sigma_m = 5 * 10 ** 7\n",
    "mu = 1\n",
    "h = \n",
    "\n",
    "nu_h = 2 / (sigma_m * mu * h**2) #h = delta\n",
    "nu_h"
   ]
  },
  {
   "cell_type": "code",
   "execution_count": null,
   "id": "65ef9e60-9809-41c7-92c3-ce19536cc24a",
   "metadata": {},
   "outputs": [],
   "source": [
    "0.01 * nu_h"
   ]
  },
  {
   "cell_type": "code",
   "execution_count": 8,
   "id": "126a2b14-157b-4359-9175-4879502497fb",
   "metadata": {},
   "outputs": [
    {
     "data": {
      "text/plain": [
       "0.004"
      ]
     },
     "execution_count": 8,
     "metadata": {},
     "output_type": "execute_result"
    }
   ],
   "source": [
    "(0.05 - 0.01) / 10"
   ]
  },
  {
   "cell_type": "markdown",
   "id": "42c75450-2ce4-4da4-9bb0-ff5c6b9a5a1f",
   "metadata": {},
   "source": [
    "# Data (3)"
   ]
  },
  {
   "cell_type": "code",
   "execution_count": null,
   "id": "4c1a82f5-668f-4ccc-8d0d-5a69b0f622e8",
   "metadata": {},
   "outputs": [],
   "source": [
    "nus = [(0.01 + 0.004 * i) * nu_h for i in range(10)]\n",
    "\n",
    "I = []\n",
    "U = []\n",
    "\n",
    "csi = [U[i] / (nus[i] * I[i]) for i in range(len(I))]"
   ]
  },
  {
   "cell_type": "code",
   "execution_count": null,
   "id": "aaf38a85-de75-48d0-8cc2-d11362c75f9b",
   "metadata": {
    "editable": true,
    "slideshow": {
     "slide_type": ""
    },
    "tags": []
   },
   "outputs": [],
   "source": [
    "x = [i ** 2 for i in nus]\n",
    "y = [1 / (i**2) for i in csi]\n",
    "\n",
    "fig, ax = plt.subplots()\n",
    "\n",
    "plt.scatter(x, y, marker='o', color='lightblue')\n",
    "\n",
    "ax.plot(x, y, linestyle='-', color='lightblue')\n",
    "\n",
    "\n",
    "#model1 = np.poly1d(np.polyfit(xx, yy, 1))\n",
    "#print(model1)\n",
    "\n",
    "#polyline = np.linspace(22, 30)\n",
    "#plt.plot(polyline, model1(polyline), color = 'k', label=\"k = {: .2f}$\\pm 0.01$\".format(round(model1.c[0], 2)))\n",
    "\n",
    "#k = model1.c[0]\n",
    "#dk = -k * ((dI / min(x1))**2 + (dV / min(y1))**2)**0.5\n",
    "#plt.legend([\"По возрастанию\",\"По убыванию\", \"k = {: .3f}$\\pm {:.3f}$\".format(round(model1.c[0], 3), dk)])\n",
    "\n",
    "plt.grid()\n",
    "\n",
    "plt.xlabel('$\\\\csi$')\n",
    "plt.ylabel('$\\\\nu, кГц$')\n",
    "plt.show()\n",
    "#plt.savefig('tex/images/plot1.png', bbox_inches='tight')"
   ]
  },
  {
   "cell_type": "markdown",
   "id": "59eea56a-0e21-462b-9f85-cdc515ad2f4c",
   "metadata": {},
   "source": [
    "# Data (4)"
   ]
  },
  {
   "cell_type": "code",
   "execution_count": 17,
   "id": "33368cac-c208-48c6-bd43-ac33d722780f",
   "metadata": {},
   "outputs": [
    {
     "data": {
      "text/plain": [
       "array([0.05, 0.06, 0.07, 0.08, 0.09, 0.1 , 0.15, 0.2 , 0.25, 0.3 , 0.35,\n",
       "       0.4 , 0.45])"
      ]
     },
     "execution_count": 17,
     "metadata": {},
     "output_type": "execute_result"
    }
   ],
   "source": [
    "nus1 = [(0.05 + ((0.1 - 0.05) / (5)) * i) * nu_h for i in range(5)]\n",
    "nus2 = [(0.1 + ((0.5 - 0.1) / (8)) * i) * nu_h for i in range(8)]\n",
    "nus = np.concatenate((nus1, nus2))\n",
    "\n",
    "\n",
    "I = []\n",
    "U = []\n",
    "angle = []\n",
    "\n",
    "csi = [U[i] / (nus[i] * I[i]) for i in range(len(I))]"
   ]
  },
  {
   "cell_type": "code",
   "execution_count": null,
   "id": "d3d794f2-16a6-4389-bc9b-79fcd18b09bd",
   "metadata": {},
   "outputs": [],
   "source": [
    "y = [1 / (i**2) for i in csi]\n",
    "x = [i**2 for i in nus]\n",
    "\n",
    "fig, ax = plt.subplots()\n",
    "\n",
    "plt.scatter(x, y, marker='o', color='lightblue')\n",
    "\n",
    "ax.plot(x, y, linestyle='-', color='lightblue')\n",
    "\n",
    "\n",
    "#model1 = np.poly1d(np.polyfit(xx, yy, 1))\n",
    "#print(model1)\n",
    "\n",
    "#polyline = np.linspace(22, 30)\n",
    "#plt.plot(polyline, model1(polyline), color = 'k', label=\"k = {: .2f}$\\pm 0.01$\".format(round(model1.c[0], 2)))\n",
    "\n",
    "#k = model1.c[0]\n",
    "#dk = -k * ((dI / min(x1))**2 + (dV / min(y1))**2)**0.5\n",
    "#plt.legend([\"По возрастанию\",\"По убыванию\", \"k = {: .3f}$\\pm {:.3f}$\".format(round(model1.c[0], 3), dk)])\n",
    "\n",
    "plt.grid()\n",
    "\n",
    "plt.xlabel('$\\\\csi$')\n",
    "plt.ylabel('$\\\\nu, кГц$')\n",
    "plt.show()\n",
    "#plt.savefig('tex/images/plot1.png', bbox_inches='tight')"
   ]
  },
  {
   "cell_type": "code",
   "execution_count": null,
   "id": "896223df-5c49-4521-b347-c2cb967af201",
   "metadata": {},
   "outputs": [],
   "source": [
    "y = [math.tan(i) for i in angle]\n",
    "x = nus\n",
    "\n",
    "fig, ax = plt.subplots()\n",
    "\n",
    "plt.scatter(x, y, marker='o', color='lightblue')\n",
    "\n",
    "ax.plot(x, y, linestyle='-', color='lightblue')\n",
    "\n",
    "\n",
    "#model1 = np.poly1d(np.polyfit(xx, yy, 1))\n",
    "#print(model1)\n",
    "\n",
    "#polyline = np.linspace(22, 30)\n",
    "#plt.plot(polyline, model1(polyline), color = 'k', label=\"k = {: .2f}$\\pm 0.01$\".format(round(model1.c[0], 2)))\n",
    "\n",
    "#k = model1.c[0]\n",
    "#dk = -k * ((dI / min(x1))**2 + (dV / min(y1))**2)**0.5\n",
    "#plt.legend([\"По возрастанию\",\"По убыванию\", \"k = {: .3f}$\\pm {:.3f}$\".format(round(model1.c[0], 3), dk)])\n",
    "\n",
    "plt.grid()\n",
    "\n",
    "plt.xlabel('$\\\\csi$')\n",
    "plt.ylabel('$\\\\nu, кГц$')\n",
    "plt.show()\n",
    "#plt.savefig('tex/images/plot1.png', bbox_inches='tight')"
   ]
  },
  {
   "cell_type": "markdown",
   "id": "b41ec20b-251e-4a36-97e3-3a0e19d31185",
   "metadata": {},
   "source": [
    "# Data (5)"
   ]
  },
  {
   "cell_type": "code",
   "execution_count": null,
   "id": "25572247-88cb-480d-9073-324a901864bd",
   "metadata": {},
   "outputs": [],
   "source": [
    "nus = [(0.5 + ((15 - 0.5) / 15) * i) * nu_h for i in range(15)]\n",
    "\n",
    "I = []\n",
    "U = []\n",
    "angle = []\n",
    "\n",
    "csi = [U[i] / (nus[i] * I[i]) for i in range(len(I))]"
   ]
  },
  {
   "cell_type": "code",
   "execution_count": null,
   "id": "159d31ed-318a-4422-a10a-40f1749e83f8",
   "metadata": {},
   "outputs": [],
   "source": [
    "y = [np.log(i) for i in csi]\n",
    "x = [np.log(i) for i in nus]\n",
    "\n",
    "fig, ax = plt.subplots()\n",
    "\n",
    "plt.scatter(x, y, marker='o', color='lightblue')\n",
    "\n",
    "ax.plot(x, y, linestyle='-', color='lightblue')\n",
    "\n",
    "\n",
    "#model1 = np.poly1d(np.polyfit(xx, yy, 1))\n",
    "#print(model1)\n",
    "\n",
    "#polyline = np.linspace(22, 30)\n",
    "#plt.plot(polyline, model1(polyline), color = 'k', label=\"k = {: .2f}$\\pm 0.01$\".format(round(model1.c[0], 2)))\n",
    "\n",
    "#k = model1.c[0]\n",
    "#dk = -k * ((dI / min(x1))**2 + (dV / min(y1))**2)**0.5\n",
    "#plt.legend([\"По возрастанию\",\"По убыванию\", \"k = {: .3f}$\\pm {:.3f}$\".format(round(model1.c[0], 3), dk)])\n",
    "\n",
    "plt.grid()\n",
    "\n",
    "plt.xlabel('$\\\\csi$')\n",
    "plt.ylabel('$\\\\nu, кГц$')\n",
    "plt.show()\n",
    "#plt.savefig('tex/images/plot1.png', bbox_inches='tight')"
   ]
  },
  {
   "cell_type": "code",
   "execution_count": null,
   "id": "8fd068e1-6bee-4057-9bc1-e04693c50eb7",
   "metadata": {},
   "outputs": [],
   "source": [
    "y = [np.log(i) for i in angle]\n",
    "x = [np.log(i) for i in nus]\n",
    "\n",
    "fig, ax = plt.subplots()\n",
    "\n",
    "plt.scatter(x, y, marker='o', color='lightblue')\n",
    "\n",
    "ax.plot(x, y, linestyle='-', color='lightblue')\n",
    "\n",
    "\n",
    "#model1 = np.poly1d(np.polyfit(xx, yy, 1))\n",
    "#print(model1)\n",
    "\n",
    "#polyline = np.linspace(22, 30)\n",
    "#plt.plot(polyline, model1(polyline), color = 'k', label=\"k = {: .2f}$\\pm 0.01$\".format(round(model1.c[0], 2)))\n",
    "\n",
    "#k = model1.c[0]\n",
    "#dk = -k * ((dI / min(x1))**2 + (dV / min(y1))**2)**0.5\n",
    "#plt.legend([\"По возрастанию\",\"По убыванию\", \"k = {: .3f}$\\pm {:.3f}$\".format(round(model1.c[0], 3), dk)])\n",
    "\n",
    "plt.grid()\n",
    "\n",
    "plt.xlabel('$\\\\csi$')\n",
    "plt.ylabel('$\\\\nu, кГц$')\n",
    "plt.show()\n",
    "#plt.savefig('tex/images/plot1.png', bbox_inches='tight')"
   ]
  },
  {
   "cell_type": "markdown",
   "id": "abda0d53-3231-42b4-8d53-fa07455a3cc7",
   "metadata": {},
   "source": [
    "# Data (6)"
   ]
  },
  {
   "cell_type": "code",
   "execution_count": null,
   "id": "50082020-2921-4391-9815-615e45c0bc3c",
   "metadata": {},
   "outputs": [],
   "source": [
    "nus = []\n",
    "L = []\n"
   ]
  }
 ],
 "metadata": {
  "kernelspec": {
   "display_name": "Python 3 (ipykernel)",
   "language": "python",
   "name": "python3"
  },
  "language_info": {
   "codemirror_mode": {
    "name": "ipython",
    "version": 3
   },
   "file_extension": ".py",
   "mimetype": "text/x-python",
   "name": "python",
   "nbconvert_exporter": "python",
   "pygments_lexer": "ipython3",
   "version": "3.11.5"
  }
 },
 "nbformat": 4,
 "nbformat_minor": 5
}
