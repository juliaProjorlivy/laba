{
 "cells": [
  {
   "cell_type": "code",
   "execution_count": 194,
   "id": "13b04762-471f-40ba-bc42-e13773906b2d",
   "metadata": {},
   "outputs": [],
   "source": [
    "import matplotlib.pyplot as plt\n",
    "import numpy as np"
   ]
  },
  {
   "cell_type": "markdown",
   "id": "f835e290-bcad-41f2-a528-2c1fcdb8a3b2",
   "metadata": {},
   "source": [
    "# Data"
   ]
  },
  {
   "cell_type": "code",
   "execution_count": 195,
   "id": "5b0408cb-a409-451c-b31f-9da37c278ca8",
   "metadata": {},
   "outputs": [],
   "source": [
    "def calc_rho(T):\n",
    "    return (1.2625 - 0.0125 * T / 43) * 1000\n",
    "\n",
    "def calc_eta(r, rho_fl, vel):\n",
    "    return 2 * g * r **2 * (rho - rho_fl) / (9 * vel)\n",
    "    \n",
    "def calc_rs(ds):\n",
    "    return [x * 0.001 / 2 for x in ds]\n",
    "\n",
    "def calc_dt_sist(t):\n",
    "    av = np.average(t)\n",
    "    return (sum([(av - ti)**2 for ti in t]) / (len(t) * (len(t) - 1)))**0.5"
   ]
  },
  {
   "cell_type": "code",
   "execution_count": 196,
   "id": "d698f5b9-0e93-49a5-a315-fc9e69364460",
   "metadata": {},
   "outputs": [],
   "source": [
    "g = 9.8\n",
    "rho = 2600\n",
    "l1 = (11.5 - 1.7) * 10 ** (-2)\n",
    "l2 = 16.4 - 6.6 #l1=l2 = l1\n",
    "\n",
    "dss1 = [2.1, 2, 2, 2.1]\n",
    "rs1 = calc_rs(dss1)\n",
    "ts1 = [[32.56, 32.20], [33.04, 32.83], [32.93, 32.57], [32.54, 32.58]]\n",
    "dt1 = max([calc_dt_sist(ti) for ti in ts1])\n",
    "ts1 = [np.average(ts) for ts in ts1]\n",
    "vs1 = [l1 / ts for ts in ts1]\n",
    "\n",
    "dss2 = [2.02, 2.06, 2.02, 2]\n",
    "rs2 = calc_rs(dss2)\n",
    "ts2 = [[27.16, 25.79], [24.66, 23.49], [22.62, 22.04], [21.33, 21.3]]\n",
    "dt2 = max([calc_dt_sist(ti) for ti in ts2])\n",
    "ts2 = [np.average(ts) for ts in ts2]\n",
    "vs2 = [l1 / ts for ts in ts2]\n",
    "\n",
    "dss3 = [2.1, 2, 2.12, 2.1]\n",
    "rs3 = calc_rs(dss3)\n",
    "ts3 = [[13.5, 12.75], [12.47, 12.78], [12.5, 12.2], [10.1, 11.25]]\n",
    "dt3 = max([calc_dt_sist(ti) for ti in ts3])\n",
    "ts3 = [np.average(ts) for ts in ts3]\n",
    "vs3 = [l1 / ts for ts in ts3]\n",
    "\n",
    "dss4 = [2.12, 2, 2.02, 2]\n",
    "rs4 = calc_rs(dss4)\n",
    "ts4 = [[6, 6.34], [5.81, 6.01], [5.49, 5.60], [5, 5.34]]\n",
    "dt4 = max([calc_dt_sist(ti) for ti in ts4])\n",
    "ts4 = [np.average(ts) for ts in ts4]\n",
    "vs4 = [l1 / ts for ts in ts4]\n",
    "\n",
    "ts = [ts1, ts2, ts3, ts4]\n",
    "rs = [rs1, rs2, rs3, rs4]\n",
    "vs = [vs1, vs2, vs3, vs4]\n",
    "\n",
    "Ts = [21.60, 30.4, 40, 50]\n",
    "rho_fluid = [calc_rho(T) for T in Ts]\n",
    "\n"
   ]
  },
  {
   "cell_type": "code",
   "execution_count": 223,
   "id": "febd25c1-cc54-4bfd-b3d3-cda3d0019f31",
   "metadata": {},
   "outputs": [
    {
     "data": {
      "text/plain": [
       "[1256, 1254, 1251, 1248]"
      ]
     },
     "execution_count": 223,
     "metadata": {},
     "output_type": "execute_result"
    }
   ],
   "source": [
    "[round(rho) for rho in rho_fluid]"
   ]
  },
  {
   "cell_type": "code",
   "execution_count": 198,
   "id": "e1f334f8-fcee-4cff-b74c-1ae915a6c9a2",
   "metadata": {},
   "outputs": [
    {
     "data": {
      "text/plain": [
       "([2.1, 2, 2, 2.1], [3.03, 2.98, 2.99, 3.01])"
      ]
     },
     "execution_count": 198,
     "metadata": {},
     "output_type": "execute_result"
    }
   ],
   "source": [
    "dss1, [round(v * 1000, 2) for v in vs1],"
   ]
  },
  {
   "cell_type": "code",
   "execution_count": 199,
   "id": "e8abdb49-b0cb-4a08-9399-0a18ae9bad97",
   "metadata": {},
   "outputs": [
    {
     "data": {
      "text/plain": [
       "([2.02, 2.06, 2.02, 2], [3.7, 4.07, 4.39, 4.6])"
      ]
     },
     "execution_count": 199,
     "metadata": {},
     "output_type": "execute_result"
    }
   ],
   "source": [
    "dss2, [round(v * 1000, 2) for v in vs2],"
   ]
  },
  {
   "cell_type": "code",
   "execution_count": 200,
   "id": "0dfdc7e5-932a-49a0-a756-e0cfd49e206a",
   "metadata": {},
   "outputs": [
    {
     "data": {
      "text/plain": [
       "([2.1, 2, 2.12, 2.1], [7.47, 7.76, 7.94, 9.18])"
      ]
     },
     "execution_count": 200,
     "metadata": {},
     "output_type": "execute_result"
    }
   ],
   "source": [
    "dss3, [round(v * 1000, 2) for v in vs3],"
   ]
  },
  {
   "cell_type": "code",
   "execution_count": 201,
   "id": "d06b3e32-2916-4212-b5d3-2b0480b6c380",
   "metadata": {},
   "outputs": [
    {
     "data": {
      "text/plain": [
       "([2.12, 2, 2.02, 2], [15.88, 16.58, 17.67, 18.96])"
      ]
     },
     "execution_count": 201,
     "metadata": {},
     "output_type": "execute_result"
    }
   ],
   "source": [
    "dss4, [round(v * 1000, 2) for v in vs4]"
   ]
  },
  {
   "cell_type": "code",
   "execution_count": 202,
   "id": "1cccfc01-aee2-4e14-8527-715a1656081a",
   "metadata": {},
   "outputs": [
    {
     "data": {
      "text/plain": [
       "[[0.0030265596046942555,\n",
       "  0.002975557917109458,\n",
       "  0.0029923664122137408,\n",
       "  0.00300982800982801],\n",
       " [0.003701605288007554,\n",
       "  0.00407061266874351,\n",
       "  0.00438871473354232,\n",
       "  0.004597701149425288],\n",
       " [0.007466666666666667,\n",
       "  0.007762376237623762,\n",
       "  0.007935222672064778,\n",
       "  0.009180327868852459],\n",
       " [0.01588330632090762,\n",
       "  0.016582064297800337,\n",
       "  0.017673579801623086,\n",
       "  0.01895551257253385]]"
      ]
     },
     "execution_count": 202,
     "metadata": {},
     "output_type": "execute_result"
    }
   ],
   "source": [
    "vs"
   ]
  },
  {
   "cell_type": "markdown",
   "id": "1d7c6521-f150-4e6d-9b21-9936c0a012b7",
   "metadata": {},
   "source": [
    "# Experimental Data"
   ]
  },
  {
   "cell_type": "code",
   "execution_count": 203,
   "id": "d4635971-44a5-4dee-af62-19f082951c8b",
   "metadata": {},
   "outputs": [
    {
     "data": {
      "text/plain": [
       "(4, 4, 0.0010500000000000002)"
      ]
     },
     "execution_count": 203,
     "metadata": {},
     "output_type": "execute_result"
    }
   ],
   "source": [
    "len(rs), len(rs[0]), rs[0][0]"
   ]
  },
  {
   "cell_type": "code",
   "execution_count": 204,
   "id": "724555e3-317c-47ed-8c00-b780aca49d2f",
   "metadata": {},
   "outputs": [],
   "source": [
    "etas = [[calc_eta(rs[i][j], rho_fluid[j], vs[i][j]) for j in range(len(rs))] for i in range(len(rs[0]))]"
   ]
  },
  {
   "cell_type": "code",
   "execution_count": 205,
   "id": "21a6c575-abeb-4b8c-8093-4c134ab9ee5e",
   "metadata": {},
   "outputs": [
    {
     "data": {
      "text/plain": [
       "[1.03, 0.72, 0.39, 0.18]"
      ]
     },
     "execution_count": 205,
     "metadata": {},
     "output_type": "execute_result"
    }
   ],
   "source": [
    "[round(np.average(etas[i]), 2) for i in range(len(etas))]"
   ]
  },
  {
   "cell_type": "code",
   "execution_count": 206,
   "id": "8970d5b1-5d60-4600-9683-d4acdf06e535",
   "metadata": {},
   "outputs": [],
   "source": [
    "taus = [[2 * rs[i][j]**2 * rho / (9 * etas[i][j]) for j in range(len(rs))] for i in range(len(rs[0]))]\n"
   ]
  },
  {
   "cell_type": "code",
   "execution_count": 218,
   "id": "5a154d16-b53f-4154-9b7a-12019a981627",
   "metadata": {},
   "outputs": [
    {
     "data": {
      "text/plain": [
       "([[0.0005975422680315393,\n",
       "   0.0005863566182797239,\n",
       "   0.0005884491201060576,\n",
       "   0.0005906103519519988],\n",
       "  [0.0007308184566142111,\n",
       "   0.0008021455959726979,\n",
       "   0.0008630411412213787,\n",
       "   0.0009021943729559974],\n",
       "  [0.001474165229627523,\n",
       "   0.0015296360572707095,\n",
       "   0.0015604622415767925,\n",
       "   0.0018014307315744338],\n",
       "  [0.003135886327206036,\n",
       "   0.003267623557198427,\n",
       "   0.0034755110339897907,\n",
       "   0.003719588599527482]],\n",
       " [6, 8, 16, 34])"
      ]
     },
     "execution_count": 218,
     "metadata": {},
     "output_type": "execute_result"
    }
   ],
   "source": [
    "taus, [round(np.average(ta)* 10** 4) for ta in taus]"
   ]
  },
  {
   "cell_type": "code",
   "execution_count": 208,
   "id": "4bf103c9-a5a1-4297-b901-6a4e331d2683",
   "metadata": {},
   "outputs": [],
   "source": [
    "Re = [[vs[i][j] * rs[i][j] * rho_fluid[j] / etas[i][j] for j in range(len(rs))] for i in range(len(rs[0]))]\n"
   ]
  },
  {
   "cell_type": "code",
   "execution_count": 219,
   "id": "5314f920-2db2-4fbe-b1d3-de81a02cac4b",
   "metadata": {},
   "outputs": [
    {
     "data": {
      "text/plain": [
       "([[0.0037448442010255393,\n",
       "   0.0037857343977966487,\n",
       "   0.003812200715027576,\n",
       "   0.003656748121228824],\n",
       "  [0.005823491296909178,\n",
       "   0.006878530390688559,\n",
       "   0.00811894402456508,\n",
       "   0.00895947298848027],\n",
       "  [0.022792334967128364,\n",
       "   0.025763371925807018,\n",
       "   0.025290568198949696,\n",
       "   0.034019511410814295],\n",
       "  [0.10216462583055859,\n",
       "   0.11756837484323035,\n",
       "   0.13166607592540935,\n",
       "   0.1522902333902508]],\n",
       " [4, 7, 27, 126])"
      ]
     },
     "execution_count": 219,
     "metadata": {},
     "output_type": "execute_result"
    }
   ],
   "source": [
    "Re, [round(np.average(x) * 10**3) for x in Re]"
   ]
  },
  {
   "cell_type": "code",
   "execution_count": 220,
   "id": "c767bcfe-c641-4e01-899e-a3185be4663d",
   "metadata": {},
   "outputs": [],
   "source": [
    "Ss = [[vs[i][j] * taus[i][j] for j in range(len(rs))] for i in range(len(rs[0]))]"
   ]
  },
  {
   "cell_type": "code",
   "execution_count": 221,
   "id": "456c3002-b809-4a70-bd10-15d5bb2f8aa0",
   "metadata": {},
   "outputs": [
    {
     "data": {
      "text/plain": [
       "([[1.8084972905216444e-06,\n",
       "   1.7447380777717607e-06,\n",
       "   1.760855382302096e-06,\n",
       "   1.7776355801995049e-06],\n",
       "  [2.705201463576683e-06,\n",
       "   3.2652240251432772e-06,\n",
       "   3.7876413721314427e-06,\n",
       "   4.148020105544816e-06],\n",
       "  [1.1007100381218838e-05,\n",
       "   1.1873610583170656e-05,\n",
       "   1.2382615358261188e-05,\n",
       "   1.6537724748880048e-05],\n",
       "  [4.980824312255941e-05,\n",
       "   5.4183943926471376e-05,\n",
       "   6.142472161064012e-05,\n",
       "   7.050670846299677e-05]],\n",
       " [18, 35, 130, 590])"
      ]
     },
     "execution_count": 221,
     "metadata": {},
     "output_type": "execute_result"
    }
   ],
   "source": [
    "Ss, [round(np.average(s) * 10**7) for s in Ss]"
   ]
  },
  {
   "cell_type": "markdown",
   "id": "ca35e8f0-3693-4657-b5cb-f867b7acc2dc",
   "metadata": {},
   "source": [
    "# ERRORS"
   ]
  },
  {
   "cell_type": "code",
   "execution_count": 212,
   "id": "5d3671f8-afc6-461c-95a7-c471a7a0b849",
   "metadata": {},
   "outputs": [],
   "source": [
    "dr = 0.02 * 10**(-3)\n",
    "dl = 10**(-3)\n",
    "dT = 0.5\n",
    "\n",
    "min_t = min([min(t) for t in ts])\n",
    "dt = 0.01\n",
    "dt_sist = max(dt1, dt2, dt3, dt4)\n",
    "sigma_t = (dt **2 + dt_sist **2)**0.5\n",
    "\n",
    "eps_v = ((sigma_t / min_t)**2 + (dl / l1)**2)**0.5\n",
    "\n",
    "min_r = min([min(r) for r in rs])\n",
    "min_v = min(min(v) for v in vs)\n",
    "eps_eta = ((2 * dr / min_r)**2 + (eps_v)**2)**0.5\n"
   ]
  },
  {
   "cell_type": "code",
   "execution_count": 227,
   "id": "9a8e2e06-f5a0-44ff-8950-2f32448253bf",
   "metadata": {},
   "outputs": [
    {
     "data": {
      "text/plain": [
       "(0.6850729888121416, 0.13290159194993897, 0.13879060898644435)"
      ]
     },
     "execution_count": 227,
     "metadata": {},
     "output_type": "execute_result"
    }
   ],
   "source": [
    "sigma_t, eps_v, eps_eta"
   ]
  },
  {
   "cell_type": "code",
   "execution_count": 4,
   "id": "2f22ebd0-15c6-4281-b6b2-9cb997cc2dcf",
   "metadata": {},
   "outputs": [
    {
     "data": {
      "text/plain": [
       "0.14267612"
      ]
     },
     "execution_count": 4,
     "metadata": {},
     "output_type": "execute_result"
    }
   ],
   "source": [
    "0.13879 * 1.028"
   ]
  },
  {
   "cell_type": "code",
   "execution_count": 214,
   "id": "447eb19d-105e-4a52-b606-5cbb0508041f",
   "metadata": {},
   "outputs": [
    {
     "data": {
      "text/plain": [
       "5.17"
      ]
     },
     "execution_count": 214,
     "metadata": {},
     "output_type": "execute_result"
    }
   ],
   "source": [
    "min_t"
   ]
  },
  {
   "cell_type": "code",
   "execution_count": 215,
   "id": "7cca2f60-44f8-45e1-8271-733a4fc95d14",
   "metadata": {},
   "outputs": [
    {
     "data": {
      "text/plain": [
       "0.9097759948700529"
      ]
     },
     "execution_count": 215,
     "metadata": {},
     "output_type": "execute_result"
    }
   ],
   "source": [
    "sigma_v"
   ]
  },
  {
   "cell_type": "markdown",
   "id": "340c439b-2dcb-41c4-b91f-888fd4c86895",
   "metadata": {},
   "source": [
    "# Plot"
   ]
  },
  {
   "cell_type": "code",
   "execution_count": 216,
   "id": "c52c8db3-2632-4c3a-9ea5-63907398cd52",
   "metadata": {},
   "outputs": [],
   "source": [
    "x = [10**5 / (273 + T) for T in Ts]\n",
    "y = [np.log(np.average(eta)) for eta in etas]\n",
    "\n",
    "dx = [dT * 10**5 / (273 + T)**2 for T in Ts]\n",
    "dy = [eps_eta] * len(y)"
   ]
  },
  {
   "cell_type": "code",
   "execution_count": 217,
   "id": "ec889fdf-2aa3-4463-a738-11002cf01183",
   "metadata": {},
   "outputs": [
    {
     "data": {
      "image/png": "[encoded data removed]",
      "text/plain": [
       "<Figure size 640x480 with 1 Axes>"
      ]
     },
     "metadata": {},
     "output_type": "display_data"
    }
   ],
   "source": [
    "fig, ax = plt.subplots()\n",
    "plt.errorbar(x, y, yerr=dy, xerr=dx, fmt='.', ecolor='red')\n",
    "#ax.plot(x, y, 'ro-')\n",
    "#plt.scatter(x, y, marker='o', color='red')\n",
    "\n",
    "model1 = np.poly1d(np.polyfit(x, y, 1))\n",
    "polyline = np.linspace(308, 340)\n",
    "plt.plot(polyline, model1(polyline), color = 'green')\n",
    "\n",
    "\n",
    "#ax.set_title('График зависимости $ln(\\eta) (1/T)$')\n",
    "plt.grid()\n",
    "\n",
    "plt.xlabel('$1/T \\cdot 10^{-5}, K^{-1}$')\n",
    "plt.ylabel('$\\ln(\\eta)$')\n",
    "\n",
    "#plt.show()\n",
    "plt.savefig('plot.png')"
   ]
  },
  {
   "cell_type": "code",
   "execution_count": 185,
   "id": "9b9f189e-a13c-4b05-8854-591b3d2e344a",
   "metadata": {},
   "outputs": [
    {
     "name": "stdout",
     "output_type": "stream",
     "text": [
      " \n",
      "0.05901 x - 19.23\n"
     ]
    }
   ],
   "source": [
    "print(model1)"
   ]
  },
  {
   "cell_type": "code",
   "execution_count": 228,
   "id": "41b74eb5-2cf9-450e-913e-06b7a89e2696",
   "metadata": {},
   "outputs": [
    {
     "data": {
      "text/plain": [
       "0.5089612499999999"
      ]
     },
     "execution_count": 228,
     "metadata": {},
     "output_type": "execute_result"
    }
   ],
   "source": [
    "5901 * 1.38 * 10**(-23) / (1.6 * 10**(-19))"
   ]
  },
  {
   "cell_type": "code",
   "execution_count": 229,
   "id": "fcd9b0b1-9beb-40de-94e4-a72fdec8c664",
   "metadata": {},
   "outputs": [
    {
     "data": {
      "text/plain": [
       "339.44331296673454"
      ]
     },
     "execution_count": 229,
     "metadata": {},
     "output_type": "execute_result"
    }
   ],
   "source": [
    "x[0]"
   ]
  },
  {
   "cell_type": "code",
   "execution_count": 225,
   "id": "ceab72df-db97-4c76-930f-23c60a236ff5",
   "metadata": {},
   "outputs": [
    {
     "data": {
      "text/plain": [
       "[1.028, 0.723, 0.395, 0.177]"
      ]
     },
     "execution_count": 225,
     "metadata": {},
     "output_type": "execute_result"
    }
   ],
   "source": [
    "[round(np.average(eta), 3) for eta in etas]"
   ]
  },
  {
   "cell_type": "code",
   "execution_count": 232,
   "id": "860effba-0a00-4438-ac23-9158d8f8ab61",
   "metadata": {},
   "outputs": [
    {
     "data": {
      "text/plain": [
       "2.4977802392533142e-05"
      ]
     },
     "execution_count": 232,
     "metadata": {},
     "output_type": "execute_result"
    }
   ],
   "source": [
    "(dy[0] / min(dx)) * 1.38 * 10**(-23) / (1.6 * 10**(-19))"
   ]
  },
  {
   "cell_type": "code",
   "execution_count": 5,
   "id": "c9300048-e49f-4467-86c0-6cfb4ddc08b3",
   "metadata": {},
   "outputs": [
    {
     "data": {
      "text/plain": [
       "0.034375"
      ]
     },
     "execution_count": 5,
     "metadata": {},
     "output_type": "execute_result"
    }
   ],
   "source": [
    "(825 * (4 / (6 * 10 ** (23)))) / (1.6 * 10 ** (-19))"
   ]
  },
  {
   "cell_type": "code",
   "execution_count": 1,
   "id": "1b1e0209-1dc8-45de-b6bc-159354b16cc9",
   "metadata": {},
   "outputs": [
    {
     "ename": "NameError",
     "evalue": "name 'eps_eta' is not defined",
     "output_type": "error",
     "traceback": [
      "\u001b[0;31m---------------------------------------------------------------------------\u001b[0m",
      "\u001b[0;31mNameError\u001b[0m                                 Traceback (most recent call last)",
      "Cell \u001b[0;32mIn[1], line 1\u001b[0m\n\u001b[0;32m----> 1\u001b[0m \u001b[43meps_eta\u001b[49m\n",
      "\u001b[0;31mNameError\u001b[0m: name 'eps_eta' is not defined"
     ]
    }
   ],
   "source": [
    "eps_eta"
   ]
  },
  {
   "cell_type": "code",
   "execution_count": null,
   "id": "d1d1b875-96ed-4cae-b6c2-6b6b422a76e1",
   "metadata": {},
   "outputs": [],
   "source": []
  }
 ],
 "metadata": {
  "kernelspec": {
   "display_name": "Python 3 (ipykernel)",
   "language": "python",
   "name": "python3"
  },
  "language_info": {
   "codemirror_mode": {
    "name": "ipython",
    "version": 3
   },
   "file_extension": ".py",
   "mimetype": "text/x-python",
   "name": "python",
   "nbconvert_exporter": "python",
   "pygments_lexer": "ipython3",
   "version": "3.11.5"
  }
 },
 "nbformat": 4,
 "nbformat_minor": 5
}
