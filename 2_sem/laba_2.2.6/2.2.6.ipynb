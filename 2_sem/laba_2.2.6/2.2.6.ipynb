{
 "cells": [
  {
   "cell_type": "code",
   "execution_count": 33,
   "id": "13b04762-471f-40ba-bc42-e13773906b2d",
   "metadata": {},
   "outputs": [],
   "source": [
    "import matplotlib.pyplot as plt\n",
    "import numpy as np"
   ]
  },
  {
   "cell_type": "markdown",
   "id": "f835e290-bcad-41f2-a528-2c1fcdb8a3b2",
   "metadata": {},
   "source": [
    "# Data"
   ]
  },
  {
   "cell_type": "code",
   "execution_count": 34,
   "id": "5b0408cb-a409-451c-b31f-9da37c278ca8",
   "metadata": {},
   "outputs": [],
   "source": [
    "def calc_rho(T):\n",
    "    return 1.2625 - 0.0125 * T / 43\n",
    "\n",
    "def calc_eta(r, rho_fl, vel):\n",
    "    return 2 * g * r **2 * (rho - rho_fl) / (9 * vel)\n",
    "    \n",
    "def calc_rs(ds):\n",
    "    return [x * 0.001 / 2 for x in ds]"
   ]
  },
  {
   "cell_type": "code",
   "execution_count": 35,
   "id": "d698f5b9-0e93-49a5-a315-fc9e69364460",
   "metadata": {},
   "outputs": [],
   "source": [
    "g = 9.8\n",
    "rho = 7.8\n",
    "l1 = 11.5 - 1.7\n",
    "l2 = 16.4 - 6.6 #l1=l2 = l1\n",
    "\n",
    "dss1 = [2.1, 2, 2, 2.1]\n",
    "rs1 = calc_rs(dss1)\n",
    "ts1 = [[32.56, 32.20], [33.04, 32.83], [32.93, 32.57], [32.54, 32.58]]\n",
    "ts1 = [np.average(ts) for ts in ts1]\n",
    "vs1 = [l1 / ts for ts in ts1]\n",
    "\n",
    "dss2 = [2.02, 2.06, 2.02, 2]\n",
    "rs2 = calc_rs(dss2)\n",
    "ts2 = [[27.16, 25.79], [24.66, 23.49], [22.62, 22.04], [21.33, 21.3]]\n",
    "ts2 = [np.average(ts) for ts in ts2]\n",
    "vs2 = [l1 / ts for ts in ts2]\n",
    "\n",
    "dss3 = [2.1, 2, 2.12, 2.1]\n",
    "rs3 = calc_rs(dss3)\n",
    "ts3 = [[13.5, 12.75], [12.47, 12.78], [12.5, 12.2], [10.1, 11.25]]\n",
    "ts3 = [np.average(ts) for ts in ts3]\n",
    "vs3 = [l1 / ts for ts in ts3]\n",
    "\n",
    "dss4 = [2.12, 2, 2.02, 2]\n",
    "rs4 = calc_rs(dss4)\n",
    "ts4 = [[6, 6.34], [5.81, 6.01], [5.49, 5.60], [5, 5.34]]\n",
    "ts4 = [np.average(ts) for ts in ts4]\n",
    "vs4 = [l1 / ts for ts in ts4]\n",
    "\n",
    "rs = [rs1, rs2, rs3, rs4]\n",
    "vs = [vs1, vs2, vs3, vs4]\n",
    "\n",
    "Ts = [21.60, 30.4, 40, 50]\n",
    "rho_fluid = [calc_rho(T) for T in Ts]\n",
    "\n"
   ]
  },
  {
   "cell_type": "code",
   "execution_count": 36,
   "id": "e1f334f8-fcee-4cff-b74c-1ae915a6c9a2",
   "metadata": {},
   "outputs": [
    {
     "data": {
      "text/plain": [
       "(9.8, 9.799999999999999)"
      ]
     },
     "execution_count": 36,
     "metadata": {},
     "output_type": "execute_result"
    }
   ],
   "source": [
    "l1 = 11.5 - 1.7\n",
    "l2 = 16.4 - 6.6\n",
    "l1, l2"
   ]
  },
  {
   "cell_type": "markdown",
   "id": "1d7c6521-f150-4e6d-9b21-9936c0a012b7",
   "metadata": {},
   "source": [
    "# Experimental Data"
   ]
  },
  {
   "cell_type": "code",
   "execution_count": 38,
   "id": "1bb733ee-2067-4e22-94af-4c3e69cb0a06",
   "metadata": {},
   "outputs": [
    {
     "ename": "IndexError",
     "evalue": "list index out of range",
     "output_type": "error",
     "traceback": [
      "\u001b[0;31m---------------------------------------------------------------------------\u001b[0m",
      "\u001b[0;31mIndexError\u001b[0m                                Traceback (most recent call last)",
      "Cell \u001b[0;32mIn[38], line 1\u001b[0m\n\u001b[0;32m----> 1\u001b[0m etas \u001b[38;5;241m=\u001b[39m \u001b[43m[\u001b[49m\u001b[43m[\u001b[49m\u001b[43mcalc_eta\u001b[49m\u001b[43m(\u001b[49m\u001b[43mrs\u001b[49m\u001b[43m[\u001b[49m\u001b[43mi\u001b[49m\u001b[43m]\u001b[49m\u001b[43m[\u001b[49m\u001b[43mj\u001b[49m\u001b[43m]\u001b[49m\u001b[43m,\u001b[49m\u001b[43m \u001b[49m\u001b[43mrho_fluid\u001b[49m\u001b[43m[\u001b[49m\u001b[43mj\u001b[49m\u001b[43m]\u001b[49m\u001b[43m,\u001b[49m\u001b[43m \u001b[49m\u001b[43mvs\u001b[49m\u001b[43m[\u001b[49m\u001b[43mi\u001b[49m\u001b[43m]\u001b[49m\u001b[43m[\u001b[49m\u001b[43mj\u001b[49m\u001b[43m]\u001b[49m\u001b[43m)\u001b[49m\u001b[43m \u001b[49m\u001b[38;5;28;43;01mfor\u001b[39;49;00m\u001b[43m \u001b[49m\u001b[43mi\u001b[49m\u001b[43m \u001b[49m\u001b[38;5;129;43;01min\u001b[39;49;00m\u001b[43m \u001b[49m\u001b[38;5;28;43mrange\u001b[39;49m\u001b[43m(\u001b[49m\u001b[38;5;28;43mlen\u001b[39;49m\u001b[43m(\u001b[49m\u001b[43mrs\u001b[49m\u001b[43m \u001b[49m\u001b[38;5;241;43m*\u001b[39;49m\u001b[43m \u001b[49m\u001b[38;5;28;43mlen\u001b[39;49m\u001b[43m(\u001b[49m\u001b[43mrs\u001b[49m\u001b[43m[\u001b[49m\u001b[38;5;241;43m0\u001b[39;49m\u001b[43m]\u001b[49m\u001b[43m)\u001b[49m\u001b[43m)\u001b[49m\u001b[43m)\u001b[49m\u001b[43m]\u001b[49m\u001b[43m \u001b[49m\u001b[38;5;28;43;01mfor\u001b[39;49;00m\u001b[43m \u001b[49m\u001b[43mj\u001b[49m\u001b[43m \u001b[49m\u001b[38;5;129;43;01min\u001b[39;49;00m\u001b[43m \u001b[49m\u001b[38;5;28;43mrange\u001b[39;49m\u001b[43m(\u001b[49m\u001b[38;5;28;43mlen\u001b[39;49m\u001b[43m(\u001b[49m\u001b[43mTs\u001b[49m\u001b[43m)\u001b[49m\u001b[43m)\u001b[49m\u001b[43m]\u001b[49m\n\u001b[1;32m      2\u001b[0m Re \u001b[38;5;241m=\u001b[39m [[vs[i][j] \u001b[38;5;241m*\u001b[39m rs[i][j] \u001b[38;5;241m*\u001b[39m rho_fluid[j] \u001b[38;5;241m/\u001b[39m etas[i][j] \u001b[38;5;28;01mfor\u001b[39;00m i \u001b[38;5;129;01min\u001b[39;00m \u001b[38;5;28mrange\u001b[39m(\u001b[38;5;28mlen\u001b[39m(rs) \u001b[38;5;241m*\u001b[39m \u001b[38;5;28mlen\u001b[39m(rs[\u001b[38;5;241m0\u001b[39m]))] \u001b[38;5;28;01mfor\u001b[39;00m j \u001b[38;5;129;01min\u001b[39;00m \u001b[38;5;28mrange\u001b[39m(\u001b[38;5;28mlen\u001b[39m(Ts))]\n\u001b[1;32m      3\u001b[0m taus \u001b[38;5;241m=\u001b[39m [[\u001b[38;5;241m2\u001b[39m \u001b[38;5;241m*\u001b[39m rs[i][j]\u001b[38;5;241m*\u001b[39m\u001b[38;5;241m*\u001b[39m\u001b[38;5;241m2\u001b[39m \u001b[38;5;241m*\u001b[39m rho \u001b[38;5;241m/\u001b[39m (\u001b[38;5;241m9\u001b[39m \u001b[38;5;241m*\u001b[39m etas[i][j]) \u001b[38;5;28;01mfor\u001b[39;00m i \u001b[38;5;129;01min\u001b[39;00m \u001b[38;5;28mrange\u001b[39m(\u001b[38;5;28mlen\u001b[39m(rs) \u001b[38;5;241m*\u001b[39m \u001b[38;5;28mlen\u001b[39m(rs[\u001b[38;5;241m0\u001b[39m]))] \u001b[38;5;28;01mfor\u001b[39;00m j \u001b[38;5;129;01min\u001b[39;00m \u001b[38;5;28mrange\u001b[39m(\u001b[38;5;28mlen\u001b[39m(Ts))]\n",
      "Cell \u001b[0;32mIn[38], line 1\u001b[0m, in \u001b[0;36m<listcomp>\u001b[0;34m(.0)\u001b[0m\n\u001b[0;32m----> 1\u001b[0m etas \u001b[38;5;241m=\u001b[39m [\u001b[43m[\u001b[49m\u001b[43mcalc_eta\u001b[49m\u001b[43m(\u001b[49m\u001b[43mrs\u001b[49m\u001b[43m[\u001b[49m\u001b[43mi\u001b[49m\u001b[43m]\u001b[49m\u001b[43m[\u001b[49m\u001b[43mj\u001b[49m\u001b[43m]\u001b[49m\u001b[43m,\u001b[49m\u001b[43m \u001b[49m\u001b[43mrho_fluid\u001b[49m\u001b[43m[\u001b[49m\u001b[43mj\u001b[49m\u001b[43m]\u001b[49m\u001b[43m,\u001b[49m\u001b[43m \u001b[49m\u001b[43mvs\u001b[49m\u001b[43m[\u001b[49m\u001b[43mi\u001b[49m\u001b[43m]\u001b[49m\u001b[43m[\u001b[49m\u001b[43mj\u001b[49m\u001b[43m]\u001b[49m\u001b[43m)\u001b[49m\u001b[43m \u001b[49m\u001b[38;5;28;43;01mfor\u001b[39;49;00m\u001b[43m \u001b[49m\u001b[43mi\u001b[49m\u001b[43m \u001b[49m\u001b[38;5;129;43;01min\u001b[39;49;00m\u001b[43m \u001b[49m\u001b[38;5;28;43mrange\u001b[39;49m\u001b[43m(\u001b[49m\u001b[38;5;28;43mlen\u001b[39;49m\u001b[43m(\u001b[49m\u001b[43mrs\u001b[49m\u001b[43m \u001b[49m\u001b[38;5;241;43m*\u001b[39;49m\u001b[43m \u001b[49m\u001b[38;5;28;43mlen\u001b[39;49m\u001b[43m(\u001b[49m\u001b[43mrs\u001b[49m\u001b[43m[\u001b[49m\u001b[38;5;241;43m0\u001b[39;49m\u001b[43m]\u001b[49m\u001b[43m)\u001b[49m\u001b[43m)\u001b[49m\u001b[43m)\u001b[49m\u001b[43m]\u001b[49m \u001b[38;5;28;01mfor\u001b[39;00m j \u001b[38;5;129;01min\u001b[39;00m \u001b[38;5;28mrange\u001b[39m(\u001b[38;5;28mlen\u001b[39m(Ts))]\n\u001b[1;32m      2\u001b[0m Re \u001b[38;5;241m=\u001b[39m [[vs[i][j] \u001b[38;5;241m*\u001b[39m rs[i][j] \u001b[38;5;241m*\u001b[39m rho_fluid[j] \u001b[38;5;241m/\u001b[39m etas[i][j] \u001b[38;5;28;01mfor\u001b[39;00m i \u001b[38;5;129;01min\u001b[39;00m \u001b[38;5;28mrange\u001b[39m(\u001b[38;5;28mlen\u001b[39m(rs) \u001b[38;5;241m*\u001b[39m \u001b[38;5;28mlen\u001b[39m(rs[\u001b[38;5;241m0\u001b[39m]))] \u001b[38;5;28;01mfor\u001b[39;00m j \u001b[38;5;129;01min\u001b[39;00m \u001b[38;5;28mrange\u001b[39m(\u001b[38;5;28mlen\u001b[39m(Ts))]\n\u001b[1;32m      3\u001b[0m taus \u001b[38;5;241m=\u001b[39m [[\u001b[38;5;241m2\u001b[39m \u001b[38;5;241m*\u001b[39m rs[i][j]\u001b[38;5;241m*\u001b[39m\u001b[38;5;241m*\u001b[39m\u001b[38;5;241m2\u001b[39m \u001b[38;5;241m*\u001b[39m rho \u001b[38;5;241m/\u001b[39m (\u001b[38;5;241m9\u001b[39m \u001b[38;5;241m*\u001b[39m etas[i][j]) \u001b[38;5;28;01mfor\u001b[39;00m i \u001b[38;5;129;01min\u001b[39;00m \u001b[38;5;28mrange\u001b[39m(\u001b[38;5;28mlen\u001b[39m(rs) \u001b[38;5;241m*\u001b[39m \u001b[38;5;28mlen\u001b[39m(rs[\u001b[38;5;241m0\u001b[39m]))] \u001b[38;5;28;01mfor\u001b[39;00m j \u001b[38;5;129;01min\u001b[39;00m \u001b[38;5;28mrange\u001b[39m(\u001b[38;5;28mlen\u001b[39m(Ts))]\n",
      "Cell \u001b[0;32mIn[38], line 1\u001b[0m, in \u001b[0;36m<listcomp>\u001b[0;34m(.0)\u001b[0m\n\u001b[0;32m----> 1\u001b[0m etas \u001b[38;5;241m=\u001b[39m [[calc_eta(\u001b[43mrs\u001b[49m\u001b[43m[\u001b[49m\u001b[43mi\u001b[49m\u001b[43m]\u001b[49m[j], rho_fluid[j], vs[i][j]) \u001b[38;5;28;01mfor\u001b[39;00m i \u001b[38;5;129;01min\u001b[39;00m \u001b[38;5;28mrange\u001b[39m(\u001b[38;5;28mlen\u001b[39m(rs \u001b[38;5;241m*\u001b[39m \u001b[38;5;28mlen\u001b[39m(rs[\u001b[38;5;241m0\u001b[39m])))] \u001b[38;5;28;01mfor\u001b[39;00m j \u001b[38;5;129;01min\u001b[39;00m \u001b[38;5;28mrange\u001b[39m(\u001b[38;5;28mlen\u001b[39m(Ts))]\n\u001b[1;32m      2\u001b[0m Re \u001b[38;5;241m=\u001b[39m [[vs[i][j] \u001b[38;5;241m*\u001b[39m rs[i][j] \u001b[38;5;241m*\u001b[39m rho_fluid[j] \u001b[38;5;241m/\u001b[39m etas[i][j] \u001b[38;5;28;01mfor\u001b[39;00m i \u001b[38;5;129;01min\u001b[39;00m \u001b[38;5;28mrange\u001b[39m(\u001b[38;5;28mlen\u001b[39m(rs) \u001b[38;5;241m*\u001b[39m \u001b[38;5;28mlen\u001b[39m(rs[\u001b[38;5;241m0\u001b[39m]))] \u001b[38;5;28;01mfor\u001b[39;00m j \u001b[38;5;129;01min\u001b[39;00m \u001b[38;5;28mrange\u001b[39m(\u001b[38;5;28mlen\u001b[39m(Ts))]\n\u001b[1;32m      3\u001b[0m taus \u001b[38;5;241m=\u001b[39m [[\u001b[38;5;241m2\u001b[39m \u001b[38;5;241m*\u001b[39m rs[i][j]\u001b[38;5;241m*\u001b[39m\u001b[38;5;241m*\u001b[39m\u001b[38;5;241m2\u001b[39m \u001b[38;5;241m*\u001b[39m rho \u001b[38;5;241m/\u001b[39m (\u001b[38;5;241m9\u001b[39m \u001b[38;5;241m*\u001b[39m etas[i][j]) \u001b[38;5;28;01mfor\u001b[39;00m i \u001b[38;5;129;01min\u001b[39;00m \u001b[38;5;28mrange\u001b[39m(\u001b[38;5;28mlen\u001b[39m(rs) \u001b[38;5;241m*\u001b[39m \u001b[38;5;28mlen\u001b[39m(rs[\u001b[38;5;241m0\u001b[39m]))] \u001b[38;5;28;01mfor\u001b[39;00m j \u001b[38;5;129;01min\u001b[39;00m \u001b[38;5;28mrange\u001b[39m(\u001b[38;5;28mlen\u001b[39m(Ts))]\n",
      "\u001b[0;31mIndexError\u001b[0m: list index out of range"
     ]
    }
   ],
   "source": [
    "\n",
    "etas = [[calc_eta(rs[i][j], rho_fluid[j], vs[i][j]) for i in range(len(rs * len(rs[0])))] for j in range(len(Ts))]\n",
    "Re = [[vs[i][j] * rs[i][j] * rho_fluid[j] / etas[i][j] for i in range(len(rs) * len(rs[0]))] for j in range(len(Ts))]\n",
    "taus = [[2 * rs[i][j]**2 * rho / (9 * etas[i][j]) for i in range(len(rs) * len(rs[0]))] for j in range(len(Ts))]\n",
    "Ss = [[vs[i][j] * taus[i][j] for i in range(len(rs) * len(rs[0]))] for j in range(len(Ts))]"
   ]
  },
  {
   "cell_type": "markdown",
   "id": "340c439b-2dcb-41c4-b91f-888fd4c86895",
   "metadata": {},
   "source": [
    "# Plot"
   ]
  },
  {
   "cell_type": "code",
   "execution_count": null,
   "id": "c52c8db3-2632-4c3a-9ea5-63907398cd52",
   "metadata": {},
   "outputs": [],
   "source": [
    "x = [1 / (273 + T) for T in Ts]\n",
    "y = [np.log(np.average(etas[i]) for i in range(len(x))]"
   ]
  },
  {
   "cell_type": "code",
   "execution_count": null,
   "id": "ec889fdf-2aa3-4463-a738-11002cf01183",
   "metadata": {},
   "outputs": [],
   "source": [
    "fig, ax = plt.subplots()\n",
    "#plt.errorbar(xh, yh, yerr=dy, xerr=dx, fmt='-', ecolor='red')\n",
    "ax.plot(x, y, 'r^-')\n",
    "plt.scatter(x, y, marker='^')\n",
    "\n",
    "model1 = np.poly1d(np.polyfit(x, y))\n",
    "polyline = np.linspace(294, 315)\n",
    "plt.plot(polyline, model1(polyline), color = 'green')\n",
    "\n",
    "\n",
    "ax.set_title('График зависимости $ln(\\eta) (1/T)$')\n",
    "plt.grid()\n",
    "\n",
    "plt.xlabel('$1/T, K$')\n",
    "plt.ylabel('$\\ln(\\eta)$')\n",
    "\n",
    "plt.show()"
   ]
  }
 ],
 "metadata": {
  "kernelspec": {
   "display_name": "Python 3 (ipykernel)",
   "language": "python",
   "name": "python3"
  },
  "language_info": {
   "codemirror_mode": {
    "name": "ipython",
    "version": 3
   },
   "file_extension": ".py",
   "mimetype": "text/x-python",
   "name": "python",
   "nbconvert_exporter": "python",
   "pygments_lexer": "ipython3",
   "version": "3.11.5"
  }
 },
 "nbformat": 4,
 "nbformat_minor": 5
}
