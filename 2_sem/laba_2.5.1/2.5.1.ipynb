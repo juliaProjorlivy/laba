{
 "cells": [
  {
   "cell_type": "code",
   "execution_count": 1,
   "id": "477308ac-19fd-4dc5-85ce-eb57bf8f5c5b",
   "metadata": {},
   "outputs": [],
   "source": [
    "import matplotlib.pyplot as plt\n",
    "import numpy as np"
   ]
  },
  {
   "cell_type": "markdown",
   "id": "ddb769c6-f34a-4fdb-888e-19b5988bc55c",
   "metadata": {},
   "source": [
    "## Experimental Data"
   ]
  },
  {
   "cell_type": "markdown",
   "id": "11570087-5fac-4711-a66d-874fc8c6fafb",
   "metadata": {},
   "source": [
    "#### Neddle (3 part)"
   ]
  },
  {
   "cell_type": "code",
   "execution_count": 16,
   "id": "3fba6a0f-8c32-4e7f-ab65-807dd139a61e",
   "metadata": {},
   "outputs": [],
   "source": [
    "d = 1\n",
    "dd = 0.001\n",
    "sigma_alc = 3"
   ]
  },
  {
   "cell_type": "code",
   "execution_count": 3,
   "id": "9c10862f-cf45-4a51-8439-9937336bec98",
   "metadata": {},
   "outputs": [],
   "source": [
    "DP_alc = np.array([1, 2, 3, 4])\n",
    "DP_alc_std = np.std(DP_alc)\n",
    "DP_alc = np.average(DP_alc)"
   ]
  },
  {
   "cell_type": "code",
   "execution_count": 4,
   "id": "aeafdfec-238d-42fc-9e3c-0e4f5430e409",
   "metadata": {},
   "outputs": [
    {
     "data": {
      "text/plain": [
       "(1.118033988749895, 2.5)"
      ]
     },
     "execution_count": 4,
     "metadata": {},
     "output_type": "execute_result"
    }
   ],
   "source": [
    "DP_alc_std, DP_alc"
   ]
  },
  {
   "cell_type": "code",
   "execution_count": null,
   "id": "5640fdb9-6592-44e4-9325-3e0c299b557c",
   "metadata": {},
   "outputs": [],
   "source": [
    "Eneedle_d = 2*sigma_alc / DP_alc\n",
    "epsEneedle_d = DP_acl_std / DP_alc"
   ]
  },
  {
   "cell_type": "markdown",
   "id": "75c927e8-a7ed-4107-9036-388cbfec3616",
   "metadata": {},
   "source": [
    "#### Water (4-5 part)"
   ]
  },
  {
   "cell_type": "code",
   "execution_count": null,
   "id": "cb364114-cb87-43d5-a2c7-44f32400ab76",
   "metadata": {},
   "outputs": [],
   "source": [
    "P1 = \n",
    "h1 = \n",
    "h2 =\n",
    "P2 = \n",
    "dh1 = (P2 - P1) / (rho * g)\n",
    "dh2 = h1 - h2\n",
    "dh1, dh2"
   ]
  },
  {
   "cell_type": "markdown",
   "id": "7bd71db8-78ee-44f2-8466-da5d15a355f2",
   "metadata": {},
   "source": [
    "#### Temperature (6-7 part)"
   ]
  },
  {
   "cell_type": "code",
   "execution_count": 13,
   "id": "46c65d27-7503-4906-ba85-e2a64eec2e91",
   "metadata": {},
   "outputs": [],
   "source": [
    "Ps = np.array([[1, 2], [2, 3], [3, 4]])\n",
    "dPs = [np.std(P) for P in Ps]\n",
    "Ps = np.array([np.average(P) for P in Ps])\n",
    "Ts = np.array([[1, 2], [3, 4], [5, 6]])\n",
    "dTs = [np.std(T) for T in Ts]\n",
    "Ts = np.array([np.average(T) for T in Ts])"
   ]
  },
  {
   "cell_type": "code",
   "execution_count": 17,
   "id": "4ab379a3-ae66-4371-972f-b63fdbfc586d",
   "metadata": {},
   "outputs": [],
   "source": [
    "sigmas = np.array([round((P * d / 2), 2) for P in Ps])\n",
    "epssigmas = np.array([((dPs[i] / Ps[i])**2 + (dd / d)**2)**0.5 for i in range(len(Ps))])\n",
    "dsigmas = np.array([epssigmas[i] * sigmas[i] for i in range(len(Ps))])"
   ]
  },
  {
   "cell_type": "markdown",
   "id": "f305295a-8039-4927-bdea-e87802190bc6",
   "metadata": {},
   "source": [
    "#### Plot (8 part)"
   ]
  },
  {
   "cell_type": "code",
   "execution_count": 18,
   "id": "9a093ca5-bdaa-4a62-9d60-0e40456795c6",
   "metadata": {},
   "outputs": [
    {
     "data": {
      "text/plain": [
       "Text(0.5, 1.0, 'График зависимости $\\\\sigma (T)$')"
      ]
     },
     "execution_count": 18,
     "metadata": {},
     "output_type": "execute_result"
    },
    {
     "data": {
      "image/png": "[encoded data removed]",
      "text/plain": [
       "<Figure size 640x480 with 1 Axes>"
      ]
     },
     "metadata": {},
     "output_type": "display_data"
    }
   ],
   "source": [
    "fig, ax = plt.subplots()\n",
    "ax.plot(Ts, sigmas)\n",
    "ax.set_title('График зависимости $\\sigma (T)$')"
   ]
  },
  {
   "cell_type": "code",
   "execution_count": null,
   "id": "0e309101-f0e1-4fd8-b782-e402761b75f8",
   "metadata": {},
   "outputs": [],
   "source": []
  }
 ],
 "metadata": {
  "kernelspec": {
   "display_name": "Python 3 (ipykernel)",
   "language": "python",
   "name": "python3"
  },
  "language_info": {
   "codemirror_mode": {
    "name": "ipython",
    "version": 3
   },
   "file_extension": ".py",
   "mimetype": "text/x-python",
   "name": "python",
   "nbconvert_exporter": "python",
   "pygments_lexer": "ipython3",
   "version": "3.11.5"
  }
 },
 "nbformat": 4,
 "nbformat_minor": 5
}
