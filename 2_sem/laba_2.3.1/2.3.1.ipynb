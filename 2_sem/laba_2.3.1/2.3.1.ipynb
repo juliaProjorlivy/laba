{
 "cells": [
  {
   "cell_type": "code",
   "execution_count": 2,
   "id": "c05a2aa1-3171-4a7c-8057-4f7d926b0dc6",
   "metadata": {},
   "outputs": [],
   "source": [
    "import matplotlib.pyplot as plt\n",
    "import numpy as np"
   ]
  },
  {
   "cell_type": "code",
   "execution_count": 3,
   "id": "41f340a1-72af-421c-ac1b-7b17c0c8dd4e",
   "metadata": {},
   "outputs": [],
   "source": [
    "R = 8.31"
   ]
  },
  {
   "cell_type": "markdown",
   "id": "9add989f-648e-4e1a-a9f5-7dc33a10a76e",
   "metadata": {},
   "source": [
    "## DATA"
   ]
  },
  {
   "cell_type": "markdown",
   "id": "cc590e7f-3a11-4371-9ffc-76a5cd18c5bf",
   "metadata": {},
   "source": [
    "#### 9 part"
   ]
  },
  {
   "cell_type": "code",
   "execution_count": 13,
   "id": "19321196-2359-4c19-aa23-1e3c667a6737",
   "metadata": {},
   "outputs": [],
   "source": [
    "koefP = 133.3\n",
    "rho = 885\n",
    "g = 9.8\n",
    "P0 = 10 ** (5)\n",
    "V56 = 50 * 10 ** (-6) #Volume between K5 and K6\n",
    "\n",
    "\n",
    "h1 = 11.5\n",
    "h2 = 38.3\n",
    "deltah1 = (h2 - h1) * 0.01\n",
    "\n",
    "Pm11 = rho * deltah1 * g#pressure in forvacuum\n",
    "Vforvacuum = P0 * V56 / Pm11 #valume of forfacuum setup part\n",
    "\n",
    "\n",
    "h3 = 16.8\n",
    "h4 = 33.6\n",
    "deltah2 = (h4 - h3)* 0.01\n"
   ]
  },
  {
   "cell_type": "code",
   "execution_count": 15,
   "id": "1f7415ec-0110-4432-8fb5-c6c2f75217cf",
   "metadata": {},
   "outputs": [
    {
     "data": {
      "text/plain": [
       "0.002151126071475896"
      ]
     },
     "execution_count": 15,
     "metadata": {},
     "output_type": "execute_result"
    }
   ],
   "source": [
    "Vforvacuum"
   ]
  },
  {
   "cell_type": "markdown",
   "id": "274225d8-cce1-490d-bf3d-924632b86166",
   "metadata": {},
   "source": [
    "#### 10 part"
   ]
  },
  {
   "cell_type": "code",
   "execution_count": 18,
   "id": "a2ab9a90-37fa-4881-a433-008fbef9bf48",
   "metadata": {},
   "outputs": [
    {
     "data": {
      "text/plain": [
       "(0.0034315582568782152, 0.0012804321854023191, 1457.064)"
      ]
     },
     "execution_count": 18,
     "metadata": {},
     "output_type": "execute_result"
    }
   ],
   "source": [
    "Pm12 = rho * deltah2 * g #pressure in all setup\n",
    "Vall = P0 * V56 / Pm12\n",
    "Vhighvacuum = Vall - Vforvacuum\n",
    "Vall, Vhighvacuum, Pm12"
   ]
  },
  {
   "cell_type": "markdown",
   "id": "93ae6ec0-5a95-442d-92e4-f4efc46811f9",
   "metadata": {},
   "source": [
    "#### 17 part"
   ]
  },
  {
   "cell_type": "code",
   "execution_count": null,
   "id": "35b6defa-0645-4e55-ba7e-e360a9cdffc6",
   "metadata": {},
   "outputs": [],
   "source": [
    "Ppr = koefP * 6.3 * 10 ** (-5)"
   ]
  },
  {
   "cell_type": "markdown",
   "id": "ab59b196-e121-4615-ad21-5543e9dcfe4f",
   "metadata": {},
   "source": [
    "#### 18 part (find W)"
   ]
  },
  {
   "cell_type": "markdown",
   "id": "d769e723-497e-44fd-bef7-f2e808f6cd8f",
   "metadata": {},
   "source": [
    "#### a)"
   ]
  },
  {
   "cell_type": "code",
   "execution_count": null,
   "id": "1354d6bf-ce6c-43a4-b41f-908cd3b2f261",
   "metadata": {},
   "outputs": [],
   "source": [
    "ts = [] \n",
    "Ps = []"
   ]
  },
  {
   "cell_type": "code",
   "execution_count": null,
   "id": "48766f53-a0ef-47ba-9346-9211495d82e8",
   "metadata": {},
   "outputs": [],
   "source": [
    "x = ts\n",
    "y = [np.log(p) for p in Ps]"
   ]
  },
  {
   "cell_type": "code",
   "execution_count": null,
   "id": "da838fe5-21d8-4dd0-858c-709331b70813",
   "metadata": {},
   "outputs": [],
   "source": [
    "fig, ax = plt.subplots()\n",
    "#plt.errorbar(xh, yh, yerr=dy, xerr=dx, fmt='-', ecolor='red')\n",
    "#ax.plot(x, y, 'r-')\n",
    "plt.scatter(x, y, marker='o')\n",
    "\n",
    "model1 = np.poly1d(np.polyfit(x, y, 1))\n",
    "\n",
    "polyline = np.linspace(0, 180)\n",
    "plt.plot(polyline, model1(polyline), color = 'green', label=\"k = {: .4f}\".format(round(model1.c[0], 4)))\n",
    "\n",
    "\n",
    "#ax.set_title('График зависимости $ln(U)(t)$')\n",
    "plt.grid()\n",
    "\n",
    "plt.ylabel('$\\ln (P)$')\n",
    "plt.xlabel('$t$, с')\n",
    "\n",
    "plt.legend()\n",
    "print (model1)\n",
    "\n",
    "plt.show()\n",
    "#plt.savefig('plot1.png')"
   ]
  },
  {
   "cell_type": "code",
   "execution_count": null,
   "id": "f8159a14-ff35-4340-b8f9-7d2afa83b96d",
   "metadata": {},
   "outputs": [],
   "source": [
    "W = - model1.c[0] * Vall"
   ]
  },
  {
   "cell_type": "markdown",
   "id": "ecc00796-883f-420b-b331-61bc9dcf39a6",
   "metadata": {},
   "source": [
    "#### b)"
   ]
  },
  {
   "cell_type": "code",
   "execution_count": null,
   "id": "a488554a-926b-4185-a027-938894f337fe",
   "metadata": {},
   "outputs": [],
   "source": [
    "ts = [] \n",
    "Ps = []"
   ]
  },
  {
   "cell_type": "code",
   "execution_count": null,
   "id": "6231e035-4b8d-4728-bc36-6a03e57a9d1c",
   "metadata": {},
   "outputs": [],
   "source": [
    "x = ts\n",
    "y = [np.log(p) for p in Ps]"
   ]
  },
  {
   "cell_type": "code",
   "execution_count": null,
   "id": "d6e37fce-9d84-47a7-8091-c12305acc2fc",
   "metadata": {},
   "outputs": [],
   "source": [
    "fig, ax = plt.subplots()\n",
    "#plt.errorbar(xh, yh, yerr=dy, xerr=dx, fmt='-', ecolor='red')\n",
    "#ax.plot(x, y, 'r-')\n",
    "plt.scatter(x, y, marker='o')\n",
    "\n",
    "model1 = np.poly1d(np.polyfit(x, y, 1))\n",
    "\n",
    "polyline = np.linspace(0, 180)\n",
    "plt.plot(polyline, model1(polyline), color = 'green', label=\"k = {: .4f}\".format(round(model1.c[0], 4)))\n",
    "\n",
    "\n",
    "#ax.set_title('График зависимости $ln(U)(t)$')\n",
    "plt.grid()\n",
    "\n",
    "plt.ylabel('$\\ln (P)$')\n",
    "plt.xlabel('$t$, с')\n",
    "\n",
    "plt.legend()\n",
    "print (model1)\n",
    "\n",
    "plt.show()\n",
    "#plt.savefig('plot1.png')"
   ]
  },
  {
   "cell_type": "markdown",
   "id": "4326a185-9822-47d4-95cb-597699900677",
   "metadata": {},
   "source": [
    "#### 19 part (find Qn)"
   ]
  },
  {
   "cell_type": "code",
   "execution_count": null,
   "id": "6b58aea5-019b-483c-9fbf-039925aefdc5",
   "metadata": {},
   "outputs": [],
   "source": [
    "DP = \n",
    "Dt = \n",
    "k = Dp / Dt"
   ]
  },
  {
   "cell_type": "code",
   "execution_count": null,
   "id": "af87ef56-e684-4e3b-b5c0-f6755893afa1",
   "metadata": {},
   "outputs": [],
   "source": [
    "Qsum = Vhighvacuum * k"
   ]
  },
  {
   "cell_type": "code",
   "execution_count": null,
   "id": "842b349e-54ab-467c-b0c3-87d4f3b1e50f",
   "metadata": {},
   "outputs": [],
   "source": [
    "Qn = Ppr * W - Qsum"
   ]
  },
  {
   "cell_type": "markdown",
   "id": "136813dc-4338-4dec-bd65-b5fdb1f85b4e",
   "metadata": {},
   "source": [
    "#### 20 part"
   ]
  },
  {
   "cell_type": "code",
   "execution_count": null,
   "id": "38caef75-0dff-4f1c-9bf7-11625281a639",
   "metadata": {},
   "outputs": [],
   "source": [
    "r = 0.4 * 10**(-3)\n",
    "L = 10.8 * 10 ** (-2)\n",
    "rho = 885\n",
    "T = \n",
    "mu = 0.029"
   ]
  },
  {
   "cell_type": "code",
   "execution_count": null,
   "id": "6dbbacb4-1651-403e-ac1e-a869a889814a",
   "metadata": {},
   "outputs": [],
   "source": [
    "Ctr = (4 * r**3 / (3 * L)) * (2 * np.pi * R * T / mu)**0.5"
   ]
  },
  {
   "cell_type": "markdown",
   "id": "750b627d-e0da-4003-8f48-1c935a3f0a8c",
   "metadata": {},
   "source": [
    "#### 21 part"
   ]
  },
  {
   "cell_type": "code",
   "execution_count": null,
   "id": "7b374dde-4325-4bcf-93f6-6c5897203038",
   "metadata": {},
   "outputs": [],
   "source": [
    "Pust = 1.3 * ()\n",
    "Pforv = 3.8 * 10 ** (-3)"
   ]
  },
  {
   "cell_type": "markdown",
   "id": "9ce9f8bd-c0e2-4c0c-830a-050c1ef9fac3",
   "metadata": {},
   "source": [
    "#### 22 part"
   ]
  },
  {
   "cell_type": "code",
   "execution_count": null,
   "id": "43131d9e-b84f-4b05-9609-6d452c1ede46",
   "metadata": {},
   "outputs": [],
   "source": [
    "q = (4 * r**3 / 3) * ((Pust - Ppr) / L) * (2 * np.pi * R * T / mu)**0.5"
   ]
  },
  {
   "cell_type": "code",
   "execution_count": null,
   "id": "2115d5fd-5d89-4f89-a7ec-1bbd943ff2a8",
   "metadata": {},
   "outputs": [],
   "source": [
    "W = q / (Pust - Ppr)"
   ]
  },
  {
   "cell_type": "code",
   "execution_count": null,
   "id": "71fed584-44dd-4d24-826c-8d8ef4ebb258",
   "metadata": {},
   "outputs": [],
   "source": []
  }
 ],
 "metadata": {
  "kernelspec": {
   "display_name": "Python 3 (ipykernel)",
   "language": "python",
   "name": "python3"
  },
  "language_info": {
   "codemirror_mode": {
    "name": "ipython",
    "version": 3
   },
   "file_extension": ".py",
   "mimetype": "text/x-python",
   "name": "python",
   "nbconvert_exporter": "python",
   "pygments_lexer": "ipython3",
   "version": "3.11.5"
  }
 },
 "nbformat": 4,
 "nbformat_minor": 5
}
