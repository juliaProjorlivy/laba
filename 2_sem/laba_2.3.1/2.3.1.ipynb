{
 "cells": [
  {
   "cell_type": "code",
   "execution_count": null,
   "id": "c05a2aa1-3171-4a7c-8057-4f7d926b0dc6",
   "metadata": {},
   "outputs": [],
   "source": [
    "import matplotlib.pyplot as plt\n",
    "import numpy as np"
   ]
  },
  {
   "cell_type": "code",
   "execution_count": null,
   "id": "41f340a1-72af-421c-ac1b-7b17c0c8dd4e",
   "metadata": {},
   "outputs": [],
   "source": [
    "R = 8.31"
   ]
  },
  {
   "cell_type": "markdown",
   "id": "9add989f-648e-4e1a-a9f5-7dc33a10a76e",
   "metadata": {},
   "source": [
    "## DATA"
   ]
  },
  {
   "cell_type": "markdown",
   "id": "cc590e7f-3a11-4371-9ffc-76a5cd18c5bf",
   "metadata": {},
   "source": [
    "#### 9 part"
   ]
  },
  {
   "cell_type": "code",
   "execution_count": null,
   "id": "19321196-2359-4c19-aa23-1e3c667a6737",
   "metadata": {},
   "outputs": [],
   "source": [
    "P0 = 10 ** 5\n",
    "V56 = #Volume between K5 and K6\n",
    "Pm1 = #pressure from 9)\n",
    "Vforvacuum = P0 * V56 / Pm1 #valume of forfacuum setup part\n",
    "\n"
   ]
  },
  {
   "cell_type": "markdown",
   "id": "274225d8-cce1-490d-bf3d-924632b86166",
   "metadata": {},
   "source": [
    "#### 10 part"
   ]
  },
  {
   "cell_type": "code",
   "execution_count": null,
   "id": "a2ab9a90-37fa-4881-a433-008fbef9bf48",
   "metadata": {},
   "outputs": [],
   "source": [
    "Pm1 = #pressure in all setup\n",
    "Vall = P0 * V56 / Pm1\n",
    "Vhighvacuum = Vall - Vforvacuum"
   ]
  },
  {
   "cell_type": "markdown",
   "id": "93ae6ec0-5a95-442d-92e4-f4efc46811f9",
   "metadata": {},
   "source": [
    "#### 17 part"
   ]
  },
  {
   "cell_type": "code",
   "execution_count": null,
   "id": "35b6defa-0645-4e55-ba7e-e360a9cdffc6",
   "metadata": {},
   "outputs": [],
   "source": [
    "Ppr = "
   ]
  },
  {
   "cell_type": "markdown",
   "id": "ab59b196-e121-4615-ad21-5543e9dcfe4f",
   "metadata": {},
   "source": [
    "#### 18 part (find W)"
   ]
  },
  {
   "cell_type": "code",
   "execution_count": null,
   "id": "1354d6bf-ce6c-43a4-b41f-908cd3b2f261",
   "metadata": {},
   "outputs": [],
   "source": [
    "ts = [] \n",
    "Ps = []"
   ]
  },
  {
   "cell_type": "code",
   "execution_count": null,
   "id": "48766f53-a0ef-47ba-9346-9211495d82e8",
   "metadata": {},
   "outputs": [],
   "source": [
    "x = ts\n",
    "y = [np.log(p) for p in Ps]"
   ]
  },
  {
   "cell_type": "code",
   "execution_count": null,
   "id": "da838fe5-21d8-4dd0-858c-709331b70813",
   "metadata": {},
   "outputs": [],
   "source": [
    "fig, ax = plt.subplots()\n",
    "#plt.errorbar(xh, yh, yerr=dy, xerr=dx, fmt='-', ecolor='red')\n",
    "#ax.plot(x, y, 'r-')\n",
    "plt.scatter(x, y, marker='o')\n",
    "\n",
    "model1 = np.poly1d(np.polyfit(x, y, 1))\n",
    "\n",
    "polyline = np.linspace(0, 180)\n",
    "plt.plot(polyline, model1(polyline), color = 'green', label=\"k = {: .4f}\".format(round(model1.c[0], 4)))\n",
    "\n",
    "\n",
    "#ax.set_title('График зависимости $ln(U)(t)$')\n",
    "plt.grid()\n",
    "\n",
    "plt.ylabel('$\\ln (P)$')\n",
    "plt.xlabel('$t$, с')\n",
    "\n",
    "plt.legend()\n",
    "print (model1)\n",
    "\n",
    "plt.show()\n",
    "#plt.savefig('plot1.png')"
   ]
  },
  {
   "cell_type": "code",
   "execution_count": null,
   "id": "f8159a14-ff35-4340-b8f9-7d2afa83b96d",
   "metadata": {},
   "outputs": [],
   "source": [
    "W = - model1.c[0] * Vall"
   ]
  },
  {
   "cell_type": "markdown",
   "id": "4326a185-9822-47d4-95cb-597699900677",
   "metadata": {},
   "source": [
    "#### 19 part (find Qn)"
   ]
  },
  {
   "cell_type": "code",
   "execution_count": null,
   "id": "6b58aea5-019b-483c-9fbf-039925aefdc5",
   "metadata": {},
   "outputs": [],
   "source": [
    "DP = \n",
    "Dt = \n",
    "k = Dp / Dt"
   ]
  },
  {
   "cell_type": "code",
   "execution_count": null,
   "id": "af87ef56-e684-4e3b-b5c0-f6755893afa1",
   "metadata": {},
   "outputs": [],
   "source": [
    "Qsum = Vhighvacuum * k"
   ]
  },
  {
   "cell_type": "code",
   "execution_count": null,
   "id": "842b349e-54ab-467c-b0c3-87d4f3b1e50f",
   "metadata": {},
   "outputs": [],
   "source": [
    "Qn = Ppr * W - Qsum"
   ]
  },
  {
   "cell_type": "markdown",
   "id": "136813dc-4338-4dec-bd65-b5fdb1f85b4e",
   "metadata": {},
   "source": [
    "#### 20 part"
   ]
  },
  {
   "cell_type": "code",
   "execution_count": null,
   "id": "38caef75-0dff-4f1c-9bf7-11625281a639",
   "metadata": {},
   "outputs": [],
   "source": [
    "r = \n",
    "L = \n",
    "T = \n",
    "mu = 0.029"
   ]
  },
  {
   "cell_type": "code",
   "execution_count": null,
   "id": "6dbbacb4-1651-403e-ac1e-a869a889814a",
   "metadata": {},
   "outputs": [],
   "source": [
    "Ctr = (4 * r**3 / (3 * L)) * (2 * np.pi * R * T / mu)**0.5"
   ]
  },
  {
   "cell_type": "markdown",
   "id": "750b627d-e0da-4003-8f48-1c935a3f0a8c",
   "metadata": {},
   "source": [
    "#### 21 part"
   ]
  },
  {
   "cell_type": "code",
   "execution_count": null,
   "id": "7b374dde-4325-4bcf-93f6-6c5897203038",
   "metadata": {},
   "outputs": [],
   "source": [
    "Pust = \n",
    "Pforv = "
   ]
  },
  {
   "cell_type": "markdown",
   "id": "9ce9f8bd-c0e2-4c0c-830a-050c1ef9fac3",
   "metadata": {},
   "source": [
    "#### 22 part"
   ]
  },
  {
   "cell_type": "code",
   "execution_count": null,
   "id": "43131d9e-b84f-4b05-9609-6d452c1ede46",
   "metadata": {},
   "outputs": [],
   "source": [
    "q = (4 * r**3 / 3) * ((Pust - Ppr) / L) * (2 * np.pi * R * T / mu)**0.5"
   ]
  },
  {
   "cell_type": "code",
   "execution_count": null,
   "id": "2115d5fd-5d89-4f89-a7ec-1bbd943ff2a8",
   "metadata": {},
   "outputs": [],
   "source": [
    "W = q / (Pust - Ppr)"
   ]
  },
  {
   "cell_type": "code",
   "execution_count": null,
   "id": "71fed584-44dd-4d24-826c-8d8ef4ebb258",
   "metadata": {},
   "outputs": [],
   "source": []
  }
 ],
 "metadata": {
  "kernelspec": {
   "display_name": "Python 3 (ipykernel)",
   "language": "python",
   "name": "python3"
  },
  "language_info": {
   "codemirror_mode": {
    "name": "ipython",
    "version": 3
   },
   "file_extension": ".py",
   "mimetype": "text/x-python",
   "name": "python",
   "nbconvert_exporter": "python",
   "pygments_lexer": "ipython3",
   "version": "3.11.5"
  }
 },
 "nbformat": 4,
 "nbformat_minor": 5
}
