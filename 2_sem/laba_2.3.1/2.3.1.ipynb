{
 "cells": [
  {
   "cell_type": "code",
   "execution_count": 3,
   "id": "c05a2aa1-3171-4a7c-8057-4f7d926b0dc6",
   "metadata": {},
   "outputs": [],
   "source": [
    "import matplotlib.pyplot as plt\n",
    "import numpy as np"
   ]
  },
  {
   "cell_type": "code",
   "execution_count": 4,
   "id": "41f340a1-72af-421c-ac1b-7b17c0c8dd4e",
   "metadata": {},
   "outputs": [],
   "source": [
    "R = 8.31"
   ]
  },
  {
   "cell_type": "markdown",
   "id": "9add989f-648e-4e1a-a9f5-7dc33a10a76e",
   "metadata": {},
   "source": [
    "## DATA"
   ]
  },
  {
   "cell_type": "markdown",
   "id": "cc590e7f-3a11-4371-9ffc-76a5cd18c5bf",
   "metadata": {},
   "source": [
    "#### 9 part"
   ]
  },
  {
   "cell_type": "code",
   "execution_count": 279,
   "id": "19321196-2359-4c19-aa23-1e3c667a6737",
   "metadata": {},
   "outputs": [],
   "source": [
    "koefP = 133.3\n",
    "rho = 885\n",
    "g = 9.8\n",
    "P0 = 10 ** (5)\n",
    "V56 = 50 * 10 ** (-6) #Volume between K5 and K6\n",
    "\n",
    "\n",
    "h1 = 11.5\n",
    "h2 = 38.3\n",
    "deltah1 = (h2 - h1) * 0.01\n",
    "\n",
    "Pm11 = rho * deltah1 * g#pressure in forvacuum\n",
    "Vforvacuum = P0 * V56 / Pm11 #valume of forfacuum setup part\n",
    "\n",
    "\n",
    "h3 = 16.8\n",
    "h4 = 33.6\n",
    "deltah2 = (h4 - h3)* 0.01\n"
   ]
  },
  {
   "cell_type": "code",
   "execution_count": 280,
   "id": "1f7415ec-0110-4432-8fb5-c6c2f75217cf",
   "metadata": {},
   "outputs": [
    {
     "data": {
      "text/plain": [
       "0.002151126071475896"
      ]
     },
     "execution_count": 280,
     "metadata": {},
     "output_type": "execute_result"
    }
   ],
   "source": [
    "Vforvacuum"
   ]
  },
  {
   "cell_type": "markdown",
   "id": "274225d8-cce1-490d-bf3d-924632b86166",
   "metadata": {},
   "source": [
    "#### 10 part"
   ]
  },
  {
   "cell_type": "code",
   "execution_count": 281,
   "id": "a2ab9a90-37fa-4881-a433-008fbef9bf48",
   "metadata": {},
   "outputs": [
    {
     "data": {
      "text/plain": [
       "(0.0034315582568782152, 0.0012804321854023191, 1457.064)"
      ]
     },
     "execution_count": 281,
     "metadata": {},
     "output_type": "execute_result"
    }
   ],
   "source": [
    "Pm12 = rho * deltah2 * g #pressure in all setup\n",
    "Vall = P0 * V56 / Pm12\n",
    "Vhighvacuum = Vall - Vforvacuum\n",
    "Vall, Vhighvacuum, Pm12"
   ]
  },
  {
   "cell_type": "markdown",
   "id": "93ae6ec0-5a95-442d-92e4-f4efc46811f9",
   "metadata": {},
   "source": [
    "#### 17 part"
   ]
  },
  {
   "cell_type": "code",
   "execution_count": 316,
   "id": "35b6defa-0645-4e55-ba7e-e360a9cdffc6",
   "metadata": {},
   "outputs": [],
   "source": [
    "Ppr = koefP * 6.1 * 10 ** (-5)"
   ]
  },
  {
   "cell_type": "markdown",
   "id": "ab59b196-e121-4615-ad21-5543e9dcfe4f",
   "metadata": {},
   "source": [
    "#### 18 part (find W)"
   ]
  },
  {
   "cell_type": "markdown",
   "id": "d769e723-497e-44fd-bef7-f2e808f6cd8f",
   "metadata": {},
   "source": [
    "#### a) Worsening"
   ]
  },
  {
   "cell_type": "code",
   "execution_count": 317,
   "id": "1354d6bf-ce6c-43a4-b41f-908cd3b2f261",
   "metadata": {},
   "outputs": [],
   "source": [
    "ts = [28, 31, 32, 34, 38, 43, 49, 54.33, 60, 65, 70, 76, 81, 86, 92, 97] \n",
    "tsW1 = np.array([t + 10 for t in ts])\n",
    "PsW1 = np.array([6.8, 8, 8.9, 11, 15, 20, 25, 30, 35, 40, 45, 50, 55, 60, 65, 70])\n",
    "\n",
    "tsW2 = np.array([10, 12, 13, 15, 16, 17, 22, 28, 34, 40, 48, 52, 57, 62, 68, 73, 79, 83])\n",
    "PsW2 = np.array([6.1, 6.5, 7, 8.5, 9.4, 10, 15, 20, 25, 30, 37, 41, 45, 50, 55, 60, 65, 69])"
   ]
  },
  {
   "cell_type": "code",
   "execution_count": 318,
   "id": "48766f53-a0ef-47ba-9346-9211495d82e8",
   "metadata": {},
   "outputs": [],
   "source": [
    "x = tsW1\n",
    "y = [np.log(p) for p in PsW1]\n",
    "\n",
    "dx = [0.01] * len(x)\n",
    "dy = [0.1 / p for p in PsW1]"
   ]
  },
  {
   "cell_type": "code",
   "execution_count": 319,
   "id": "da838fe5-21d8-4dd0-858c-709331b70813",
   "metadata": {},
   "outputs": [
    {
     "name": "stdout",
     "output_type": "stream",
     "text": [
      " \n",
      "0.02095 x + 2.071\n"
     ]
    },
    {
     "data": {
      "image/png": "[encoded data removed]",
      "text/plain": [
       "<Figure size 640x480 with 1 Axes>"
      ]
     },
     "metadata": {},
     "output_type": "display_data"
    }
   ],
   "source": [
    "fig, ax = plt.subplots()\n",
    "#plt.errorbar(x, y, yerr=dy, xerr=dx, fmt='-', ecolor='red')\n",
    "#ax.plot(x, y, 'r-')\n",
    "plt.scatter(x, y, marker='o')\n",
    "\n",
    "model1 = np.poly1d(np.polyfit(x[6::], y[6::], 1))\n",
    "\n",
    "polyline = np.linspace(40, 110)\n",
    "plt.plot(polyline, model1(polyline), color = 'green', label=\"k = {: .4f}\".format(round(model1.c[0], 4)))\n",
    "\n",
    "\n",
    "#ax.set_title('График зависимости $ln(U)(t)$')\n",
    "plt.grid()\n",
    "\n",
    "plt.ylabel('$\\ln (P)$')\n",
    "plt.xlabel('$t$, с')\n",
    "\n",
    "plt.legend()\n",
    "print (model1)\n",
    "\n",
    "plt.show()\n",
    "#plt.savefig('plot1.png')"
   ]
  },
  {
   "cell_type": "code",
   "execution_count": 320,
   "id": "f8159a14-ff35-4340-b8f9-7d2afa83b96d",
   "metadata": {},
   "outputs": [
    {
     "data": {
      "text/plain": [
       "71.88755466809415"
      ]
     },
     "execution_count": 320,
     "metadata": {},
     "output_type": "execute_result"
    }
   ],
   "source": [
    "W = model1.c[0] * Vall\n",
    "W * 10 ** 6"
   ]
  },
  {
   "cell_type": "code",
   "execution_count": 321,
   "id": "093045d5-f4d4-4bf0-bf32-2099861eb3bf",
   "metadata": {},
   "outputs": [],
   "source": [
    "x = tsW2\n",
    "y = [np.log(p) for p in PsW2]"
   ]
  },
  {
   "cell_type": "code",
   "execution_count": 322,
   "id": "f564570a-b8ea-48f8-a90e-cbb2cdf4d9c8",
   "metadata": {},
   "outputs": [
    {
     "name": "stdout",
     "output_type": "stream",
     "text": [
      " \n",
      "0.02022 x + 2.612\n"
     ]
    },
    {
     "data": {
      "image/png": "[encoded data removed]",
      "text/plain": [
       "<Figure size 640x480 with 1 Axes>"
      ]
     },
     "metadata": {},
     "output_type": "display_data"
    }
   ],
   "source": [
    "fig, ax = plt.subplots()\n",
    "#plt.errorbar(xh, yh, yerr=dy, xerr=dx, fmt='-', ecolor='red')\n",
    "#ax.plot(x, y, 'r-')\n",
    "plt.scatter(x, y, marker='o')\n",
    "\n",
    "model1 = np.poly1d(np.polyfit(x[8::], y[8::], 1))\n",
    "\n",
    "polyline = np.linspace(10, 85)\n",
    "plt.plot(polyline, model1(polyline), color = 'green', label=\"k = {: .4f}\".format(round(model1.c[0], 4)))\n",
    "\n",
    "\n",
    "#ax.set_title('График зависимости $ln(U)(t)$')\n",
    "plt.grid()\n",
    "\n",
    "plt.ylabel('$\\ln (P)$')\n",
    "plt.xlabel('$t$, с')\n",
    "\n",
    "plt.legend()\n",
    "print (model1)\n",
    "\n",
    "plt.show()\n",
    "#plt.savefig('plot1.png')"
   ]
  },
  {
   "cell_type": "code",
   "execution_count": 323,
   "id": "62ebd921-b848-4752-a3af-7dc479ad67bd",
   "metadata": {},
   "outputs": [
    {
     "data": {
      "text/plain": [
       "69.38897503359408"
      ]
     },
     "execution_count": 323,
     "metadata": {},
     "output_type": "execute_result"
    }
   ],
   "source": [
    "W = model1.c[0] * Vall\n",
    "W * 10 ** 6"
   ]
  },
  {
   "cell_type": "markdown",
   "id": "ecc00796-883f-420b-b331-61bc9dcf39a6",
   "metadata": {},
   "source": [
    "#### b) (Bettering)"
   ]
  },
  {
   "cell_type": "code",
   "execution_count": 324,
   "id": "a488554a-926b-4185-a027-938894f337fe",
   "metadata": {},
   "outputs": [],
   "source": [
    "ts = [54, 55, 56, 57, 58, 60, 62, 67, 70, 72, 73, 75, 79, 84, 90.33, 96, 107] \n",
    "tsB1 = np.array([t + 60 for t in ts])\n",
    "PsB1 = np.array([70, 60, 56, 48, 36, 27, 19, 11, 9.0, 8.4, 7.9, 7.5, 7, 6.7, 6.5, 6.4, 6.3])\n",
    "\n",
    "ts2 = [30, 31, 32, 33, 34, 35, 36, 37, 38, 40, 42, 44, 45, 46, 47, 48, 47, \n",
    "       51, 54, 55, 58, 63, 68, 74, 82]\n",
    "tsB2 = np.array([t + 60 for t in ts2])\n",
    "PsB2 = np.array([70, 64, 56, 46, 40, 33, 28, 23, 20, 15, 12, 10, 9.4, 8.9, 8.4, 8, 7.7, \n",
    "       7.3, 6.8, 6.7, 6.5, 6.3, 6.2, 6.1, 6])"
   ]
  },
  {
   "cell_type": "code",
   "execution_count": 325,
   "id": "6231e035-4b8d-4728-bc36-6a03e57a9d1c",
   "metadata": {},
   "outputs": [],
   "source": [
    "x = tsB1\n",
    "y = [np.log(p) for p in PsB1]"
   ]
  },
  {
   "cell_type": "code",
   "execution_count": 326,
   "id": "d6e37fce-9d84-47a7-8091-c12305acc2fc",
   "metadata": {},
   "outputs": [
    {
     "name": "stdout",
     "output_type": "stream",
     "text": [
      " \n",
      "-0.006244 x + 2.842\n"
     ]
    },
    {
     "data": {
      "image/png": "[encoded data removed]",
      "text/plain": [
       "<Figure size 640x480 with 1 Axes>"
      ]
     },
     "metadata": {},
     "output_type": "display_data"
    }
   ],
   "source": [
    "fig, ax = plt.subplots()\n",
    "#plt.errorbar(xh, yh, yerr=dy, xerr=dx, fmt='-', ecolor='red')\n",
    "#ax.plot(x, y, 'r-')\n",
    "plt.scatter(x, y, marker='o')\n",
    "\n",
    "model1 = np.poly1d(np.polyfit(x[10::], y[10::], 1))\n",
    "\n",
    "polyline = np.linspace(110, 170)\n",
    "plt.plot(polyline, model1(polyline), color = 'green', label=\"k = {: .4f}\".format(round(model1.c[0], 4)))\n",
    "\n",
    "\n",
    "#ax.set_title('График зависимости $ln(U)(t)$')\n",
    "plt.grid()\n",
    "\n",
    "plt.ylabel('$\\ln (P)$')\n",
    "plt.xlabel('$t$, с')\n",
    "\n",
    "plt.legend()\n",
    "print (model1)\n",
    "\n",
    "#plt.show()\n",
    "plt.savefig('plotBetter1.png')"
   ]
  },
  {
   "cell_type": "code",
   "execution_count": 327,
   "id": "e79334b5-5aa1-4b72-9c7e-0020a2379757",
   "metadata": {},
   "outputs": [
    {
     "data": {
      "text/plain": [
       "21.428315892123447"
      ]
     },
     "execution_count": 327,
     "metadata": {},
     "output_type": "execute_result"
    }
   ],
   "source": [
    "W = - model1.c[0] * Vall\n",
    "W * 10 ** 6"
   ]
  },
  {
   "cell_type": "code",
   "execution_count": 328,
   "id": "14c20e34-1c4c-4fe9-98cb-93465b58a0d2",
   "metadata": {},
   "outputs": [],
   "source": [
    "x = tsB2\n",
    "y = [np.log(p) for p in PsB2]"
   ]
  },
  {
   "cell_type": "code",
   "execution_count": 329,
   "id": "9e482196-9b09-4619-986e-4149e6466930",
   "metadata": {},
   "outputs": [
    {
     "name": "stdout",
     "output_type": "stream",
     "text": [
      " \n",
      "-0.006632 x + 2.692\n"
     ]
    },
    {
     "data": {
      "image/png": "[encoded data removed]",
      "text/plain": [
       "<Figure size 640x480 with 1 Axes>"
      ]
     },
     "metadata": {},
     "output_type": "display_data"
    }
   ],
   "source": [
    "fig, ax = plt.subplots()\n",
    "#plt.errorbar(xh, yh, yerr=dy, xerr=dx, fmt='-', ecolor='red')\n",
    "#ax.plot(x, y, 'r-')\n",
    "plt.scatter(x, y, marker='o')\n",
    "\n",
    "model1 = np.poly1d(np.polyfit(x[16::], y[16::], 1))\n",
    "\n",
    "polyline = np.linspace(110, 145)\n",
    "plt.plot(polyline, model1(polyline), color = 'green', label=\"k = {: .4f}\".format(round(model1.c[0], 4)))\n",
    "\n",
    "\n",
    "#ax.set_title('График зависимости $ln(U)(t)$')\n",
    "plt.grid()\n",
    "\n",
    "plt.ylabel('$\\ln (P)$')\n",
    "plt.xlabel('$t$, с')\n",
    "\n",
    "plt.legend()\n",
    "print (model1)\n",
    "\n",
    "#plt.show()\n",
    "plt.savefig('plotBetter2.png')"
   ]
  },
  {
   "cell_type": "code",
   "execution_count": 330,
   "id": "9dbf9d86-12b2-4e64-ba0f-a7ab289ea686",
   "metadata": {},
   "outputs": [
    {
     "data": {
      "text/plain": [
       "22.756522940089607"
      ]
     },
     "execution_count": 330,
     "metadata": {},
     "output_type": "execute_result"
    }
   ],
   "source": [
    "W = - model1.c[0] * Vall\n",
    "W * 10 ** 6"
   ]
  },
  {
   "cell_type": "markdown",
   "id": "a092dbb0-92a7-4934-bac2-64135bc4a4aa",
   "metadata": {},
   "source": [
    "#### PLOTS TOGETHER"
   ]
  },
  {
   "cell_type": "code",
   "execution_count": 331,
   "id": "b557d8e9-ddf1-426d-83a0-f6dc53f7d030",
   "metadata": {},
   "outputs": [],
   "source": [
    "time1 = []\n",
    "time1 = np.concatenate((tsW1, tsB1))\n",
    "press1 = []\n",
    "press1 = np.concatenate((PsW1, PsB1))\n",
    "\n",
    "time2 = []\n",
    "time2 = np.concatenate((tsW2, tsB2))\n",
    "press2 = []\n",
    "press2 = np.concatenate((PsW2, PsB2))"
   ]
  },
  {
   "cell_type": "code",
   "execution_count": 332,
   "id": "7d3d80f5-03a1-4333-a82d-a2e49fa4f8e2",
   "metadata": {},
   "outputs": [],
   "source": [
    "X1 = time1\n",
    "Y1 = press1\n",
    "\n",
    "X2 = time2\n",
    "Y2 = press2"
   ]
  },
  {
   "cell_type": "code",
   "execution_count": 333,
   "id": "c0a3a55a-073f-4ba1-8aec-bfc36c46792f",
   "metadata": {},
   "outputs": [
    {
     "data": {
      "image/png": "[encoded data removed]",
      "text/plain": [
       "<Figure size 640x480 with 1 Axes>"
      ]
     },
     "metadata": {},
     "output_type": "display_data"
    }
   ],
   "source": [
    "fig, ax = plt.subplots()\n",
    "#plt.errorbar(xh, yh, yerr=dy, xerr=dx, fmt='-', ecolor='red')\n",
    "#ax.plot(X1, Y1, 'g-', X2, Y2, 'r--')\n",
    "plt.scatter(X1, Y1, marker='o', color='lightgreen')\n",
    "\n",
    "plt.scatter(X2, Y2, marker='o', color='r')\n",
    "#ax.set_title('График зависимости $ln(U)(t)$')\n",
    "plt.grid()\n",
    "\n",
    "model1 = np.poly1d(np.polyfit(X1[4:15:], Y1[4:15:], 1))\n",
    "polyline = np.linspace(40, 100)\n",
    "plt.plot(polyline, model1(polyline), color = 'green', label=\"k = {: .4f}\".format(round(model1.c[0], 4)))\n",
    "\n",
    "\n",
    "model2 = np.poly1d(np.polyfit(X2[6:15:], Y2[6:15:], 1))\n",
    "polyline = np.linspace(20, 80)\n",
    "plt.plot(polyline, model2(polyline), color = 'red', label=\"k = {: .4f}\".format(round(model2.c[0], 4)))\n",
    "\n",
    "\n",
    "plt.ylabel('$P, мм.рт.ст \\cdot 10^{-5}$')\n",
    "plt.xlabel('$t$, с')\n",
    "\n",
    "plt.legend()\n",
    "\n",
    "#plt.show()\n",
    "plt.savefig('ALLPLOT.png')"
   ]
  },
  {
   "cell_type": "markdown",
   "id": "4326a185-9822-47d4-95cb-597699900677",
   "metadata": {},
   "source": [
    "#### 19 part (find Qn)"
   ]
  },
  {
   "cell_type": "code",
   "execution_count": 340,
   "id": "6b58aea5-019b-483c-9fbf-039925aefdc5",
   "metadata": {},
   "outputs": [
    {
     "data": {
      "text/plain": [
       "0.0011653651515151516"
      ]
     },
     "execution_count": 340,
     "metadata": {},
     "output_type": "execute_result"
    }
   ],
   "source": [
    "k = np.average([model1.c[0], model2.c[0]]) * koefP * 10 ** (-5)\n",
    "k"
   ]
  },
  {
   "cell_type": "code",
   "execution_count": 341,
   "id": "af87ef56-e684-4e3b-b5c0-f6755893afa1",
   "metadata": {},
   "outputs": [],
   "source": [
    "Qsum = Vhighvacuum * k"
   ]
  },
  {
   "cell_type": "code",
   "execution_count": 342,
   "id": "842b349e-54ab-467c-b0c3-87d4f3b1e50f",
   "metadata": {},
   "outputs": [
    {
     "data": {
      "text/plain": [
       "(0.18504011498275066, 1.4921710477462502)"
      ]
     },
     "execution_count": 342,
     "metadata": {},
     "output_type": "execute_result"
    }
   ],
   "source": [
    "Qn = Ppr * W - Qsum\n",
    "Ppr * W * 10 ** 6, Qsum * 10 ** 6"
   ]
  },
  {
   "cell_type": "markdown",
   "id": "136813dc-4338-4dec-bd65-b5fdb1f85b4e",
   "metadata": {},
   "source": [
    "#### 20 part"
   ]
  },
  {
   "cell_type": "code",
   "execution_count": 265,
   "id": "38caef75-0dff-4f1c-9bf7-11625281a639",
   "metadata": {},
   "outputs": [],
   "source": [
    "r = 0.4 * 10**(-3)\n",
    "L = 10.8 * 10 ** (-2)\n",
    "rho = 885\n",
    "T = 303\n",
    "mu = 0.029"
   ]
  },
  {
   "cell_type": "code",
   "execution_count": 266,
   "id": "6dbbacb4-1651-403e-ac1e-a869a889814a",
   "metadata": {},
   "outputs": [],
   "source": [
    "Ctr = (4 * r**3 / (3 * L)) * (2 * np.pi * R * T / mu)**0.5"
   ]
  },
  {
   "cell_type": "markdown",
   "id": "750b627d-e0da-4003-8f48-1c935a3f0a8c",
   "metadata": {},
   "source": [
    "#### 21 part"
   ]
  },
  {
   "cell_type": "code",
   "execution_count": 267,
   "id": "7b374dde-4325-4bcf-93f6-6c5897203038",
   "metadata": {},
   "outputs": [],
   "source": [
    "Pust = 1.3 * 10 ** (-4)\n",
    "Pforv = 3.8 * 10 ** (-3)"
   ]
  },
  {
   "cell_type": "markdown",
   "id": "9ce9f8bd-c0e2-4c0c-830a-050c1ef9fac3",
   "metadata": {},
   "source": [
    "#### 22 part"
   ]
  },
  {
   "cell_type": "code",
   "execution_count": 268,
   "id": "43131d9e-b84f-4b05-9609-6d452c1ede46",
   "metadata": {},
   "outputs": [
    {
     "data": {
      "text/plain": [
       "-4.825062371865623e-09"
      ]
     },
     "execution_count": 268,
     "metadata": {},
     "output_type": "execute_result"
    }
   ],
   "source": [
    "q = (4 * r**3 / 3) * ((Pust - Ppr) / L) * (2 * np.pi * R * T / mu)**0.5\n",
    "q"
   ]
  },
  {
   "cell_type": "code",
   "execution_count": 270,
   "id": "2115d5fd-5d89-4f89-a7ec-1bbd943ff2a8",
   "metadata": {},
   "outputs": [
    {
     "data": {
      "text/plain": [
       "0.5835898319846179"
      ]
     },
     "execution_count": 270,
     "metadata": {},
     "output_type": "execute_result"
    }
   ],
   "source": [
    "W = q / (Pust - Ppr)\n",
    "W * 10 ** (6)"
   ]
  },
  {
   "cell_type": "code",
   "execution_count": null,
   "id": "71fed584-44dd-4d24-826c-8d8ef4ebb258",
   "metadata": {},
   "outputs": [],
   "source": []
  }
 ],
 "metadata": {
  "kernelspec": {
   "display_name": "Python 3 (ipykernel)",
   "language": "python",
   "name": "python3"
  },
  "language_info": {
   "codemirror_mode": {
    "name": "ipython",
    "version": 3
   },
   "file_extension": ".py",
   "mimetype": "text/x-python",
   "name": "python",
   "nbconvert_exporter": "python",
   "pygments_lexer": "ipython3",
   "version": "3.11.5"
  }
 },
 "nbformat": 4,
 "nbformat_minor": 5
}
