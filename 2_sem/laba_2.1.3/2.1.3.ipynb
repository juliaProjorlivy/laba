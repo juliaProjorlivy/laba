{
 "cells": [
  {
   "cell_type": "code",
   "execution_count": null,
   "id": "bbb62dcd-c02c-4944-8f0e-833acce48311",
   "metadata": {},
   "outputs": [],
   "source": [
    "import matplotlib.pyplot as plt\n",
    "import numpy as np"
   ]
  },
  {
   "cell_type": "markdown",
   "id": "28419b31-d42f-493d-97c1-b4b1571f4f55",
   "metadata": {},
   "source": [
    "## General Data"
   ]
  },
  {
   "cell_type": "code",
   "execution_count": null,
   "id": "6fcea692-a174-4090-864e-c9ab41449c7d",
   "metadata": {},
   "outputs": [],
   "source": [
    "R = 8.31\n",
    "mu = 0.001 * (16 * 2 + 14)"
   ]
  },
  {
   "cell_type": "code",
   "execution_count": 5,
   "id": "26cbbf4e-d71c-4953-8d68-8a8fae26d438",
   "metadata": {},
   "outputs": [
    {
     "data": {
      "text/plain": [
       "(7500.0, 8250.0)"
      ]
     },
     "execution_count": 5,
     "metadata": {},
     "output_type": "execute_result"
    }
   ],
   "source": [
    "Dl = 0.1\n",
    "k = 5\n",
    "def f(c):\n",
    "    return k * c / (2 * Dl)\n",
    "f(300), f(330)    "
   ]
  },
  {
   "cell_type": "markdown",
   "id": "7e6f264c-46b4-47f6-8278-c4f818bab49a",
   "metadata": {},
   "source": [
    "## Experimental Data"
   ]
  },
  {
   "cell_type": "code",
   "execution_count": null,
   "id": "55b47be3-4b47-46ed-b382-cb73e89a5b4c",
   "metadata": {},
   "outputs": [],
   "source": [
    "Ls1 = []\n",
    "Ls2 = []\n",
    "Ls3 = []\n",
    "Ls4 = []\n",
    "\n",
    "fs = []"
   ]
  },
  {
   "cell_type": "markdown",
   "id": "26bad4d8-213b-485b-96d3-3dcdae2c8fc1",
   "metadata": {},
   "source": [
    "## Plot1"
   ]
  },
  {
   "cell_type": "code",
   "execution_count": null,
   "id": "b4b778af-19d1-4b1c-bffb-6b6020e1d030",
   "metadata": {},
   "outputs": [],
   "source": [
    "y = Ls1\n",
    "x = no.arange(1, len(y) + 1)\n"
   ]
  },
  {
   "cell_type": "code",
   "execution_count": null,
   "id": "44686d0d-fb72-419e-bbf9-2e2b705bfcc4",
   "metadata": {},
   "outputs": [],
   "source": [
    "fig, ax = plt.subplots()\n",
    "#plt.errorbar(x, y, yerr=dy, xerr=dx, fmt='-', ecolor='red')\n",
    "#ax.plot(x, y, 'r-')\n",
    "plt.scatter(x, y, marker='o')\n",
    "\n",
    "model1 = np.poly1d(np.polyfit(x, y, 1))\n",
    "\n",
    "polyline = np.linspace(0, len(x))\n",
    "plt.plot(polyline, model1(polyline), color = 'green', label=\"k = {: .4f}\".format(round(model1.c[0], 4)))\n",
    "\n",
    "\n",
    "#ax.set_title('График зависимости $ln(U)(t)$')\n",
    "plt.grid()\n",
    "\n",
    "plt.ylabel('$L$')\n",
    "plt.xlabel('$n$')\n",
    "\n",
    "plt.legend()\n",
    "print (model1)\n",
    "\n",
    "plt.show()\n",
    "#plt.savefig('plot1.png')"
   ]
  },
  {
   "cell_type": "code",
   "execution_count": null,
   "id": "16d90703-79a9-41d2-80b1-3aeda9c4e798",
   "metadata": {},
   "outputs": [],
   "source": [
    "lam1 = 2 * model1.c[0\n",
    "lam1, fs[0] * lam1"
   ]
  },
  {
   "cell_type": "markdown",
   "id": "800c5e82-20c2-425b-ac43-65856c964939",
   "metadata": {},
   "source": [
    "## Plot2"
   ]
  },
  {
   "cell_type": "code",
   "execution_count": null,
   "id": "c573eef1-a2f5-46bf-b10d-c0605a159f39",
   "metadata": {},
   "outputs": [],
   "source": [
    "y = Ls2\n",
    "x = no.arange(1, len(y) + 1)\n"
   ]
  },
  {
   "cell_type": "code",
   "execution_count": null,
   "id": "d046b668-a62e-4344-85f3-f5c25d5a9c1c",
   "metadata": {},
   "outputs": [],
   "source": [
    "fig, ax = plt.subplots()\n",
    "#plt.errorbar(x, y, yerr=dy, xerr=dx, fmt='-', ecolor='red')\n",
    "#ax.plot(x, y, 'r-')\n",
    "plt.scatter(x, y, marker='o')\n",
    "\n",
    "model1 = np.poly1d(np.polyfit(x, y, 1))\n",
    "\n",
    "polyline = np.linspace(0, len(x))\n",
    "plt.plot(polyline, model1(polyline), color = 'green', label=\"k = {: .4f}\".format(round(model1.c[0], 4)))\n",
    "\n",
    "\n",
    "#ax.set_title('График зависимости $ln(U)(t)$')\n",
    "plt.grid()\n",
    "\n",
    "plt.ylabel('$L$')\n",
    "plt.xlabel('$n$')\n",
    "\n",
    "plt.legend()\n",
    "print (model1)\n",
    "\n",
    "plt.show()\n",
    "#plt.savefig('plot1.png')"
   ]
  },
  {
   "cell_type": "code",
   "execution_count": null,
   "id": "b879567a-5c6c-4933-9a6d-0d8dc77882ef",
   "metadata": {},
   "outputs": [],
   "source": [
    "lam2 = 2 * model1.c[0\n",
    "lam2, fs[1] * lam2"
   ]
  },
  {
   "cell_type": "markdown",
   "id": "d551ba53-d083-460e-93ef-87ad6e7fffec",
   "metadata": {},
   "source": [
    "## Plot3"
   ]
  },
  {
   "cell_type": "code",
   "execution_count": null,
   "id": "3c3d4a00-36cd-4343-a47a-b3d48f8a2e75",
   "metadata": {},
   "outputs": [],
   "source": [
    "y = Ls3\n",
    "x = no.arange(1, len(y) + 1)"
   ]
  },
  {
   "cell_type": "code",
   "execution_count": null,
   "id": "bc904fd1-17c2-436d-b300-4ad3fa9d1e7e",
   "metadata": {},
   "outputs": [],
   "source": [
    "fig, ax = plt.subplots()\n",
    "#plt.errorbar(x, y, yerr=dy, xerr=dx, fmt='-', ecolor='red')\n",
    "#ax.plot(x, y, 'r-')\n",
    "plt.scatter(x, y, marker='o')\n",
    "\n",
    "model1 = np.poly1d(np.polyfit(x, y, 1))\n",
    "\n",
    "polyline = np.linspace(0, len(x))\n",
    "plt.plot(polyline, model1(polyline), color = 'green', label=\"k = {: .4f}\".format(round(model1.c[0], 4)))\n",
    "\n",
    "\n",
    "#ax.set_title('График зависимости $ln(U)(t)$')\n",
    "plt.grid()\n",
    "\n",
    "plt.ylabel('$L$')\n",
    "plt.xlabel('$n$')\n",
    "\n",
    "plt.legend()\n",
    "print (model1)\n",
    "\n",
    "plt.show()\n",
    "#plt.savefig('plot1.png')"
   ]
  },
  {
   "cell_type": "code",
   "execution_count": null,
   "id": "0428beb2-0651-46c4-ad15-07d3cdea6cbd",
   "metadata": {},
   "outputs": [],
   "source": [
    "lam3 = 2 * model1.c[0\n",
    "lam3, fs[2] * lam3"
   ]
  },
  {
   "cell_type": "markdown",
   "id": "2fa30339-0fe5-4187-b018-f2feefa30720",
   "metadata": {},
   "source": [
    "## Plot4"
   ]
  },
  {
   "cell_type": "code",
   "execution_count": null,
   "id": "a0f05d84-eabc-49f6-a4e2-07cb95a424e5",
   "metadata": {},
   "outputs": [],
   "source": [
    "y = Ls4\n",
    "x = no.arange(1, len(y) + 1)"
   ]
  },
  {
   "cell_type": "code",
   "execution_count": null,
   "id": "079150c9-429d-4aba-b7d6-878496fb199b",
   "metadata": {},
   "outputs": [],
   "source": [
    "fig, ax = plt.subplots()\n",
    "#plt.errorbar(x, y, yerr=dy, xerr=dx, fmt='-', ecolor='red')\n",
    "#ax.plot(x, y, 'r-')\n",
    "plt.scatter(x, y, marker='o')\n",
    "\n",
    "model1 = np.poly1d(np.polyfit(x, y, 1))\n",
    "\n",
    "polyline = np.linspace(40, 110)\n",
    "plt.plot(polyline, model1(polyline), color = 'green', label=\"k = {: .4f}\".format(round(model1.c[0], 4)))\n",
    "\n",
    "\n",
    "#ax.set_title('График зависимости $ln(U)(t)$')\n",
    "plt.grid()\n",
    "\n",
    "plt.ylabel('$L$')\n",
    "plt.xlabel('$n$')\n",
    "\n",
    "plt.legend()\n",
    "print (model1)\n",
    "\n",
    "plt.show()\n",
    "#plt.savefig('plot1.png')"
   ]
  },
  {
   "cell_type": "code",
   "execution_count": null,
   "id": "c9b82636-06f3-4cbc-ac88-d1520522c300",
   "metadata": {},
   "outputs": [],
   "source": [
    "lam4 = 2 * model1.c[0\n",
    "lam4, fs[3] * lam4"
   ]
  },
  {
   "cell_type": "markdown",
   "id": "c011f038-7e56-4259-ae76-0cd7dc9b37a7",
   "metadata": {},
   "source": [
    "## Eperimental Data CO2"
   ]
  },
  {
   "cell_type": "code",
   "execution_count": null,
   "id": "7f13d697-fa96-4011-af5d-4057c632aae0",
   "metadata": {},
   "outputs": [],
   "source": [
    "Lsc1 = []\n",
    "Lsc2 = []\n",
    "Lsc3 = []\n",
    "Lsc4 = []\n",
    "\n",
    "fs = []"
   ]
  },
  {
   "cell_type": "code",
   "execution_count": null,
   "id": "a43839de-31d7-4bd4-b8b2-94df0b8f0c2b",
   "metadata": {},
   "outputs": [],
   "source": [
    "y = Lsc1\n",
    "x = no.arange(1, len(y) + 1)"
   ]
  },
  {
   "cell_type": "code",
   "execution_count": null,
   "id": "7290f1c3-4c55-44d9-ad9a-2156926d05ba",
   "metadata": {},
   "outputs": [],
   "source": [
    "fig, ax = plt.subplots()\n",
    "#plt.errorbar(x, y, yerr=dy, xerr=dx, fmt='-', ecolor='red')\n",
    "#ax.plot(x, y, 'r-')\n",
    "plt.scatter(x, y, marker='o')\n",
    "\n",
    "model1 = np.poly1d(np.polyfit(x, y, 1))\n",
    "\n",
    "polyline = np.linspace(0, len(x))\n",
    "plt.plot(polyline, model1(polyline), color = 'green', label=\"k = {: .4f}\".format(round(model1.c[0], 4)))\n",
    "\n",
    "\n",
    "#ax.set_title('График зависимости $ln(U)(t)$')\n",
    "plt.grid()\n",
    "\n",
    "plt.ylabel('$L$')\n",
    "plt.xlabel('$n$')\n",
    "\n",
    "plt.legend()\n",
    "print (model1)\n",
    "\n",
    "plt.show()\n",
    "#plt.savefig('plot1.png')"
   ]
  },
  {
   "cell_type": "code",
   "execution_count": null,
   "id": "9a538863-15f3-4067-ac19-157f0ddf661e",
   "metadata": {},
   "outputs": [],
   "source": [
    "lam1 = 2 * model1.c[0]\n",
    "lam1, fs[0] * lam1"
   ]
  },
  {
   "cell_type": "code",
   "execution_count": null,
   "id": "d259065c-8070-4531-93ad-b28593f59960",
   "metadata": {},
   "outputs": [],
   "source": [
    "lam2 = 2 * model1.c[0]\n",
    "lam2, fs[1] * lam2"
   ]
  },
  {
   "cell_type": "code",
   "execution_count": null,
   "id": "c929b455-3a78-464c-b9bb-5bcc78cfa5ba",
   "metadata": {},
   "outputs": [],
   "source": [
    "lam3 = 2 * model1.c[0]\n",
    "lam3, fs[2] * lam3"
   ]
  },
  {
   "cell_type": "code",
   "execution_count": null,
   "id": "515c9cde-e4a7-408a-b65e-d274aff9eaa9",
   "metadata": {},
   "outputs": [],
   "source": [
    "lam4 = 2 * model1.c[0]\n",
    "lam4, fs[3] * lam4"
   ]
  },
  {
   "cell_type": "markdown",
   "id": "41710356-d99c-430d-8a6e-62c8d05b10b2",
   "metadata": {},
   "source": [
    "## Experimental Data SETUP2"
   ]
  },
  {
   "cell_type": "code",
   "execution_count": null,
   "id": "6aec1962-8b33-4dcb-8feb-4bb5aa872291",
   "metadata": {},
   "outputs": [],
   "source": [
    "Dfs1 = []\n",
    "Dfs2 = []\n",
    "Dfs2 = []\n",
    "\n",
    "Ts = []"
   ]
  },
  {
   "cell_type": "code",
   "execution_count": null,
   "id": "e0e5ca32-0d76-4d43-bd05-66b1dbb820a1",
   "metadata": {},
   "outputs": [],
   "source": [
    "y = Dfs1\n",
    "x = no.arange(1, len(y) + 1)"
   ]
  },
  {
   "cell_type": "code",
   "execution_count": null,
   "id": "eb973b0c-5141-49c9-b41f-33a1f8340ed6",
   "metadata": {},
   "outputs": [],
   "source": [
    "fig, ax = plt.subplots()\n",
    "#plt.errorbar(x, y, yerr=dy, xerr=dx, fmt='-', ecolor='red')\n",
    "#ax.plot(x, y, 'r-')\n",
    "plt.scatter(x, y, marker='o')\n",
    "\n",
    "model1 = np.poly1d(np.polyfit(x, y, 1))\n",
    "\n",
    "polyline = np.linspace(0, len(x))\n",
    "plt.plot(polyline, model1(polyline), color = 'green', label=\"k = {: .4f}\".format(round(model1.c[0], 4)))\n",
    "\n",
    "\n",
    "#ax.set_title('График зависимости $ln(U)(t)$')\n",
    "plt.grid()\n",
    "\n",
    "plt.ylabel('$L$')\n",
    "plt.xlabel('$n$')\n",
    "\n",
    "plt.legend()\n",
    "print (model1)\n",
    "\n",
    "plt.show()\n",
    "#plt.savefig('plot1.png')"
   ]
  },
  {
   "cell_type": "code",
   "execution_count": null,
   "id": "ae49bc59-5b02-44e9-8cfe-d0da33a334ad",
   "metadata": {},
   "outputs": [],
   "source": [
    "c1 = 2 * L * model1.c[0]\n",
    "c1"
   ]
  },
  {
   "cell_type": "code",
   "execution_count": null,
   "id": "c62a8512-0a04-4a8d-ab62-f84b25fb847c",
   "metadata": {},
   "outputs": [],
   "source": [
    "c2 = 2 * L * model1.c[0]\n",
    "c2"
   ]
  },
  {
   "cell_type": "code",
   "execution_count": null,
   "id": "46a46e6e-41f8-425d-aeeb-767c4a25d764",
   "metadata": {},
   "outputs": [],
   "source": [
    "c3 = 2 * L * model1.c[0]\n",
    "c3"
   ]
  },
  {
   "cell_type": "code",
   "execution_count": null,
   "id": "1f1989e7-8707-46c2-8d7b-ffcd91bb7308",
   "metadata": {},
   "outputs": [],
   "source": []
  },
  {
   "cell_type": "code",
   "execution_count": null,
   "id": "509cecfe-2505-435a-a5c2-81533fb91423",
   "metadata": {},
   "outputs": [],
   "source": [
    "mu * c1 ** 2 / (Ts[0] * R)"
   ]
  },
  {
   "cell_type": "code",
   "execution_count": null,
   "id": "87ac0b7a-ecfc-47ee-a20b-3ced843a45e6",
   "metadata": {},
   "outputs": [],
   "source": [
    "mu * c2 ** 2 / (Ts[1] * R)"
   ]
  },
  {
   "cell_type": "code",
   "execution_count": null,
   "id": "b99142c4-aef6-4c02-a999-9ba4aad70a33",
   "metadata": {},
   "outputs": [],
   "source": [
    "mu * c3 ** 2 / (Ts[2] * R)"
   ]
  }
 ],
 "metadata": {
  "kernelspec": {
   "display_name": "Python 3 (ipykernel)",
   "language": "python",
   "name": "python3"
  },
  "language_info": {
   "codemirror_mode": {
    "name": "ipython",
    "version": 3
   },
   "file_extension": ".py",
   "mimetype": "text/x-python",
   "name": "python",
   "nbconvert_exporter": "python",
   "pygments_lexer": "ipython3",
   "version": "3.11.5"
  }
 },
 "nbformat": 4,
 "nbformat_minor": 5
}
