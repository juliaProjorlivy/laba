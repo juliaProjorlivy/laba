{
 "cells": [
  {
   "cell_type": "code",
   "execution_count": 92,
   "id": "11357b96-e197-4991-aef9-5b48e979fd59",
   "metadata": {},
   "outputs": [],
   "source": [
    "import matplotlib.pyplot as plt\n",
    "import numpy as np"
   ]
  },
  {
   "cell_type": "markdown",
   "id": "601c9ba2-f989-496a-bf2e-0f4cd5f155e7",
   "metadata": {},
   "source": [
    "## Experimental data"
   ]
  },
  {
   "cell_type": "code",
   "execution_count": 111,
   "id": "7bbbeeef-bc76-4a09-8b35-888eda09e132",
   "metadata": {},
   "outputs": [],
   "source": [
    "R = 8.31\n",
    "rho = 13600\n",
    "g = 9.8\n",
    "\n",
    "dd = 0.5 * 0.1 #cm\n",
    "dt = 0.01"
   ]
  },
  {
   "cell_type": "code",
   "execution_count": 122,
   "id": "8b886da7-519f-4cc6-b99e-18d359be50ac",
   "metadata": {},
   "outputs": [],
   "source": [
    "Pshot = np.array([7.585 - 5.85, 7.56 - 5.73, 7.76 - 5.61,\n",
    "                 7.85 - 5.55, 7.925 - 5.5, 8 - 5.44, 8.1 - 5.32, 8.22 - 5.25, 8.35 - 5.15,\n",
    "                 8.55 - 4.92, 8.8 - 4.7, 9.2 - 4.345]) # \n",
    "Tshot = np.array([23.14, 24, 27, 28, 29, 30, 31, 32, 33, 35, 37, 40])\n",
    "Tshot = [T+273 for T in Tshot]\n",
    "\n",
    "\n",
    "Pscold = np.array([8.955 - 4.55, 8.6 - 4.855, 8.38 - 5.05, 8.16 - 5.24,\n",
    "                  8 - 5.4, 7.83 - 5.55, 7.66 - 5.7])\n",
    "Tscold = np.array([37, 34, 32, 30, 28, 26, 24])\n",
    "Tscold = [T+273 for T in Tscold]"
   ]
  },
  {
   "cell_type": "code",
   "execution_count": 123,
   "id": "f32411b4-85be-43b2-85c6-6108c4736a19",
   "metadata": {},
   "outputs": [
    {
     "data": {
      "text/plain": [
       "array([44.05, 37.45, 33.3 , 29.2 , 26.  , 22.8 , 19.6 ])"
      ]
     },
     "execution_count": 123,
     "metadata": {},
     "output_type": "execute_result"
    }
   ],
   "source": [
    "Pscold* 10"
   ]
  },
  {
   "cell_type": "code",
   "execution_count": 124,
   "id": "8a416531-c43f-46a7-9494-8e7f63b8b69d",
   "metadata": {},
   "outputs": [
    {
     "data": {
      "text/plain": [
       "[0.5510074133988228,\n",
       " 0.6043159668533291,\n",
       " 0.7654678421395712,\n",
       " 0.8329091229351039,\n",
       " 0.8858315243894465,\n",
       " 0.9400072584914709,\n",
       " 1.0224509277025455,\n",
       " 1.0885619528146084,\n",
       " 1.1631508098056806,\n",
       " 1.2892326482767595,\n",
       " 1.4109869737102623,\n",
       " 1.5800091017432882]"
      ]
     },
     "execution_count": 124,
     "metadata": {},
     "output_type": "execute_result"
    }
   ],
   "source": [
    "[np.log(p) for p in Pshot]"
   ]
  },
  {
   "cell_type": "code",
   "execution_count": null,
   "id": "1a1c34b1-68aa-41ce-9359-5b569982fda6",
   "metadata": {},
   "outputs": [],
   "source": []
  },
  {
   "cell_type": "markdown",
   "id": "d9406923-4aed-4b7d-b460-31c5b7eb3236",
   "metadata": {},
   "source": [
    "## Plots"
   ]
  },
  {
   "cell_type": "code",
   "execution_count": 125,
   "id": "cd1806b8-035d-423b-bca7-5196830bcf6c",
   "metadata": {},
   "outputs": [],
   "source": [
    "xh = Tshot\n",
    "xc = Tscold\n",
    "\n",
    "yh = Pshot\n",
    "yc = Pscold\n",
    "\n",
    "dy = [dd for i in range(len(Tshot))]\n",
    "dx = [dt for i in range(len(Tshot))]"
   ]
  },
  {
   "cell_type": "code",
   "execution_count": 126,
   "id": "23c3ae54-44d2-414d-984f-6f95a6568ef3",
   "metadata": {},
   "outputs": [
    {
     "data": {
      "image/png": "[encoded data removed]",
      "text/plain": [
       "<Figure size 640x480 with 1 Axes>"
      ]
     },
     "metadata": {},
     "output_type": "display_data"
    }
   ],
   "source": [
    "fig, ax = plt.subplots()\n",
    "#plt.errorbar(xh, yh, yerr=dy, xerr=dx, fmt='-', ecolor='red')\n",
    "ax.plot(xh, yh, 'r^-')\n",
    "plt.scatter(xh, yh, marker='^')\n",
    "\n",
    "model1 = np.poly1d(np.polyfit(xh[:2], yh[:2], 1))\n",
    "model2 = np.poly1d(np.polyfit(xh[2:4], yh[2:4], 1))\n",
    "model3 = np.poly1d(np.polyfit(xh[4:6], yh[4:6], 1))\n",
    "model4 = np.poly1d(np.polyfit(xh[6:8], yh[6:8], 1))\n",
    "model5 = np.poly1d(np.polyfit(xh[8:10], yh[8:10], 1))\n",
    "model6 = np.poly1d(np.polyfit(xh[10:12], yh[10:12], 1))\n",
    "#polyline = np.linspace(294, 315)\n",
    "plt.plot(polyline, model1(polyline), color = 'green')\n",
    "\n",
    "ax.plot(xc, yc, 'bo-')\n",
    "plt.scatter(xc, yc, color=\"blue\")\n",
    "\n",
    "ax.set_title('График зависимости $P (T)$')\n",
    "plt.grid()\n",
    "\n",
    "plt.legend (('hot', 'cold'))\n",
    "\n",
    "plt.xlabel('$T$, K')\n",
    "plt.ylabel('$P$, см.рт.ст')\n",
    "\n",
    "plt.show()\n",
    "#plt.savefig('simpleplot.png')"
   ]
  },
  {
   "cell_type": "code",
   "execution_count": 117,
   "id": "baf4f9c3-3ba9-40eb-9736-2fdccd592be4",
   "metadata": {},
   "outputs": [
    {
     "name": "stdout",
     "output_type": "stream",
     "text": [
      "[296.57, 300.5, 302.5, 304.5, 307.0, 311.5]\n"
     ]
    }
   ],
   "source": [
    "models = [model1.c[0], (model2.c)[0], model3.c[0], model4.c[0], \n",
    "          model5.c[0], model6.c[0]]\n",
    "\n",
    "Tsav = [0.5 * (Tshot[i] + Tshot[i+1]) for i in range(0, 12, 2)]\n",
    "print(Tsav)\n",
    "Psav = [0.5 * (Pshot[i] + Pshot[i+1]) for i in range(0, 12, 2)]\n",
    "Lsh = [models[i] * 0.1 * g * rho * R * Tsav[i]**2 / (Psav[i]) for i in range(len(Tsav))]"
   ]
  },
  {
   "cell_type": "code",
   "execution_count": 118,
   "id": "6f7567fb-4fee-43e9-ac91-dea25071a33a",
   "metadata": {},
   "outputs": [
    {
     "data": {
      "text/plain": [
       "[603692885.4859908,\n",
       " 674242624.2418976,\n",
       " 548927978.8585925,\n",
       " 678666408.4586589,\n",
       " 657189340.5940671,\n",
       " 604049059.1597642]"
      ]
     },
     "execution_count": 118,
     "metadata": {},
     "output_type": "execute_result"
    }
   ],
   "source": [
    "Lsh"
   ]
  },
  {
   "cell_type": "code",
   "execution_count": 119,
   "id": "17c292fb-44fd-46a7-bb99-4416062e82d5",
   "metadata": {},
   "outputs": [
    {
     "name": "stdout",
     "output_type": "stream",
     "text": [
      " \n",
      "0.1105 x - 30.98\n"
     ]
    }
   ],
   "source": [
    "print(model1)"
   ]
  },
  {
   "cell_type": "code",
   "execution_count": 120,
   "id": "9df06bc2-f971-46c0-a7e5-abc11f32cc72",
   "metadata": {},
   "outputs": [],
   "source": [
    "xh = [1000000/T for T in Tshot]\n",
    "yh = [np.log(P * 0.1 * g * rho) for P in Pshot]\n",
    "\n",
    "xc = [1000000/T for T in Tscold]\n",
    "yc = [np.log(P * 0.1 * g * rho) for P in Pscold]\n",
    "\n",
    "dyh = [dd/p for p in Pshot]\n",
    "dxh = [dt*x for x in xh]\n",
    "\n",
    "dxc = [dt*x for x in xc]\n",
    "dyc = [dd/p for p in Pscold]"
   ]
  },
  {
   "cell_type": "code",
   "execution_count": 121,
   "id": "697ffe75-6b2c-4ba3-b7e2-00b08a2bf4b7",
   "metadata": {},
   "outputs": [
    {
     "name": "stdout",
     "output_type": "stream",
     "text": [
      "mhot =   \n",
      "-0.005758 x + 29.47\n",
      "mcold =   \n",
      "-0.005712 x + 29.42\n"
     ]
    },
    {
     "data": {
      "image/png": "[encoded data removed]",
      "text/plain": [
       "<Figure size 640x480 with 1 Axes>"
      ]
     },
     "metadata": {},
     "output_type": "display_data"
    }
   ],
   "source": [
    "fig, ax = plt.subplots()\n",
    "#ax.plot(xh, yh, 'r^-')\n",
    "#plt.errorbar(xh, yh, yerr=dyh, xerr=dxh, fmt='-', ecolor='red')\n",
    "plt.scatter(xh, yh, color=\"red\", marker='^')\n",
    "\n",
    "#ax.plot(xc, yc, 'bo-')\n",
    "plt.scatter(xc, yc, color=\"blue\")\n",
    "ax.set_title('График зависимости $\\ln P (1/T)$')\n",
    "plt.grid()\n",
    "\n",
    "\n",
    "model1 = np.poly1d(np.polyfit(xh, yh, 1))\n",
    "polyline = np.linspace(3150, 3400)\n",
    "plt.plot(polyline, model1(polyline), color = 'red')\n",
    "\n",
    "model2 = np.poly1d(np.polyfit(xc, yc, 1))\n",
    "plt.plot(polyline, model2(polyline), color = 'blue')\n",
    "\n",
    "\n",
    "plt.xlabel('$1/T$ $1/K \\cdot 10^6$')\n",
    "plt.ylabel('$\\ln P, \\ln(Па)$')\n",
    "\n",
    "plt.legend (('hot', 'cold'))\n",
    "\n",
    "print(\"mhot = \", model1)\n",
    "print(\"mcold = \", model2)\n",
    "\n",
    "plt.show()\n",
    "#plt.savefig('complexplot.png')"
   ]
  },
  {
   "cell_type": "code",
   "execution_count": 110,
   "id": "3510262c-1bb1-43a3-92e0-462efda5e09b",
   "metadata": {},
   "outputs": [
    {
     "data": {
      "text/plain": [
       "(47848.98, 47466.72)"
      ]
     },
     "execution_count": 110,
     "metadata": {},
     "output_type": "execute_result"
    }
   ],
   "source": [
    "Lhot = R * 0.005758 * 10**6\n",
    "Lcold  = R * 0.005712 * 10**6\n",
    "Lhot, Lcold"
   ]
  },
  {
   "cell_type": "code",
   "execution_count": 107,
   "id": "c9b36fa9-22e9-40b2-bc9e-5c8e3219efce",
   "metadata": {},
   "outputs": [
    {
     "data": {
      "text/plain": [
       "47848.98"
      ]
     },
     "execution_count": 107,
     "metadata": {},
     "output_type": "execute_result"
    }
   ],
   "source": [
    "5758 * R"
   ]
  },
  {
   "cell_type": "code",
   "execution_count": null,
   "id": "85a0f29b-eb94-44d3-83eb-9f3434c23be9",
   "metadata": {},
   "outputs": [],
   "source": []
  }
 ],
 "metadata": {
  "kernelspec": {
   "display_name": "Python 3 (ipykernel)",
   "language": "python",
   "name": "python3"
  },
  "language_info": {
   "codemirror_mode": {
    "name": "ipython",
    "version": 3
   },
   "file_extension": ".py",
   "mimetype": "text/x-python",
   "name": "python",
   "nbconvert_exporter": "python",
   "pygments_lexer": "ipython3",
   "version": "3.11.5"
  }
 },
 "nbformat": 4,
 "nbformat_minor": 5
}
