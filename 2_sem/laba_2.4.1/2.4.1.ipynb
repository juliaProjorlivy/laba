{
 "cells": [
  {
   "cell_type": "code",
   "execution_count": null,
   "id": "11357b96-e197-4991-aef9-5b48e979fd59",
   "metadata": {},
   "outputs": [],
   "source": [
    "import matplotlib.pyplot as plt\n",
    "import numpy as np"
   ]
  },
  {
   "cell_type": "markdown",
   "id": "601c9ba2-f989-496a-bf2e-0f4cd5f155e7",
   "metadata": {},
   "source": [
    "## Experimental data"
   ]
  },
  {
   "cell_type": "code",
   "execution_count": null,
   "id": "7bbbeeef-bc76-4a09-8b35-888eda09e132",
   "metadata": {},
   "outputs": [],
   "source": [
    "R = 8.31"
   ]
  },
  {
   "cell_type": "code",
   "execution_count": null,
   "id": "8b886da7-519f-4cc6-b99e-18d359be50ac",
   "metadata": {},
   "outputs": [],
   "source": [
    "Pshot = np.array([])\n",
    "Tshot = np.array([])\n",
    "\n",
    "Pscold = np.array([])\n",
    "Tscold = np.array([])"
   ]
  },
  {
   "cell_type": "markdown",
   "id": "d9406923-4aed-4b7d-b460-31c5b7eb3236",
   "metadata": {},
   "source": [
    "## Plots"
   ]
  },
  {
   "cell_type": "code",
   "execution_count": null,
   "id": "cd1806b8-035d-423b-bca7-5196830bcf6c",
   "metadata": {},
   "outputs": [],
   "source": [
    "x = Tshot\n",
    "y = Tscold"
   ]
  },
  {
   "cell_type": "code",
   "execution_count": null,
   "id": "23c3ae54-44d2-414d-984f-6f95a6568ef3",
   "metadata": {},
   "outputs": [],
   "source": [
    "fig, ax = plt.subplots()\n",
    "#plt.errorbar(Ts, sigmas, yerr=dsigmas, fmt='o', ecolor='red')\n",
    "ax.plot(Ts, sigmas, 'bo-')\n",
    "plt.scatter(Ts, sigmas, color=\"blue\")\n",
    "ax.set_title('График зависимости $P (T)$')\n",
    "plt.grid()\n",
    "\n",
    "\n",
    "plt.xlabel('$T$')\n",
    "plt.ylabel('$P$')\n",
    "\n",
    "plt.show()"
   ]
  },
  {
   "cell_type": "code",
   "execution_count": null,
   "id": "9df06bc2-f971-46c0-a7e5-abc11f32cc72",
   "metadata": {},
   "outputs": [],
   "source": [
    "x = [1/T for T in Tshot]\n",
    "y = "
   ]
  },
  {
   "cell_type": "code",
   "execution_count": null,
   "id": "697ffe75-6b2c-4ba3-b7e2-00b08a2bf4b7",
   "metadata": {},
   "outputs": [],
   "source": [
    "fig, ax = plt.subplots()\n",
    "plt.errorbar(x, y,  fmt='o', ecolor='red')\n",
    "#ax.plot(Ts, sigmas, 'bo-')\n",
    "plt.scatter(Ts, sigmas, color=\"blue\")\n",
    "ax.set_title('График зависимости $\\ln P (1/T)$')\n",
    "plt.grid()\n",
    "\n",
    "\n",
    "\n",
    "model1 = np.poly1d(np.polyfit(x, y, 1))\n",
    "polyline = np.linspace(25, 40)\n",
    "plt.plot(polyline, model1(polyline), color = 'blue', label='k1 = 0.00022')\n",
    "\n",
    "\n",
    "plt.xlabel('$1/T$')\n",
    "plt.ylabel('$\\ln P$')\n",
    "\n",
    "plt.show()"
   ]
  }
 ],
 "metadata": {
  "kernelspec": {
   "display_name": "Python 3 (ipykernel)",
   "language": "python",
   "name": "python3"
  },
  "language_info": {
   "codemirror_mode": {
    "name": "ipython",
    "version": 3
   },
   "file_extension": ".py",
   "mimetype": "text/x-python",
   "name": "python",
   "nbconvert_exporter": "python",
   "pygments_lexer": "ipython3",
   "version": "3.11.5"
  }
 },
 "nbformat": 4,
 "nbformat_minor": 5
}
