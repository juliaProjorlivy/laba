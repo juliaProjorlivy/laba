{
 "cells": [
  {
   "cell_type": "code",
   "execution_count": null,
   "id": "e5af1a4c-2690-4c92-8f99-1c40e8933535",
   "metadata": {},
   "outputs": [],
   "source": [
    "import matplotlib.pyplot as plt\n",
    "import numpy as np"
   ]
  },
  {
   "cell_type": "markdown",
   "id": "9b86566c-def7-4709-9f1f-3e38c4a73311",
   "metadata": {},
   "source": [
    "# Data"
   ]
  },
  {
   "cell_type": "code",
   "execution_count": null,
   "id": "6cf27824-ccc7-44db-a437-a22a857dec7e",
   "metadata": {},
   "outputs": [],
   "source": [
    "kP = 133.3\n",
    "dP = #torr\n",
    "Psum = \n",
    "U0 = "
   ]
  },
  {
   "cell_type": "markdown",
   "id": "7e2d31af-d128-4571-a900-549c934a960b",
   "metadata": {},
   "source": [
    "# Experiment Data"
   ]
  },
  {
   "cell_type": "code",
   "execution_count": null,
   "id": "6d9bdb64-a65c-4a4d-b49d-f19b9d80bf8d",
   "metadata": {},
   "outputs": [],
   "source": [
    "ts1 = [i * 10 for i in range(n)]\n",
    "Us1 = []\n",
    "\n",
    "ts2 = [i * 10 for i in range(n)]\n",
    "Us2 = []\n",
    "\n",
    "ts3 = [i * 10 for i in range(n)]\n",
    "Us3 = []\n",
    "\n",
    "ts4 = [i * 10 for i in range(n)]\n",
    "Us4 = []\n",
    "\n",
    "ts5 = [i * 10 for i in range(n)]\n",
    "Us5 = []\n",
    "\n",
    "ts6 = [i * 10 for i in range(n)]\n",
    "Us6 = []\n",
    "\n",
    "Ps = []"
   ]
  },
  {
   "cell_type": "markdown",
   "id": "9b9058a8-c617-402b-8a91-b1241ed4e211",
   "metadata": {},
   "source": [
    "# Plot1"
   ]
  },
  {
   "cell_type": "code",
   "execution_count": 1,
   "id": "e2839ff6-36e4-4e85-8806-4fe7bebe03a0",
   "metadata": {},
   "outputs": [
    {
     "ename": "NameError",
     "evalue": "name 'ts1' is not defined",
     "output_type": "error",
     "traceback": [
      "\u001b[0;31m---------------------------------------------------------------------------\u001b[0m",
      "\u001b[0;31mNameError\u001b[0m                                 Traceback (most recent call last)",
      "Cell \u001b[0;32mIn[1], line 1\u001b[0m\n\u001b[0;32m----> 1\u001b[0m x \u001b[38;5;241m=\u001b[39m \u001b[43mts1\u001b[49m\n\u001b[1;32m      2\u001b[0m y \u001b[38;5;241m=\u001b[39m [np\u001b[38;5;241m.\u001b[39mlog(U \u001b[38;5;241m/\u001b[39m U0) \u001b[38;5;28;01mfor\u001b[39;00m U \u001b[38;5;129;01min\u001b[39;00m Us1]\n\u001b[1;32m      4\u001b[0m x \u001b[38;5;241m=\u001b[39m ts1\n",
      "\u001b[0;31mNameError\u001b[0m: name 'ts1' is not defined"
     ]
    }
   ],
   "source": [
    "x1 = ts1\n",
    "y1 = [np.log(U / U0) for U in Us1]\n",
    "\n",
    "x2 = ts2\n",
    "y2 = [np.log(U / U0) for U in Us2]\n",
    "\n",
    "x3 = ts1\n",
    "y3 = [np.log(U / U0) for U in Us3]\n",
    "\n",
    "x4 = ts4\n",
    "y4 = [np.log(U / U0) for U in Us4]\n",
    "\n",
    "x5 = ts5\n",
    "y5 = [np.log(U / U0) for U in Us5]\n",
    "\n",
    "x6 = ts6\n",
    "y6 = [np.log(U / U0) for U in Us6]"
   ]
  },
  {
   "cell_type": "code",
   "execution_count": null,
   "id": "50d13912-eb11-45d5-9a1a-7eede1bf762d",
   "metadata": {},
   "outputs": [],
   "source": [
    "fig, ax = plt.subplots()\n",
    "#plt.errorbar(xh, yh, yerr=dy, xerr=dx, fmt='-', ecolor='red')\n",
    "ax.plot(x1, y1, 'r^-')\n",
    "plt.scatter(x1, y1, marker='^')\n",
    "\n",
    "model1 = np.poly1d(np.polyfit(x1, y1))\n",
    "model2 = np.poly1d(np.polyfit(x2, y2))\n",
    "model3 = np.poly1d(np.polyfit(x3, y3))\n",
    "model4 = np.poly1d(np.polyfit(x4, y4))\n",
    "model5 = np.poly1d(np.polyfit(x5, y5))\n",
    "model6 = np.poly1d(np.polyfit(x6, y6))\n",
    "\n",
    "polyline = np.linspace(294, 315)\n",
    "plt.plot(polyline, model1(polyline), color = 'green')\n",
    "\n",
    "\n",
    "ax.set_title('График зависимости $ln(U / U0)(t)$')\n",
    "plt.grid()\n",
    "\n",
    "plt.xlabel('$ln(U / U_0)$')\n",
    "plt.ylabel('$t$, с')\n",
    "\n",
    "plt.show()\n",
    "#plt.savefig('simpleplot.png')"
   ]
  },
  {
   "cell_type": "code",
   "execution_count": null,
   "id": "d06f9368-0364-4f01-8e9d-87d0330232eb",
   "metadata": {},
   "outputs": [],
   "source": [
    "models = [model1.c[0], model2.c[0], model3.c[0],\n",
    "          model4.c[0], model5.c[0], model6.c[0])\n",
    "taus = [-1 / model for model in models]\n",
    "Ds = [V * L / (2 * S * tau) for tau in taus]"
   ]
  },
  {
   "cell_type": "markdown",
   "id": "684aaa6a-777c-42d9-99af-2e91769ee5f0",
   "metadata": {},
   "source": [
    "# Plot2"
   ]
  },
  {
   "cell_type": "code",
   "execution_count": null,
   "id": "c41e853e-6569-4259-a28d-6b43db4a3f39",
   "metadata": {},
   "outputs": [],
   "source": [
    "x = [1 / P for P in Ps]\n",
    "y = Ds"
   ]
  },
  {
   "cell_type": "code",
   "execution_count": null,
   "id": "40a0721e-9e8b-4147-b64c-a00112c2439e",
   "metadata": {},
   "outputs": [],
   "source": [
    "fig, ax = plt.subplots()\n",
    "#plt.errorbar(xh, yh, yerr=dy, xerr=dx, fmt='-', ecolor='red')\n",
    "ax.plot(x, y, 'r^-')\n",
    "plt.scatter(x, y, marker='^')\n",
    "\n",
    "model1 = np.poly1d(np.polyfit(x, y))\n",
    "polyline = np.linspace(294, 315)\n",
    "plt.plot(polyline, model1(polyline), color = 'green')\n",
    "\n",
    "\n",
    "ax.set_title('График зависимости $D(1/P)$')\n",
    "plt.grid()\n",
    "\n",
    "plt.xlabel('$D(1 / P)$')\n",
    "plt.ylabel('$P$, торр')\n",
    "\n",
    "plt.show()"
   ]
  }
 ],
 "metadata": {
  "kernelspec": {
   "display_name": "Python 3 (ipykernel)",
   "language": "python",
   "name": "python3"
  },
  "language_info": {
   "codemirror_mode": {
    "name": "ipython",
    "version": 3
   },
   "file_extension": ".py",
   "mimetype": "text/x-python",
   "name": "python",
   "nbconvert_exporter": "python",
   "pygments_lexer": "ipython3",
   "version": "3.11.5"
  }
 },
 "nbformat": 4,
 "nbformat_minor": 5
}
